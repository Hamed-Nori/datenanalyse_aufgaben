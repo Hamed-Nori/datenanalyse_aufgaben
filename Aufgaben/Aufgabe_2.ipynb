{
 "cells": [
  {
   "cell_type": "markdown",
   "id": "bde7c884",
   "metadata": {},
   "source": [
    "# Aufgabe 2: The World of Fashion\n",
    "\n",
    "## 📜 Datensatzübersicht\n",
    "\n",
    "Dieser Datensatz enthält **3.400 Datensätze** zu Modeeinzelhandelsumsätzen und erfasst verschiedene Details zu Kundenkäufen, darunter Artikeldetails, Kaufbeträge, Bewertungen und Zahlungsmethoden. \n",
    "Er ist nützlich für die Analyse des Kundenkaufverhaltens, der Produktpopularität und der Zahlungspräferenzen.\n",
    "\n",
    "## 🔍 Wichtige Erkenntnisse\n",
    "\n",
    "- Der Datensatz enthält **3.400 Transaktionen**.\n",
    "- Fehlende Werte:\n",
    "  - **Purchase Amount (USD)**: 650 fehlende Werte\n",
    "  - **Review Rating**: 324 fehlende Werte\n",
    "- **Payment Method** umfasst mehrere Kategorien (ermöglicht Analyse der Zahlungstrends).\n",
    "- **Date Purchase** liegt im Format **TT-MM-JJJJ** vor (geeignet für Zeitreihenanalyse).\n",
    "- Der Datensatz eignet sich zur Analyse von **Verkaufstrends**, **Kundenpräferenzen** und **Zahlungsverhalten** im Modeeinzelhandel.\n",
    "\n",
    "## 📊 Mögliche Anwendungsfälle\n",
    "\n",
    "- **Verkaufsanalyse**: Verstehen, welche Modeartikel sich am besten verkaufen.\n",
    "- **Kundeneinblicke**: Analyse des Kaufverhaltens und der Ausgabemuster.\n",
    "- **Trendprognose**: Erkennen saisonaler Trends im Modeeinzelhandel.\n",
    "- **Bevorzugte Zahlungsmethoden**: Verstehen, wie Kunden am liebsten bezahlen.\n",
    "\n",
    "## 📂 Spaltenbeschreibung\n",
    "\n",
    "| Spaltenname               | Datentyp       | Beschreibung |\n",
    "|----------------------------|----------------|--------------|\n",
    "| Customer Reference ID     | Ganze Zahl     | Eindeutige Kennung für jeden Kunden |\n",
    "| Item Purchased             | Zeichenfolge   | Name des gekauften Modeartikels |\n",
    "| Purchase Amount (USD)      | Schwimmzahl    | Kaufpreis des Artikels in USD (650 fehlende Werte) |\n",
    "| Date Purchase              | Zeichenfolge   | Datum des Kaufs (Format: TT-MM-JJJJ) |\n",
    "| Review Rating              | Schwimmzahl    | Kundenbewertung (Skala 1 bis 5; 324 fehlende Werte) |\n",
    "| Payment Method             | Zeichenfolge   | Verwendete Zahlungsmethode (z. B. Kreditkarte, Bargeld) |\n",
    "\n",
    "---\n",
    "\n",
    "## ✅ Aufgabenstellung\n",
    "\n",
    "- Lade den Datensatz in Pandas.\n",
    "- Verschaffe dir einen ersten Überblick (Anzahl Zeilen/Spalten, Spaltennamen, fehlende Werte).\n",
    "- Konvertiere das Kaufdatum (`Date Purchase`) in ein Datumstyp-Format.\n",
    "- Berechne Durchschnittswerte für Kaufbeträge und Bewertungen.\n",
    "- Finde die beliebtesten Artikel und Zahlungsmethoden.\n",
    "- Erstelle verschiedene Visualisierungen (Balkendiagramme, Kuchendiagramme, Histogramme, Zeitreihendiagramme).\n",
    "- Untersuche Zusammenhänge zwischen Kaufbetrag und Bewertung.\n",
    "- Analysiere saisonale Trends und segmentiere Kunden basierend auf ihrem Kaufverhalten.\n",
    "\n",
    "---\n",
    "\n",
    "> **Hinweis**: Führe alle Analysen schrittweise durch, erkläre deine Vorgehensweise mit kurzen Kommentaren und beschrifte deine Diagramme verständlich!\n",
    "\n",
    "---\n",
    "\n",
    "**Viel Erfolg!** 🚀\n"
   ]
  },
  {
   "cell_type": "code",
   "execution_count": 1,
   "id": "1b3d589d",
   "metadata": {},
   "outputs": [
    {
     "name": "stdout",
     "output_type": "stream",
     "text": [
      "Hello World!\n"
     ]
    }
   ],
   "source": [
    "# Testen ob Jupyter Notebook funktioniert\n",
    "\n",
    "print(\"Hello World!\")"
   ]
  },
  {
   "cell_type": "code",
   "execution_count": 4,
   "id": "26d39bb9",
   "metadata": {},
   "outputs": [],
   "source": [
    "# erforderliche Bibliotheken\n",
    "\n",
    "import pandas as pd\n",
    "import plotly.express as px "
   ]
  },
  {
   "cell_type": "code",
   "execution_count": 6,
   "id": "538c134b",
   "metadata": {},
   "outputs": [],
   "source": [
    "# Laden die CSV Datei hoch (Fashion_Retail_Sales)\n",
    "df = pd.read_csv(\"../data/Fashion_Retail_Sales.csv\")"
   ]
  },
  {
   "cell_type": "code",
   "execution_count": null,
   "id": "ebcc34cd",
   "metadata": {},
   "outputs": [
    {
     "name": "stdout",
     "output_type": "stream",
     "text": [
      "['Customer Reference ID', 'Item Purchased', 'Purchase Amount (USD)', 'Date Purchase', 'Review Rating', 'Payment Method']\n"
     ]
    }
   ],
   "source": [
    "# Spaltennamen auslesen\n",
    "# Google Schlagwörter: how to get columns names in pandas\n",
    "# Beispielsquelle: https://www.boardinfinity.com/blog/how-to-get-column-names-in-pandas/\n",
    "print(df.columns.to_list())\n"
   ]
  },
  {
   "cell_type": "code",
   "execution_count": null,
   "id": "022ff785",
   "metadata": {},
   "outputs": [
    {
     "name": "stdout",
     "output_type": "stream",
     "text": [
      "      customer_id Item Purchased  Purchase Amount (USD) Date Purchase  \\\n",
      "0            4018        Handbag                 4619.0    05-02-2023   \n",
      "1            4115          Tunic                 2456.0    11-07-2023   \n",
      "2            4019       Tank Top                 2102.0    23-03-2023   \n",
      "3            4097       Leggings                 3126.0    15-03-2023   \n",
      "4            3997         Wallet                 3003.0    27-11-2022   \n",
      "...           ...            ...                    ...           ...   \n",
      "3395         4118         Shorts                   37.0    09-07-2023   \n",
      "3396         4056       Slippers                  176.0    16-03-2023   \n",
      "3397         3991         Onesie                    NaN    03-10-2022   \n",
      "3398         4042        Sandals                  128.0    01-01-2023   \n",
      "3399         4001       Backpack                  115.0    22-03-2023   \n",
      "\n",
      "      Review Rating Payment Method  \n",
      "0               NaN    Credit Card  \n",
      "1               2.0    Credit Card  \n",
      "2               4.1           Cash  \n",
      "3               3.2           Cash  \n",
      "4               4.7           Cash  \n",
      "...             ...            ...  \n",
      "3395            2.7           Cash  \n",
      "3396            2.5           Cash  \n",
      "3397            2.4    Credit Card  \n",
      "3398            1.8           Cash  \n",
      "3399            1.4           Cash  \n",
      "\n",
      "[3400 rows x 6 columns]\n"
     ]
    }
   ],
   "source": [
    "# Ändere die Spaltennamen zur ['customer id', 'item name', 'amount_usd', 'date', 'review_rating', 'payment_method']\n",
    "# Googleschlagwörter: how to change csv column name in pandas\n",
    "#Beispielsquelle: https://www.geeksforgeeks.org/rename-column-name-with-an-index-number-of-the-csv-file-in-pandas/\n",
    "\n",
    "df = df.rename(columns={df.columns[0]:\"customer id\"})\n"
   ]
  }
 ],
 "metadata": {
  "kernelspec": {
   "display_name": ".venv",
   "language": "python",
   "name": "python3"
  },
  "language_info": {
   "codemirror_mode": {
    "name": "ipython",
    "version": 3
   },
   "file_extension": ".py",
   "mimetype": "text/x-python",
   "name": "python",
   "nbconvert_exporter": "python",
   "pygments_lexer": "ipython3",
   "version": "3.12.10"
  }
 },
 "nbformat": 4,
 "nbformat_minor": 5
}
