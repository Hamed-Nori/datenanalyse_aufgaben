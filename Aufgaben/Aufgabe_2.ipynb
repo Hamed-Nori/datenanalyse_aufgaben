{
 "cells": [
  {
   "cell_type": "markdown",
   "id": "bde7c884",
   "metadata": {},
   "source": [
    "# Aufgabe 2: The World of Fashion\n",
    "\n",
    "## 📜 Datensatzübersicht\n",
    "\n",
    "Dieser Datensatz enthält **3.400 Datensätze** zu Modeeinzelhandelsumsätzen und erfasst verschiedene Details zu Kundenkäufen, darunter Artikeldetails, Kaufbeträge, Bewertungen und Zahlungsmethoden. \n",
    "Er ist nützlich für die Analyse des Kundenkaufverhaltens, der Produktpopularität und der Zahlungspräferenzen.\n",
    "\n",
    "## 🔍 Wichtige Erkenntnisse\n",
    "\n",
    "- Der Datensatz enthält **3.400 Transaktionen**.\n",
    "- Fehlende Werte:\n",
    "  - **Purchase Amount (USD)**: 650 fehlende Werte\n",
    "  - **Review Rating**: 324 fehlende Werte\n",
    "- **Payment Method** umfasst mehrere Kategorien (ermöglicht Analyse der Zahlungstrends).\n",
    "- **Date Purchase** liegt im Format **TT-MM-JJJJ** vor (geeignet für Zeitreihenanalyse).\n",
    "- Der Datensatz eignet sich zur Analyse von **Verkaufstrends**, **Kundenpräferenzen** und **Zahlungsverhalten** im Modeeinzelhandel.\n",
    "\n",
    "## 📊 Mögliche Anwendungsfälle\n",
    "\n",
    "- **Verkaufsanalyse**: Verstehen, welche Modeartikel sich am besten verkaufen.\n",
    "- **Kundeneinblicke**: Analyse des Kaufverhaltens und der Ausgabemuster.\n",
    "- **Trendprognose**: Erkennen saisonaler Trends im Modeeinzelhandel.\n",
    "- **Bevorzugte Zahlungsmethoden**: Verstehen, wie Kunden am liebsten bezahlen.\n",
    "\n",
    "## 📂 Spaltenbeschreibung\n",
    "\n",
    "| Spaltenname               | Datentyp       | Beschreibung |\n",
    "|----------------------------|----------------|--------------|\n",
    "| Customer Reference ID     | Ganze Zahl     | Eindeutige Kennung für jeden Kunden |\n",
    "| Item Purchased             | Zeichenfolge   | Name des gekauften Modeartikels |\n",
    "| Purchase Amount (USD)      | Schwimmzahl    | Kaufpreis des Artikels in USD (650 fehlende Werte) |\n",
    "| Date Purchase              | Zeichenfolge   | Datum des Kaufs (Format: TT-MM-JJJJ) |\n",
    "| Review Rating              | Schwimmzahl    | Kundenbewertung (Skala 1 bis 5; 324 fehlende Werte) |\n",
    "| Payment Method             | Zeichenfolge   | Verwendete Zahlungsmethode (z. B. Kreditkarte, Bargeld) |\n",
    "\n",
    "---\n",
    "\n",
    "## ✅ Aufgabenstellung\n",
    "\n",
    "- Lade den Datensatz in Pandas.\n",
    "- Verschaffe dir einen ersten Überblick (Anzahl Zeilen/Spalten, Spaltennamen, fehlende Werte).\n",
    "- Konvertiere das Kaufdatum (`Date Purchase`) in ein Datumstyp-Format.\n",
    "- Berechne Durchschnittswerte für Kaufbeträge und Bewertungen.\n",
    "- Finde die beliebtesten Artikel und Zahlungsmethoden.\n",
    "- Erstelle verschiedene Visualisierungen (Balkendiagramme, Kuchendiagramme, Histogramme, Zeitreihendiagramme).\n",
    "- Untersuche Zusammenhänge zwischen Kaufbetrag und Bewertung.\n",
    "- Analysiere saisonale Trends und segmentiere Kunden basierend auf ihrem Kaufverhalten.\n",
    "\n",
    "---\n",
    "\n",
    "> **Hinweis**: Führe alle Analysen schrittweise durch, erkläre deine Vorgehensweise mit kurzen Kommentaren und beschrifte deine Diagramme verständlich!\n",
    "\n",
    "---\n",
    "\n",
    "**Viel Erfolg!** 🚀\n"
   ]
  },
  {
   "cell_type": "code",
   "execution_count": 1,
   "id": "1b3d589d",
   "metadata": {},
   "outputs": [
    {
     "name": "stdout",
     "output_type": "stream",
     "text": [
      "Hello World!\n"
     ]
    }
   ],
   "source": [
    "# Testen ob Jupyter Notebook funktioniert\n",
    "\n",
    "print(\"Hello World!\")"
   ]
  },
  {
   "cell_type": "code",
   "execution_count": 4,
   "id": "26d39bb9",
   "metadata": {},
   "outputs": [],
   "source": [
    "# erforderliche Bibliotheken\n",
    "\n",
    "import pandas as pd\n",
    "import plotly.express as px "
   ]
  },
  {
   "cell_type": "code",
   "execution_count": 6,
   "id": "538c134b",
   "metadata": {},
   "outputs": [],
   "source": [
    "# Laden die CSV Datei hoch (Fashion_Retail_Sales)\n",
    "df = pd.read_csv(\"../data/Fashion_Retail_Sales.csv\")"
   ]
  },
  {
   "cell_type": "code",
   "execution_count": null,
   "id": "ebcc34cd",
   "metadata": {},
   "outputs": [
    {
     "name": "stdout",
     "output_type": "stream",
     "text": [
      "['Customer Reference ID', 'Item Purchased', 'Purchase Amount (USD)', 'Date Purchase', 'Review Rating', 'Payment Method']\n"
     ]
    }
   ],
   "source": [
    "# Spaltennamen auslesen\n",
    "# Google Schlagwörter: how to get columns names in pandas\n",
    "# Beispielsquelle: https://www.boardinfinity.com/blog/how-to-get-column-names-in-pandas/\n",
    "print(df.columns.to_list())\n"
   ]
  },
  {
   "cell_type": "code",
   "execution_count": null,
   "id": "022ff785",
   "metadata": {},
   "outputs": [
    {
     "name": "stdout",
     "output_type": "stream",
     "text": [
      "['customer id', 'item name', 'amount usd', 'date', 'review rating', 'payment method']\n"
     ]
    }
   ],
   "source": [
    "# Ändere die Spaltennamen zur ['customer id', 'item name', 'amount usd', 'date', 'review rating', 'payment method']\n",
    "# Googleschlagwörter: how to change csv column name in pandas\n",
    "#Beispielsquelle: https://www.geeksforgeeks.org/rename-column-name-with-an-index-number-of-the-csv-file-in-pandas/\n",
    "\n",
    "df = df.rename(columns={df.columns[0]:\"customer id\", df.columns[1]:'item name', df.columns[2]:'amount usd', df.columns[3]:'date', df.columns[4]:'review rating'\n",
    "                        ,df.columns[5]:'payment method'})\n",
    "print(df.columns.to_list())\n",
    "\n",
    "\n"
   ]
  },
  {
   "cell_type": "code",
   "execution_count": null,
   "id": "af8344e1",
   "metadata": {},
   "outputs": [
    {
     "data": {
      "text/html": [
       "<div>\n",
       "<style scoped>\n",
       "    .dataframe tbody tr th:only-of-type {\n",
       "        vertical-align: middle;\n",
       "    }\n",
       "\n",
       "    .dataframe tbody tr th {\n",
       "        vertical-align: top;\n",
       "    }\n",
       "\n",
       "    .dataframe thead th {\n",
       "        text-align: right;\n",
       "    }\n",
       "</style>\n",
       "<table border=\"1\" class=\"dataframe\">\n",
       "  <thead>\n",
       "    <tr style=\"text-align: right;\">\n",
       "      <th></th>\n",
       "      <th>customer id</th>\n",
       "      <th>item name</th>\n",
       "      <th>amount usd</th>\n",
       "      <th>date</th>\n",
       "      <th>review rating</th>\n",
       "      <th>payment method</th>\n",
       "    </tr>\n",
       "  </thead>\n",
       "  <tbody>\n",
       "    <tr>\n",
       "      <th>0</th>\n",
       "      <td>4018</td>\n",
       "      <td>Handbag</td>\n",
       "      <td>4619.0</td>\n",
       "      <td>05-02-2023</td>\n",
       "      <td>NaN</td>\n",
       "      <td>Credit Card</td>\n",
       "    </tr>\n",
       "    <tr>\n",
       "      <th>1</th>\n",
       "      <td>4115</td>\n",
       "      <td>Tunic</td>\n",
       "      <td>2456.0</td>\n",
       "      <td>11-07-2023</td>\n",
       "      <td>2.0</td>\n",
       "      <td>Credit Card</td>\n",
       "    </tr>\n",
       "    <tr>\n",
       "      <th>2</th>\n",
       "      <td>4019</td>\n",
       "      <td>Tank Top</td>\n",
       "      <td>2102.0</td>\n",
       "      <td>23-03-2023</td>\n",
       "      <td>4.1</td>\n",
       "      <td>Cash</td>\n",
       "    </tr>\n",
       "    <tr>\n",
       "      <th>3</th>\n",
       "      <td>4097</td>\n",
       "      <td>Leggings</td>\n",
       "      <td>3126.0</td>\n",
       "      <td>15-03-2023</td>\n",
       "      <td>3.2</td>\n",
       "      <td>Cash</td>\n",
       "    </tr>\n",
       "    <tr>\n",
       "      <th>4</th>\n",
       "      <td>3997</td>\n",
       "      <td>Wallet</td>\n",
       "      <td>3003.0</td>\n",
       "      <td>27-11-2022</td>\n",
       "      <td>4.7</td>\n",
       "      <td>Cash</td>\n",
       "    </tr>\n",
       "    <tr>\n",
       "      <th>5</th>\n",
       "      <td>4080</td>\n",
       "      <td>Onesie</td>\n",
       "      <td>2914.0</td>\n",
       "      <td>11-12-2022</td>\n",
       "      <td>4.5</td>\n",
       "      <td>Credit Card</td>\n",
       "    </tr>\n",
       "    <tr>\n",
       "      <th>6</th>\n",
       "      <td>4055</td>\n",
       "      <td>Jacket</td>\n",
       "      <td>2571.0</td>\n",
       "      <td>08-07-2023</td>\n",
       "      <td>1.3</td>\n",
       "      <td>Cash</td>\n",
       "    </tr>\n",
       "    <tr>\n",
       "      <th>7</th>\n",
       "      <td>3973</td>\n",
       "      <td>Trousers</td>\n",
       "      <td>2419.0</td>\n",
       "      <td>10-11-2022</td>\n",
       "      <td>4.6</td>\n",
       "      <td>Cash</td>\n",
       "    </tr>\n",
       "    <tr>\n",
       "      <th>8</th>\n",
       "      <td>4044</td>\n",
       "      <td>Jeans</td>\n",
       "      <td>4771.0</td>\n",
       "      <td>19-05-2023</td>\n",
       "      <td>4.1</td>\n",
       "      <td>Cash</td>\n",
       "    </tr>\n",
       "    <tr>\n",
       "      <th>9</th>\n",
       "      <td>4010</td>\n",
       "      <td>Loafers</td>\n",
       "      <td>4233.0</td>\n",
       "      <td>11-06-2023</td>\n",
       "      <td>NaN</td>\n",
       "      <td>Credit Card</td>\n",
       "    </tr>\n",
       "  </tbody>\n",
       "</table>\n",
       "</div>"
      ],
      "text/plain": [
       "   customer id item name  amount usd        date  review rating payment method\n",
       "0         4018   Handbag      4619.0  05-02-2023            NaN    Credit Card\n",
       "1         4115     Tunic      2456.0  11-07-2023            2.0    Credit Card\n",
       "2         4019  Tank Top      2102.0  23-03-2023            4.1           Cash\n",
       "3         4097  Leggings      3126.0  15-03-2023            3.2           Cash\n",
       "4         3997    Wallet      3003.0  27-11-2022            4.7           Cash\n",
       "5         4080    Onesie      2914.0  11-12-2022            4.5    Credit Card\n",
       "6         4055    Jacket      2571.0  08-07-2023            1.3           Cash\n",
       "7         3973  Trousers      2419.0  10-11-2022            4.6           Cash\n",
       "8         4044     Jeans      4771.0  19-05-2023            4.1           Cash\n",
       "9         4010   Loafers      4233.0  11-06-2023            NaN    Credit Card"
      ]
     },
     "execution_count": 20,
     "metadata": {},
     "output_type": "execute_result"
    }
   ],
   "source": [
    "# Verschaffe dir einen Übersicht über die Datenset indem du die ersten 10 Zeilen anzeigst \n",
    "# Googleschlagwörter: 'how to show  rows of data in pandas'\n",
    "# quelle: https://pandas.pydata.org/docs/user_guide/indexing.html\n",
    "df.head(10)\n"
   ]
  },
  {
   "cell_type": "code",
   "execution_count": null,
   "id": "74321133",
   "metadata": {},
   "outputs": [
    {
     "data": {
      "text/plain": [
       "customer id         int64\n",
       "item name          object\n",
       "amount usd        float64\n",
       "date               object\n",
       "review rating     float64\n",
       "payment method     object\n",
       "dtype: object"
      ]
     },
     "execution_count": 22,
     "metadata": {},
     "output_type": "execute_result"
    }
   ],
   "source": [
    "# Gebe die Datentypen von Spalten zurück\n",
    "# google Suchbegriff: how to get datatype of columns in pandas\n",
    "# https://pandas.pydata.org/docs/reference/api/pandas.DataFrame.dtypes.html\n",
    "df.dtypes"
   ]
  },
  {
   "cell_type": "code",
   "execution_count": null,
   "id": "fa4e0e09",
   "metadata": {},
   "outputs": [
    {
     "data": {
      "text/plain": [
       "customer id         int64\n",
       "item name          object\n",
       "amount usd        float64\n",
       "date               object\n",
       "review rating     float64\n",
       "payment method     object\n",
       "dtype: object"
      ]
     },
     "execution_count": 25,
     "metadata": {},
     "output_type": "execute_result"
    }
   ],
   "source": [
    "# Datentypen der Spalte 'item name' und 'payment method' zur String umwandeln (optional)\n",
    "# Google Suchbegriffe: \n",
    "# Quelle: https://pandas.pydata.org/docs/reference/api/pandas.DataFrame.astype.html\n",
    "\n",
    "df.astype({'item name': str, 'payment method': str}).dtypes"
   ]
  },
  {
   "cell_type": "code",
   "execution_count": 33,
   "id": "215e81a6",
   "metadata": {},
   "outputs": [],
   "source": [
    "# Datentypen von Spalte Date umwandeln beispiel --> '2023-02-05' \n",
    "# Google Suchbegriff: How to change data types to date in pandas\n",
    "# Beispielsquelle: https://pandas.pydata.org/docs/reference/api/pandas.to_datetime.html\n",
    "df['date'] = pd.to_datetime(df['date'], format='%d-%m-%Y')\n",
    "\n"
   ]
  },
  {
   "cell_type": "code",
   "execution_count": null,
   "id": "46c4c27f",
   "metadata": {},
   "outputs": [
    {
     "name": "stdout",
     "output_type": "stream",
     "text": [
      "0   2023-02-05\n",
      "1   2023-07-11\n",
      "2   2023-03-23\n",
      "3   2023-03-15\n",
      "4   2022-11-27\n",
      "Name: date, dtype: datetime64[ns]\n"
     ]
    }
   ],
   "source": [
    "# Zeige die ersten 5 Zeilen von Spalte Date und vergleiche es mit ursprünglichen Datentyp \n",
    "print(df['date'].head(5))"
   ]
  },
  {
   "cell_type": "code",
   "execution_count": null,
   "id": "2f559d20",
   "metadata": {},
   "outputs": [
    {
     "data": {
      "text/plain": [
       "customer id       3400\n",
       "item name         3400\n",
       "amount usd        2750\n",
       "date              3400\n",
       "review rating     3076\n",
       "payment method    3400\n",
       "dtype: int64"
      ]
     },
     "execution_count": 38,
     "metadata": {},
     "output_type": "execute_result"
    }
   ],
   "source": [
    "# Finde heraus wie viele Zeileen je Spalte keine Daten entählt\n",
    "# Google Suchbegriff: how to get count of blank rows in pandas\n",
    "# Beispielsquelle: https://pandas.pydata.org/docs/reference/api/pandas.DataFrame.count.html\n",
    "df.count()\n"
   ]
  },
  {
   "cell_type": "code",
   "execution_count": 43,
   "id": "acba8061",
   "metadata": {},
   "outputs": [
    {
     "data": {
      "application/vnd.plotly.v1+json": {
       "config": {
        "plotlyServerURL": "https://plot.ly"
       },
       "data": [
        {
         "hovertemplate": "date=%{x}<br>amount usd=%{y}<extra></extra>",
         "legendgroup": "",
         "line": {
          "color": "#636efa",
          "dash": "solid"
         },
         "marker": {
          "symbol": "circle"
         },
         "mode": "lines",
         "name": "",
         "orientation": "v",
         "showlegend": false,
         "type": "scatter",
         "x": [
          "2022-10-01T00:00:00.000000000",
          "2022-11-01T00:00:00.000000000",
          "2022-12-01T00:00:00.000000000",
          "2023-01-01T00:00:00.000000000",
          "2023-02-01T00:00:00.000000000",
          "2023-03-01T00:00:00.000000000",
          "2023-04-01T00:00:00.000000000",
          "2023-05-01T00:00:00.000000000",
          "2023-06-01T00:00:00.000000000",
          "2023-07-01T00:00:00.000000000",
          "2023-08-01T00:00:00.000000000",
          "2023-09-01T00:00:00.000000000",
          "2023-10-01T00:00:00.000000000"
         ],
         "xaxis": "x",
         "y": {
          "bdata": "AAAAAAAX3kAAAAAAICfhQAAAAABg4OZAAAAAAMAv3UAAAAAA4IrgQAAAAACAOuNAAAAAAICj40AAAAAAACXmQAAAAADAWuFAAAAAAAAz4EAAAAAAIHzhQAAAAAAA69dAAAAAAABwekA=",
          "dtype": "f8"
         },
         "yaxis": "y"
        }
       ],
       "layout": {
        "legend": {
         "tracegroupgap": 0
        },
        "template": {
         "data": {
          "bar": [
           {
            "error_x": {
             "color": "#2a3f5f"
            },
            "error_y": {
             "color": "#2a3f5f"
            },
            "marker": {
             "line": {
              "color": "#E5ECF6",
              "width": 0.5
             },
             "pattern": {
              "fillmode": "overlay",
              "size": 10,
              "solidity": 0.2
             }
            },
            "type": "bar"
           }
          ],
          "barpolar": [
           {
            "marker": {
             "line": {
              "color": "#E5ECF6",
              "width": 0.5
             },
             "pattern": {
              "fillmode": "overlay",
              "size": 10,
              "solidity": 0.2
             }
            },
            "type": "barpolar"
           }
          ],
          "carpet": [
           {
            "aaxis": {
             "endlinecolor": "#2a3f5f",
             "gridcolor": "white",
             "linecolor": "white",
             "minorgridcolor": "white",
             "startlinecolor": "#2a3f5f"
            },
            "baxis": {
             "endlinecolor": "#2a3f5f",
             "gridcolor": "white",
             "linecolor": "white",
             "minorgridcolor": "white",
             "startlinecolor": "#2a3f5f"
            },
            "type": "carpet"
           }
          ],
          "choropleth": [
           {
            "colorbar": {
             "outlinewidth": 0,
             "ticks": ""
            },
            "type": "choropleth"
           }
          ],
          "contour": [
           {
            "colorbar": {
             "outlinewidth": 0,
             "ticks": ""
            },
            "colorscale": [
             [
              0,
              "#0d0887"
             ],
             [
              0.1111111111111111,
              "#46039f"
             ],
             [
              0.2222222222222222,
              "#7201a8"
             ],
             [
              0.3333333333333333,
              "#9c179e"
             ],
             [
              0.4444444444444444,
              "#bd3786"
             ],
             [
              0.5555555555555556,
              "#d8576b"
             ],
             [
              0.6666666666666666,
              "#ed7953"
             ],
             [
              0.7777777777777778,
              "#fb9f3a"
             ],
             [
              0.8888888888888888,
              "#fdca26"
             ],
             [
              1,
              "#f0f921"
             ]
            ],
            "type": "contour"
           }
          ],
          "contourcarpet": [
           {
            "colorbar": {
             "outlinewidth": 0,
             "ticks": ""
            },
            "type": "contourcarpet"
           }
          ],
          "heatmap": [
           {
            "colorbar": {
             "outlinewidth": 0,
             "ticks": ""
            },
            "colorscale": [
             [
              0,
              "#0d0887"
             ],
             [
              0.1111111111111111,
              "#46039f"
             ],
             [
              0.2222222222222222,
              "#7201a8"
             ],
             [
              0.3333333333333333,
              "#9c179e"
             ],
             [
              0.4444444444444444,
              "#bd3786"
             ],
             [
              0.5555555555555556,
              "#d8576b"
             ],
             [
              0.6666666666666666,
              "#ed7953"
             ],
             [
              0.7777777777777778,
              "#fb9f3a"
             ],
             [
              0.8888888888888888,
              "#fdca26"
             ],
             [
              1,
              "#f0f921"
             ]
            ],
            "type": "heatmap"
           }
          ],
          "histogram": [
           {
            "marker": {
             "pattern": {
              "fillmode": "overlay",
              "size": 10,
              "solidity": 0.2
             }
            },
            "type": "histogram"
           }
          ],
          "histogram2d": [
           {
            "colorbar": {
             "outlinewidth": 0,
             "ticks": ""
            },
            "colorscale": [
             [
              0,
              "#0d0887"
             ],
             [
              0.1111111111111111,
              "#46039f"
             ],
             [
              0.2222222222222222,
              "#7201a8"
             ],
             [
              0.3333333333333333,
              "#9c179e"
             ],
             [
              0.4444444444444444,
              "#bd3786"
             ],
             [
              0.5555555555555556,
              "#d8576b"
             ],
             [
              0.6666666666666666,
              "#ed7953"
             ],
             [
              0.7777777777777778,
              "#fb9f3a"
             ],
             [
              0.8888888888888888,
              "#fdca26"
             ],
             [
              1,
              "#f0f921"
             ]
            ],
            "type": "histogram2d"
           }
          ],
          "histogram2dcontour": [
           {
            "colorbar": {
             "outlinewidth": 0,
             "ticks": ""
            },
            "colorscale": [
             [
              0,
              "#0d0887"
             ],
             [
              0.1111111111111111,
              "#46039f"
             ],
             [
              0.2222222222222222,
              "#7201a8"
             ],
             [
              0.3333333333333333,
              "#9c179e"
             ],
             [
              0.4444444444444444,
              "#bd3786"
             ],
             [
              0.5555555555555556,
              "#d8576b"
             ],
             [
              0.6666666666666666,
              "#ed7953"
             ],
             [
              0.7777777777777778,
              "#fb9f3a"
             ],
             [
              0.8888888888888888,
              "#fdca26"
             ],
             [
              1,
              "#f0f921"
             ]
            ],
            "type": "histogram2dcontour"
           }
          ],
          "mesh3d": [
           {
            "colorbar": {
             "outlinewidth": 0,
             "ticks": ""
            },
            "type": "mesh3d"
           }
          ],
          "parcoords": [
           {
            "line": {
             "colorbar": {
              "outlinewidth": 0,
              "ticks": ""
             }
            },
            "type": "parcoords"
           }
          ],
          "pie": [
           {
            "automargin": true,
            "type": "pie"
           }
          ],
          "scatter": [
           {
            "fillpattern": {
             "fillmode": "overlay",
             "size": 10,
             "solidity": 0.2
            },
            "type": "scatter"
           }
          ],
          "scatter3d": [
           {
            "line": {
             "colorbar": {
              "outlinewidth": 0,
              "ticks": ""
             }
            },
            "marker": {
             "colorbar": {
              "outlinewidth": 0,
              "ticks": ""
             }
            },
            "type": "scatter3d"
           }
          ],
          "scattercarpet": [
           {
            "marker": {
             "colorbar": {
              "outlinewidth": 0,
              "ticks": ""
             }
            },
            "type": "scattercarpet"
           }
          ],
          "scattergeo": [
           {
            "marker": {
             "colorbar": {
              "outlinewidth": 0,
              "ticks": ""
             }
            },
            "type": "scattergeo"
           }
          ],
          "scattergl": [
           {
            "marker": {
             "colorbar": {
              "outlinewidth": 0,
              "ticks": ""
             }
            },
            "type": "scattergl"
           }
          ],
          "scattermap": [
           {
            "marker": {
             "colorbar": {
              "outlinewidth": 0,
              "ticks": ""
             }
            },
            "type": "scattermap"
           }
          ],
          "scattermapbox": [
           {
            "marker": {
             "colorbar": {
              "outlinewidth": 0,
              "ticks": ""
             }
            },
            "type": "scattermapbox"
           }
          ],
          "scatterpolar": [
           {
            "marker": {
             "colorbar": {
              "outlinewidth": 0,
              "ticks": ""
             }
            },
            "type": "scatterpolar"
           }
          ],
          "scatterpolargl": [
           {
            "marker": {
             "colorbar": {
              "outlinewidth": 0,
              "ticks": ""
             }
            },
            "type": "scatterpolargl"
           }
          ],
          "scatterternary": [
           {
            "marker": {
             "colorbar": {
              "outlinewidth": 0,
              "ticks": ""
             }
            },
            "type": "scatterternary"
           }
          ],
          "surface": [
           {
            "colorbar": {
             "outlinewidth": 0,
             "ticks": ""
            },
            "colorscale": [
             [
              0,
              "#0d0887"
             ],
             [
              0.1111111111111111,
              "#46039f"
             ],
             [
              0.2222222222222222,
              "#7201a8"
             ],
             [
              0.3333333333333333,
              "#9c179e"
             ],
             [
              0.4444444444444444,
              "#bd3786"
             ],
             [
              0.5555555555555556,
              "#d8576b"
             ],
             [
              0.6666666666666666,
              "#ed7953"
             ],
             [
              0.7777777777777778,
              "#fb9f3a"
             ],
             [
              0.8888888888888888,
              "#fdca26"
             ],
             [
              1,
              "#f0f921"
             ]
            ],
            "type": "surface"
           }
          ],
          "table": [
           {
            "cells": {
             "fill": {
              "color": "#EBF0F8"
             },
             "line": {
              "color": "white"
             }
            },
            "header": {
             "fill": {
              "color": "#C8D4E3"
             },
             "line": {
              "color": "white"
             }
            },
            "type": "table"
           }
          ]
         },
         "layout": {
          "annotationdefaults": {
           "arrowcolor": "#2a3f5f",
           "arrowhead": 0,
           "arrowwidth": 1
          },
          "autotypenumbers": "strict",
          "coloraxis": {
           "colorbar": {
            "outlinewidth": 0,
            "ticks": ""
           }
          },
          "colorscale": {
           "diverging": [
            [
             0,
             "#8e0152"
            ],
            [
             0.1,
             "#c51b7d"
            ],
            [
             0.2,
             "#de77ae"
            ],
            [
             0.3,
             "#f1b6da"
            ],
            [
             0.4,
             "#fde0ef"
            ],
            [
             0.5,
             "#f7f7f7"
            ],
            [
             0.6,
             "#e6f5d0"
            ],
            [
             0.7,
             "#b8e186"
            ],
            [
             0.8,
             "#7fbc41"
            ],
            [
             0.9,
             "#4d9221"
            ],
            [
             1,
             "#276419"
            ]
           ],
           "sequential": [
            [
             0,
             "#0d0887"
            ],
            [
             0.1111111111111111,
             "#46039f"
            ],
            [
             0.2222222222222222,
             "#7201a8"
            ],
            [
             0.3333333333333333,
             "#9c179e"
            ],
            [
             0.4444444444444444,
             "#bd3786"
            ],
            [
             0.5555555555555556,
             "#d8576b"
            ],
            [
             0.6666666666666666,
             "#ed7953"
            ],
            [
             0.7777777777777778,
             "#fb9f3a"
            ],
            [
             0.8888888888888888,
             "#fdca26"
            ],
            [
             1,
             "#f0f921"
            ]
           ],
           "sequentialminus": [
            [
             0,
             "#0d0887"
            ],
            [
             0.1111111111111111,
             "#46039f"
            ],
            [
             0.2222222222222222,
             "#7201a8"
            ],
            [
             0.3333333333333333,
             "#9c179e"
            ],
            [
             0.4444444444444444,
             "#bd3786"
            ],
            [
             0.5555555555555556,
             "#d8576b"
            ],
            [
             0.6666666666666666,
             "#ed7953"
            ],
            [
             0.7777777777777778,
             "#fb9f3a"
            ],
            [
             0.8888888888888888,
             "#fdca26"
            ],
            [
             1,
             "#f0f921"
            ]
           ]
          },
          "colorway": [
           "#636efa",
           "#EF553B",
           "#00cc96",
           "#ab63fa",
           "#FFA15A",
           "#19d3f3",
           "#FF6692",
           "#B6E880",
           "#FF97FF",
           "#FECB52"
          ],
          "font": {
           "color": "#2a3f5f"
          },
          "geo": {
           "bgcolor": "white",
           "lakecolor": "white",
           "landcolor": "#E5ECF6",
           "showlakes": true,
           "showland": true,
           "subunitcolor": "white"
          },
          "hoverlabel": {
           "align": "left"
          },
          "hovermode": "closest",
          "mapbox": {
           "style": "light"
          },
          "paper_bgcolor": "white",
          "plot_bgcolor": "#E5ECF6",
          "polar": {
           "angularaxis": {
            "gridcolor": "white",
            "linecolor": "white",
            "ticks": ""
           },
           "bgcolor": "#E5ECF6",
           "radialaxis": {
            "gridcolor": "white",
            "linecolor": "white",
            "ticks": ""
           }
          },
          "scene": {
           "xaxis": {
            "backgroundcolor": "#E5ECF6",
            "gridcolor": "white",
            "gridwidth": 2,
            "linecolor": "white",
            "showbackground": true,
            "ticks": "",
            "zerolinecolor": "white"
           },
           "yaxis": {
            "backgroundcolor": "#E5ECF6",
            "gridcolor": "white",
            "gridwidth": 2,
            "linecolor": "white",
            "showbackground": true,
            "ticks": "",
            "zerolinecolor": "white"
           },
           "zaxis": {
            "backgroundcolor": "#E5ECF6",
            "gridcolor": "white",
            "gridwidth": 2,
            "linecolor": "white",
            "showbackground": true,
            "ticks": "",
            "zerolinecolor": "white"
           }
          },
          "shapedefaults": {
           "line": {
            "color": "#2a3f5f"
           }
          },
          "ternary": {
           "aaxis": {
            "gridcolor": "white",
            "linecolor": "white",
            "ticks": ""
           },
           "baxis": {
            "gridcolor": "white",
            "linecolor": "white",
            "ticks": ""
           },
           "bgcolor": "#E5ECF6",
           "caxis": {
            "gridcolor": "white",
            "linecolor": "white",
            "ticks": ""
           }
          },
          "title": {
           "x": 0.05
          },
          "xaxis": {
           "automargin": true,
           "gridcolor": "white",
           "linecolor": "white",
           "ticks": "",
           "title": {
            "standoff": 15
           },
           "zerolinecolor": "white",
           "zerolinewidth": 2
          },
          "yaxis": {
           "automargin": true,
           "gridcolor": "white",
           "linecolor": "white",
           "ticks": "",
           "title": {
            "standoff": 15
           },
           "zerolinecolor": "white",
           "zerolinewidth": 2
          }
         }
        },
        "title": {
         "text": "Monatlicher Umsatztrend"
        },
        "xaxis": {
         "anchor": "y",
         "domain": [
          0,
          1
         ],
         "title": {
          "text": "date"
         }
        },
        "yaxis": {
         "anchor": "x",
         "domain": [
          0,
          1
         ],
         "title": {
          "text": "amount usd"
         }
        }
       }
      }
     },
     "metadata": {},
     "output_type": "display_data"
    }
   ],
   "source": [
    "# 1. Liniendiagramm: Verkäufe (amount usd) über Zeit\n",
    "\n",
    "# Gruppieren und NUR die 'amount usd' Spalte summieren\n",
    "sales_per_month = df.groupby(df['date'].dt.to_period('M'))['amount usd'].sum().reset_index()\n",
    "\n",
    "# Zeitraum wieder in Timestamp zurückverwandeln\n",
    "sales_per_month['date'] = sales_per_month['date'].dt.to_timestamp()\n",
    "\n",
    "# Jetzt plotten\n",
    "fig = px.line(sales_per_month, x='date', y='amount usd', title='Monatlicher Umsatztrend')\n",
    "fig.show()\n"
   ]
  },
  {
   "cell_type": "code",
   "execution_count": 44,
   "id": "31760d8d",
   "metadata": {},
   "outputs": [
    {
     "data": {
      "application/vnd.plotly.v1+json": {
       "config": {
        "plotlyServerURL": "https://plot.ly"
       },
       "data": [
        {
         "fillpattern": {
          "shape": ""
         },
         "hovertemplate": "date=%{x}<br>amount usd=%{y}<extra></extra>",
         "legendgroup": "",
         "line": {
          "color": "#636efa"
         },
         "marker": {
          "symbol": "circle"
         },
         "mode": "lines",
         "name": "",
         "orientation": "v",
         "showlegend": false,
         "stackgroup": "1",
         "type": "scatter",
         "x": [
          "2022-10-01T00:00:00.000000000",
          "2022-11-01T00:00:00.000000000",
          "2022-12-01T00:00:00.000000000",
          "2023-01-01T00:00:00.000000000",
          "2023-02-01T00:00:00.000000000",
          "2023-03-01T00:00:00.000000000",
          "2023-04-01T00:00:00.000000000",
          "2023-05-01T00:00:00.000000000",
          "2023-06-01T00:00:00.000000000",
          "2023-07-01T00:00:00.000000000",
          "2023-08-01T00:00:00.000000000",
          "2023-09-01T00:00:00.000000000",
          "2023-10-01T00:00:00.000000000"
         ],
         "xaxis": "x",
         "y": {
          "bdata": "AAAAAAAX3kAAAAAAICfhQAAAAABg4OZAAAAAAMAv3UAAAAAA4IrgQAAAAACAOuNAAAAAAICj40AAAAAAACXmQAAAAADAWuFAAAAAAAAz4EAAAAAAIHzhQAAAAAAA69dAAAAAAABwekA=",
          "dtype": "f8"
         },
         "yaxis": "y"
        }
       ],
       "layout": {
        "legend": {
         "tracegroupgap": 0
        },
        "template": {
         "data": {
          "bar": [
           {
            "error_x": {
             "color": "#2a3f5f"
            },
            "error_y": {
             "color": "#2a3f5f"
            },
            "marker": {
             "line": {
              "color": "#E5ECF6",
              "width": 0.5
             },
             "pattern": {
              "fillmode": "overlay",
              "size": 10,
              "solidity": 0.2
             }
            },
            "type": "bar"
           }
          ],
          "barpolar": [
           {
            "marker": {
             "line": {
              "color": "#E5ECF6",
              "width": 0.5
             },
             "pattern": {
              "fillmode": "overlay",
              "size": 10,
              "solidity": 0.2
             }
            },
            "type": "barpolar"
           }
          ],
          "carpet": [
           {
            "aaxis": {
             "endlinecolor": "#2a3f5f",
             "gridcolor": "white",
             "linecolor": "white",
             "minorgridcolor": "white",
             "startlinecolor": "#2a3f5f"
            },
            "baxis": {
             "endlinecolor": "#2a3f5f",
             "gridcolor": "white",
             "linecolor": "white",
             "minorgridcolor": "white",
             "startlinecolor": "#2a3f5f"
            },
            "type": "carpet"
           }
          ],
          "choropleth": [
           {
            "colorbar": {
             "outlinewidth": 0,
             "ticks": ""
            },
            "type": "choropleth"
           }
          ],
          "contour": [
           {
            "colorbar": {
             "outlinewidth": 0,
             "ticks": ""
            },
            "colorscale": [
             [
              0,
              "#0d0887"
             ],
             [
              0.1111111111111111,
              "#46039f"
             ],
             [
              0.2222222222222222,
              "#7201a8"
             ],
             [
              0.3333333333333333,
              "#9c179e"
             ],
             [
              0.4444444444444444,
              "#bd3786"
             ],
             [
              0.5555555555555556,
              "#d8576b"
             ],
             [
              0.6666666666666666,
              "#ed7953"
             ],
             [
              0.7777777777777778,
              "#fb9f3a"
             ],
             [
              0.8888888888888888,
              "#fdca26"
             ],
             [
              1,
              "#f0f921"
             ]
            ],
            "type": "contour"
           }
          ],
          "contourcarpet": [
           {
            "colorbar": {
             "outlinewidth": 0,
             "ticks": ""
            },
            "type": "contourcarpet"
           }
          ],
          "heatmap": [
           {
            "colorbar": {
             "outlinewidth": 0,
             "ticks": ""
            },
            "colorscale": [
             [
              0,
              "#0d0887"
             ],
             [
              0.1111111111111111,
              "#46039f"
             ],
             [
              0.2222222222222222,
              "#7201a8"
             ],
             [
              0.3333333333333333,
              "#9c179e"
             ],
             [
              0.4444444444444444,
              "#bd3786"
             ],
             [
              0.5555555555555556,
              "#d8576b"
             ],
             [
              0.6666666666666666,
              "#ed7953"
             ],
             [
              0.7777777777777778,
              "#fb9f3a"
             ],
             [
              0.8888888888888888,
              "#fdca26"
             ],
             [
              1,
              "#f0f921"
             ]
            ],
            "type": "heatmap"
           }
          ],
          "histogram": [
           {
            "marker": {
             "pattern": {
              "fillmode": "overlay",
              "size": 10,
              "solidity": 0.2
             }
            },
            "type": "histogram"
           }
          ],
          "histogram2d": [
           {
            "colorbar": {
             "outlinewidth": 0,
             "ticks": ""
            },
            "colorscale": [
             [
              0,
              "#0d0887"
             ],
             [
              0.1111111111111111,
              "#46039f"
             ],
             [
              0.2222222222222222,
              "#7201a8"
             ],
             [
              0.3333333333333333,
              "#9c179e"
             ],
             [
              0.4444444444444444,
              "#bd3786"
             ],
             [
              0.5555555555555556,
              "#d8576b"
             ],
             [
              0.6666666666666666,
              "#ed7953"
             ],
             [
              0.7777777777777778,
              "#fb9f3a"
             ],
             [
              0.8888888888888888,
              "#fdca26"
             ],
             [
              1,
              "#f0f921"
             ]
            ],
            "type": "histogram2d"
           }
          ],
          "histogram2dcontour": [
           {
            "colorbar": {
             "outlinewidth": 0,
             "ticks": ""
            },
            "colorscale": [
             [
              0,
              "#0d0887"
             ],
             [
              0.1111111111111111,
              "#46039f"
             ],
             [
              0.2222222222222222,
              "#7201a8"
             ],
             [
              0.3333333333333333,
              "#9c179e"
             ],
             [
              0.4444444444444444,
              "#bd3786"
             ],
             [
              0.5555555555555556,
              "#d8576b"
             ],
             [
              0.6666666666666666,
              "#ed7953"
             ],
             [
              0.7777777777777778,
              "#fb9f3a"
             ],
             [
              0.8888888888888888,
              "#fdca26"
             ],
             [
              1,
              "#f0f921"
             ]
            ],
            "type": "histogram2dcontour"
           }
          ],
          "mesh3d": [
           {
            "colorbar": {
             "outlinewidth": 0,
             "ticks": ""
            },
            "type": "mesh3d"
           }
          ],
          "parcoords": [
           {
            "line": {
             "colorbar": {
              "outlinewidth": 0,
              "ticks": ""
             }
            },
            "type": "parcoords"
           }
          ],
          "pie": [
           {
            "automargin": true,
            "type": "pie"
           }
          ],
          "scatter": [
           {
            "fillpattern": {
             "fillmode": "overlay",
             "size": 10,
             "solidity": 0.2
            },
            "type": "scatter"
           }
          ],
          "scatter3d": [
           {
            "line": {
             "colorbar": {
              "outlinewidth": 0,
              "ticks": ""
             }
            },
            "marker": {
             "colorbar": {
              "outlinewidth": 0,
              "ticks": ""
             }
            },
            "type": "scatter3d"
           }
          ],
          "scattercarpet": [
           {
            "marker": {
             "colorbar": {
              "outlinewidth": 0,
              "ticks": ""
             }
            },
            "type": "scattercarpet"
           }
          ],
          "scattergeo": [
           {
            "marker": {
             "colorbar": {
              "outlinewidth": 0,
              "ticks": ""
             }
            },
            "type": "scattergeo"
           }
          ],
          "scattergl": [
           {
            "marker": {
             "colorbar": {
              "outlinewidth": 0,
              "ticks": ""
             }
            },
            "type": "scattergl"
           }
          ],
          "scattermap": [
           {
            "marker": {
             "colorbar": {
              "outlinewidth": 0,
              "ticks": ""
             }
            },
            "type": "scattermap"
           }
          ],
          "scattermapbox": [
           {
            "marker": {
             "colorbar": {
              "outlinewidth": 0,
              "ticks": ""
             }
            },
            "type": "scattermapbox"
           }
          ],
          "scatterpolar": [
           {
            "marker": {
             "colorbar": {
              "outlinewidth": 0,
              "ticks": ""
             }
            },
            "type": "scatterpolar"
           }
          ],
          "scatterpolargl": [
           {
            "marker": {
             "colorbar": {
              "outlinewidth": 0,
              "ticks": ""
             }
            },
            "type": "scatterpolargl"
           }
          ],
          "scatterternary": [
           {
            "marker": {
             "colorbar": {
              "outlinewidth": 0,
              "ticks": ""
             }
            },
            "type": "scatterternary"
           }
          ],
          "surface": [
           {
            "colorbar": {
             "outlinewidth": 0,
             "ticks": ""
            },
            "colorscale": [
             [
              0,
              "#0d0887"
             ],
             [
              0.1111111111111111,
              "#46039f"
             ],
             [
              0.2222222222222222,
              "#7201a8"
             ],
             [
              0.3333333333333333,
              "#9c179e"
             ],
             [
              0.4444444444444444,
              "#bd3786"
             ],
             [
              0.5555555555555556,
              "#d8576b"
             ],
             [
              0.6666666666666666,
              "#ed7953"
             ],
             [
              0.7777777777777778,
              "#fb9f3a"
             ],
             [
              0.8888888888888888,
              "#fdca26"
             ],
             [
              1,
              "#f0f921"
             ]
            ],
            "type": "surface"
           }
          ],
          "table": [
           {
            "cells": {
             "fill": {
              "color": "#EBF0F8"
             },
             "line": {
              "color": "white"
             }
            },
            "header": {
             "fill": {
              "color": "#C8D4E3"
             },
             "line": {
              "color": "white"
             }
            },
            "type": "table"
           }
          ]
         },
         "layout": {
          "annotationdefaults": {
           "arrowcolor": "#2a3f5f",
           "arrowhead": 0,
           "arrowwidth": 1
          },
          "autotypenumbers": "strict",
          "coloraxis": {
           "colorbar": {
            "outlinewidth": 0,
            "ticks": ""
           }
          },
          "colorscale": {
           "diverging": [
            [
             0,
             "#8e0152"
            ],
            [
             0.1,
             "#c51b7d"
            ],
            [
             0.2,
             "#de77ae"
            ],
            [
             0.3,
             "#f1b6da"
            ],
            [
             0.4,
             "#fde0ef"
            ],
            [
             0.5,
             "#f7f7f7"
            ],
            [
             0.6,
             "#e6f5d0"
            ],
            [
             0.7,
             "#b8e186"
            ],
            [
             0.8,
             "#7fbc41"
            ],
            [
             0.9,
             "#4d9221"
            ],
            [
             1,
             "#276419"
            ]
           ],
           "sequential": [
            [
             0,
             "#0d0887"
            ],
            [
             0.1111111111111111,
             "#46039f"
            ],
            [
             0.2222222222222222,
             "#7201a8"
            ],
            [
             0.3333333333333333,
             "#9c179e"
            ],
            [
             0.4444444444444444,
             "#bd3786"
            ],
            [
             0.5555555555555556,
             "#d8576b"
            ],
            [
             0.6666666666666666,
             "#ed7953"
            ],
            [
             0.7777777777777778,
             "#fb9f3a"
            ],
            [
             0.8888888888888888,
             "#fdca26"
            ],
            [
             1,
             "#f0f921"
            ]
           ],
           "sequentialminus": [
            [
             0,
             "#0d0887"
            ],
            [
             0.1111111111111111,
             "#46039f"
            ],
            [
             0.2222222222222222,
             "#7201a8"
            ],
            [
             0.3333333333333333,
             "#9c179e"
            ],
            [
             0.4444444444444444,
             "#bd3786"
            ],
            [
             0.5555555555555556,
             "#d8576b"
            ],
            [
             0.6666666666666666,
             "#ed7953"
            ],
            [
             0.7777777777777778,
             "#fb9f3a"
            ],
            [
             0.8888888888888888,
             "#fdca26"
            ],
            [
             1,
             "#f0f921"
            ]
           ]
          },
          "colorway": [
           "#636efa",
           "#EF553B",
           "#00cc96",
           "#ab63fa",
           "#FFA15A",
           "#19d3f3",
           "#FF6692",
           "#B6E880",
           "#FF97FF",
           "#FECB52"
          ],
          "font": {
           "color": "#2a3f5f"
          },
          "geo": {
           "bgcolor": "white",
           "lakecolor": "white",
           "landcolor": "#E5ECF6",
           "showlakes": true,
           "showland": true,
           "subunitcolor": "white"
          },
          "hoverlabel": {
           "align": "left"
          },
          "hovermode": "closest",
          "mapbox": {
           "style": "light"
          },
          "paper_bgcolor": "white",
          "plot_bgcolor": "#E5ECF6",
          "polar": {
           "angularaxis": {
            "gridcolor": "white",
            "linecolor": "white",
            "ticks": ""
           },
           "bgcolor": "#E5ECF6",
           "radialaxis": {
            "gridcolor": "white",
            "linecolor": "white",
            "ticks": ""
           }
          },
          "scene": {
           "xaxis": {
            "backgroundcolor": "#E5ECF6",
            "gridcolor": "white",
            "gridwidth": 2,
            "linecolor": "white",
            "showbackground": true,
            "ticks": "",
            "zerolinecolor": "white"
           },
           "yaxis": {
            "backgroundcolor": "#E5ECF6",
            "gridcolor": "white",
            "gridwidth": 2,
            "linecolor": "white",
            "showbackground": true,
            "ticks": "",
            "zerolinecolor": "white"
           },
           "zaxis": {
            "backgroundcolor": "#E5ECF6",
            "gridcolor": "white",
            "gridwidth": 2,
            "linecolor": "white",
            "showbackground": true,
            "ticks": "",
            "zerolinecolor": "white"
           }
          },
          "shapedefaults": {
           "line": {
            "color": "#2a3f5f"
           }
          },
          "ternary": {
           "aaxis": {
            "gridcolor": "white",
            "linecolor": "white",
            "ticks": ""
           },
           "baxis": {
            "gridcolor": "white",
            "linecolor": "white",
            "ticks": ""
           },
           "bgcolor": "#E5ECF6",
           "caxis": {
            "gridcolor": "white",
            "linecolor": "white",
            "ticks": ""
           }
          },
          "title": {
           "x": 0.05
          },
          "xaxis": {
           "automargin": true,
           "gridcolor": "white",
           "linecolor": "white",
           "ticks": "",
           "title": {
            "standoff": 15
           },
           "zerolinecolor": "white",
           "zerolinewidth": 2
          },
          "yaxis": {
           "automargin": true,
           "gridcolor": "white",
           "linecolor": "white",
           "ticks": "",
           "title": {
            "standoff": 15
           },
           "zerolinecolor": "white",
           "zerolinewidth": 2
          }
         }
        },
        "title": {
         "text": "Monatlicher Umsatztrend (Fläche)"
        },
        "xaxis": {
         "anchor": "y",
         "domain": [
          0,
          1
         ],
         "title": {
          "text": "date"
         }
        },
        "yaxis": {
         "anchor": "x",
         "domain": [
          0,
          1
         ],
         "title": {
          "text": "amount usd"
         }
        }
       }
      }
     },
     "metadata": {},
     "output_type": "display_data"
    }
   ],
   "source": [
    "# 2. Flächendiagramm (Area Chart): Verkäufe über Zeit\n",
    "fig = px.area(sales_per_month, x='date', y='amount usd', title='Monatlicher Umsatztrend (Fläche)')\n",
    "fig.show()\n"
   ]
  },
  {
   "cell_type": "code",
   "execution_count": 45,
   "id": "ab8c917e",
   "metadata": {},
   "outputs": [
    {
     "data": {
      "application/vnd.plotly.v1+json": {
       "config": {
        "plotlyServerURL": "https://plot.ly"
       },
       "data": [
        {
         "hovertemplate": "Artikel=%{x}<br>Anzahl der Verkäufe=%{y}<extra></extra>",
         "legendgroup": "",
         "marker": {
          "color": "#636efa",
          "pattern": {
           "shape": ""
          }
         },
         "name": "",
         "orientation": "v",
         "showlegend": false,
         "textposition": "auto",
         "type": "bar",
         "x": [
          "Belt",
          "Skirt",
          "Shorts",
          "Pants",
          "T-shirt",
          "Tank Top",
          "Pajamas",
          "Loafers",
          "Camisole",
          "Hoodie"
         ],
         "xaxis": "x",
         "y": {
          "bdata": "WlhXVlJSUUxMSw==",
          "dtype": "i1"
         },
         "yaxis": "y"
        }
       ],
       "layout": {
        "barmode": "relative",
        "legend": {
         "tracegroupgap": 0
        },
        "template": {
         "data": {
          "bar": [
           {
            "error_x": {
             "color": "#2a3f5f"
            },
            "error_y": {
             "color": "#2a3f5f"
            },
            "marker": {
             "line": {
              "color": "#E5ECF6",
              "width": 0.5
             },
             "pattern": {
              "fillmode": "overlay",
              "size": 10,
              "solidity": 0.2
             }
            },
            "type": "bar"
           }
          ],
          "barpolar": [
           {
            "marker": {
             "line": {
              "color": "#E5ECF6",
              "width": 0.5
             },
             "pattern": {
              "fillmode": "overlay",
              "size": 10,
              "solidity": 0.2
             }
            },
            "type": "barpolar"
           }
          ],
          "carpet": [
           {
            "aaxis": {
             "endlinecolor": "#2a3f5f",
             "gridcolor": "white",
             "linecolor": "white",
             "minorgridcolor": "white",
             "startlinecolor": "#2a3f5f"
            },
            "baxis": {
             "endlinecolor": "#2a3f5f",
             "gridcolor": "white",
             "linecolor": "white",
             "minorgridcolor": "white",
             "startlinecolor": "#2a3f5f"
            },
            "type": "carpet"
           }
          ],
          "choropleth": [
           {
            "colorbar": {
             "outlinewidth": 0,
             "ticks": ""
            },
            "type": "choropleth"
           }
          ],
          "contour": [
           {
            "colorbar": {
             "outlinewidth": 0,
             "ticks": ""
            },
            "colorscale": [
             [
              0,
              "#0d0887"
             ],
             [
              0.1111111111111111,
              "#46039f"
             ],
             [
              0.2222222222222222,
              "#7201a8"
             ],
             [
              0.3333333333333333,
              "#9c179e"
             ],
             [
              0.4444444444444444,
              "#bd3786"
             ],
             [
              0.5555555555555556,
              "#d8576b"
             ],
             [
              0.6666666666666666,
              "#ed7953"
             ],
             [
              0.7777777777777778,
              "#fb9f3a"
             ],
             [
              0.8888888888888888,
              "#fdca26"
             ],
             [
              1,
              "#f0f921"
             ]
            ],
            "type": "contour"
           }
          ],
          "contourcarpet": [
           {
            "colorbar": {
             "outlinewidth": 0,
             "ticks": ""
            },
            "type": "contourcarpet"
           }
          ],
          "heatmap": [
           {
            "colorbar": {
             "outlinewidth": 0,
             "ticks": ""
            },
            "colorscale": [
             [
              0,
              "#0d0887"
             ],
             [
              0.1111111111111111,
              "#46039f"
             ],
             [
              0.2222222222222222,
              "#7201a8"
             ],
             [
              0.3333333333333333,
              "#9c179e"
             ],
             [
              0.4444444444444444,
              "#bd3786"
             ],
             [
              0.5555555555555556,
              "#d8576b"
             ],
             [
              0.6666666666666666,
              "#ed7953"
             ],
             [
              0.7777777777777778,
              "#fb9f3a"
             ],
             [
              0.8888888888888888,
              "#fdca26"
             ],
             [
              1,
              "#f0f921"
             ]
            ],
            "type": "heatmap"
           }
          ],
          "histogram": [
           {
            "marker": {
             "pattern": {
              "fillmode": "overlay",
              "size": 10,
              "solidity": 0.2
             }
            },
            "type": "histogram"
           }
          ],
          "histogram2d": [
           {
            "colorbar": {
             "outlinewidth": 0,
             "ticks": ""
            },
            "colorscale": [
             [
              0,
              "#0d0887"
             ],
             [
              0.1111111111111111,
              "#46039f"
             ],
             [
              0.2222222222222222,
              "#7201a8"
             ],
             [
              0.3333333333333333,
              "#9c179e"
             ],
             [
              0.4444444444444444,
              "#bd3786"
             ],
             [
              0.5555555555555556,
              "#d8576b"
             ],
             [
              0.6666666666666666,
              "#ed7953"
             ],
             [
              0.7777777777777778,
              "#fb9f3a"
             ],
             [
              0.8888888888888888,
              "#fdca26"
             ],
             [
              1,
              "#f0f921"
             ]
            ],
            "type": "histogram2d"
           }
          ],
          "histogram2dcontour": [
           {
            "colorbar": {
             "outlinewidth": 0,
             "ticks": ""
            },
            "colorscale": [
             [
              0,
              "#0d0887"
             ],
             [
              0.1111111111111111,
              "#46039f"
             ],
             [
              0.2222222222222222,
              "#7201a8"
             ],
             [
              0.3333333333333333,
              "#9c179e"
             ],
             [
              0.4444444444444444,
              "#bd3786"
             ],
             [
              0.5555555555555556,
              "#d8576b"
             ],
             [
              0.6666666666666666,
              "#ed7953"
             ],
             [
              0.7777777777777778,
              "#fb9f3a"
             ],
             [
              0.8888888888888888,
              "#fdca26"
             ],
             [
              1,
              "#f0f921"
             ]
            ],
            "type": "histogram2dcontour"
           }
          ],
          "mesh3d": [
           {
            "colorbar": {
             "outlinewidth": 0,
             "ticks": ""
            },
            "type": "mesh3d"
           }
          ],
          "parcoords": [
           {
            "line": {
             "colorbar": {
              "outlinewidth": 0,
              "ticks": ""
             }
            },
            "type": "parcoords"
           }
          ],
          "pie": [
           {
            "automargin": true,
            "type": "pie"
           }
          ],
          "scatter": [
           {
            "fillpattern": {
             "fillmode": "overlay",
             "size": 10,
             "solidity": 0.2
            },
            "type": "scatter"
           }
          ],
          "scatter3d": [
           {
            "line": {
             "colorbar": {
              "outlinewidth": 0,
              "ticks": ""
             }
            },
            "marker": {
             "colorbar": {
              "outlinewidth": 0,
              "ticks": ""
             }
            },
            "type": "scatter3d"
           }
          ],
          "scattercarpet": [
           {
            "marker": {
             "colorbar": {
              "outlinewidth": 0,
              "ticks": ""
             }
            },
            "type": "scattercarpet"
           }
          ],
          "scattergeo": [
           {
            "marker": {
             "colorbar": {
              "outlinewidth": 0,
              "ticks": ""
             }
            },
            "type": "scattergeo"
           }
          ],
          "scattergl": [
           {
            "marker": {
             "colorbar": {
              "outlinewidth": 0,
              "ticks": ""
             }
            },
            "type": "scattergl"
           }
          ],
          "scattermap": [
           {
            "marker": {
             "colorbar": {
              "outlinewidth": 0,
              "ticks": ""
             }
            },
            "type": "scattermap"
           }
          ],
          "scattermapbox": [
           {
            "marker": {
             "colorbar": {
              "outlinewidth": 0,
              "ticks": ""
             }
            },
            "type": "scattermapbox"
           }
          ],
          "scatterpolar": [
           {
            "marker": {
             "colorbar": {
              "outlinewidth": 0,
              "ticks": ""
             }
            },
            "type": "scatterpolar"
           }
          ],
          "scatterpolargl": [
           {
            "marker": {
             "colorbar": {
              "outlinewidth": 0,
              "ticks": ""
             }
            },
            "type": "scatterpolargl"
           }
          ],
          "scatterternary": [
           {
            "marker": {
             "colorbar": {
              "outlinewidth": 0,
              "ticks": ""
             }
            },
            "type": "scatterternary"
           }
          ],
          "surface": [
           {
            "colorbar": {
             "outlinewidth": 0,
             "ticks": ""
            },
            "colorscale": [
             [
              0,
              "#0d0887"
             ],
             [
              0.1111111111111111,
              "#46039f"
             ],
             [
              0.2222222222222222,
              "#7201a8"
             ],
             [
              0.3333333333333333,
              "#9c179e"
             ],
             [
              0.4444444444444444,
              "#bd3786"
             ],
             [
              0.5555555555555556,
              "#d8576b"
             ],
             [
              0.6666666666666666,
              "#ed7953"
             ],
             [
              0.7777777777777778,
              "#fb9f3a"
             ],
             [
              0.8888888888888888,
              "#fdca26"
             ],
             [
              1,
              "#f0f921"
             ]
            ],
            "type": "surface"
           }
          ],
          "table": [
           {
            "cells": {
             "fill": {
              "color": "#EBF0F8"
             },
             "line": {
              "color": "white"
             }
            },
            "header": {
             "fill": {
              "color": "#C8D4E3"
             },
             "line": {
              "color": "white"
             }
            },
            "type": "table"
           }
          ]
         },
         "layout": {
          "annotationdefaults": {
           "arrowcolor": "#2a3f5f",
           "arrowhead": 0,
           "arrowwidth": 1
          },
          "autotypenumbers": "strict",
          "coloraxis": {
           "colorbar": {
            "outlinewidth": 0,
            "ticks": ""
           }
          },
          "colorscale": {
           "diverging": [
            [
             0,
             "#8e0152"
            ],
            [
             0.1,
             "#c51b7d"
            ],
            [
             0.2,
             "#de77ae"
            ],
            [
             0.3,
             "#f1b6da"
            ],
            [
             0.4,
             "#fde0ef"
            ],
            [
             0.5,
             "#f7f7f7"
            ],
            [
             0.6,
             "#e6f5d0"
            ],
            [
             0.7,
             "#b8e186"
            ],
            [
             0.8,
             "#7fbc41"
            ],
            [
             0.9,
             "#4d9221"
            ],
            [
             1,
             "#276419"
            ]
           ],
           "sequential": [
            [
             0,
             "#0d0887"
            ],
            [
             0.1111111111111111,
             "#46039f"
            ],
            [
             0.2222222222222222,
             "#7201a8"
            ],
            [
             0.3333333333333333,
             "#9c179e"
            ],
            [
             0.4444444444444444,
             "#bd3786"
            ],
            [
             0.5555555555555556,
             "#d8576b"
            ],
            [
             0.6666666666666666,
             "#ed7953"
            ],
            [
             0.7777777777777778,
             "#fb9f3a"
            ],
            [
             0.8888888888888888,
             "#fdca26"
            ],
            [
             1,
             "#f0f921"
            ]
           ],
           "sequentialminus": [
            [
             0,
             "#0d0887"
            ],
            [
             0.1111111111111111,
             "#46039f"
            ],
            [
             0.2222222222222222,
             "#7201a8"
            ],
            [
             0.3333333333333333,
             "#9c179e"
            ],
            [
             0.4444444444444444,
             "#bd3786"
            ],
            [
             0.5555555555555556,
             "#d8576b"
            ],
            [
             0.6666666666666666,
             "#ed7953"
            ],
            [
             0.7777777777777778,
             "#fb9f3a"
            ],
            [
             0.8888888888888888,
             "#fdca26"
            ],
            [
             1,
             "#f0f921"
            ]
           ]
          },
          "colorway": [
           "#636efa",
           "#EF553B",
           "#00cc96",
           "#ab63fa",
           "#FFA15A",
           "#19d3f3",
           "#FF6692",
           "#B6E880",
           "#FF97FF",
           "#FECB52"
          ],
          "font": {
           "color": "#2a3f5f"
          },
          "geo": {
           "bgcolor": "white",
           "lakecolor": "white",
           "landcolor": "#E5ECF6",
           "showlakes": true,
           "showland": true,
           "subunitcolor": "white"
          },
          "hoverlabel": {
           "align": "left"
          },
          "hovermode": "closest",
          "mapbox": {
           "style": "light"
          },
          "paper_bgcolor": "white",
          "plot_bgcolor": "#E5ECF6",
          "polar": {
           "angularaxis": {
            "gridcolor": "white",
            "linecolor": "white",
            "ticks": ""
           },
           "bgcolor": "#E5ECF6",
           "radialaxis": {
            "gridcolor": "white",
            "linecolor": "white",
            "ticks": ""
           }
          },
          "scene": {
           "xaxis": {
            "backgroundcolor": "#E5ECF6",
            "gridcolor": "white",
            "gridwidth": 2,
            "linecolor": "white",
            "showbackground": true,
            "ticks": "",
            "zerolinecolor": "white"
           },
           "yaxis": {
            "backgroundcolor": "#E5ECF6",
            "gridcolor": "white",
            "gridwidth": 2,
            "linecolor": "white",
            "showbackground": true,
            "ticks": "",
            "zerolinecolor": "white"
           },
           "zaxis": {
            "backgroundcolor": "#E5ECF6",
            "gridcolor": "white",
            "gridwidth": 2,
            "linecolor": "white",
            "showbackground": true,
            "ticks": "",
            "zerolinecolor": "white"
           }
          },
          "shapedefaults": {
           "line": {
            "color": "#2a3f5f"
           }
          },
          "ternary": {
           "aaxis": {
            "gridcolor": "white",
            "linecolor": "white",
            "ticks": ""
           },
           "baxis": {
            "gridcolor": "white",
            "linecolor": "white",
            "ticks": ""
           },
           "bgcolor": "#E5ECF6",
           "caxis": {
            "gridcolor": "white",
            "linecolor": "white",
            "ticks": ""
           }
          },
          "title": {
           "x": 0.05
          },
          "xaxis": {
           "automargin": true,
           "gridcolor": "white",
           "linecolor": "white",
           "ticks": "",
           "title": {
            "standoff": 15
           },
           "zerolinecolor": "white",
           "zerolinewidth": 2
          },
          "yaxis": {
           "automargin": true,
           "gridcolor": "white",
           "linecolor": "white",
           "ticks": "",
           "title": {
            "standoff": 15
           },
           "zerolinecolor": "white",
           "zerolinewidth": 2
          }
         }
        },
        "title": {
         "text": "Top 10 meistverkaufte Artikel"
        },
        "xaxis": {
         "anchor": "y",
         "domain": [
          0,
          1
         ],
         "title": {
          "text": "Artikel"
         }
        },
        "yaxis": {
         "anchor": "x",
         "domain": [
          0,
          1
         ],
         "title": {
          "text": "Anzahl der Verkäufe"
         }
        }
       }
      }
     },
     "metadata": {},
     "output_type": "display_data"
    }
   ],
   "source": [
    "# 3. Balkendiagramm: Top 10 meistverkaufte Artikel\n",
    "top_items = df['item name'].value_counts().head(10)\n",
    "\n",
    "fig = px.bar(x=top_items.index, y=top_items.values,\n",
    "             labels={'x':'Artikel', 'y':'Anzahl der Verkäufe'},\n",
    "             title='Top 10 meistverkaufte Artikel')\n",
    "fig.show()\n"
   ]
  },
  {
   "cell_type": "code",
   "execution_count": 46,
   "id": "0c663a85",
   "metadata": {},
   "outputs": [
    {
     "data": {
      "application/vnd.plotly.v1+json": {
       "config": {
        "plotlyServerURL": "https://plot.ly"
       },
       "data": [
        {
         "domain": {
          "x": [
           0,
           1
          ],
          "y": [
           0,
           1
          ]
         },
         "hole": 0.4,
         "hovertemplate": "payment method=%{label}<extra></extra>",
         "labels": [
          "Credit Card",
          "Credit Card",
          "Cash",
          "Cash",
          "Cash",
          "Credit Card",
          "Cash",
          "Cash",
          "Cash",
          "Credit Card",
          "Credit Card",
          "Cash",
          "Credit Card",
          "Cash",
          "Credit Card",
          "Credit Card",
          "Credit Card",
          "Cash",
          "Credit Card",
          "Credit Card",
          "Cash",
          "Cash",
          "Credit Card",
          "Credit Card",
          "Credit Card",
          "Cash",
          "Credit Card",
          "Credit Card",
          "Cash",
          "Cash",
          "Credit Card",
          "Credit Card",
          "Cash",
          "Credit Card",
          "Cash",
          "Credit Card",
          "Cash",
          "Credit Card",
          "Cash",
          "Credit Card",
          "Cash",
          "Credit Card",
          "Credit Card",
          "Credit Card",
          "Credit Card",
          "Cash",
          "Cash",
          "Cash",
          "Cash",
          "Credit Card",
          "Cash",
          "Cash",
          "Credit Card",
          "Cash",
          "Cash",
          "Cash",
          "Cash",
          "Cash",
          "Cash",
          "Cash",
          "Credit Card",
          "Credit Card",
          "Cash",
          "Credit Card",
          "Cash",
          "Credit Card",
          "Cash",
          "Credit Card",
          "Credit Card",
          "Cash",
          "Credit Card",
          "Credit Card",
          "Credit Card",
          "Cash",
          "Cash",
          "Cash",
          "Cash",
          "Credit Card",
          "Credit Card",
          "Cash",
          "Cash",
          "Cash",
          "Credit Card",
          "Cash",
          "Credit Card",
          "Cash",
          "Cash",
          "Credit Card",
          "Cash",
          "Cash",
          "Credit Card",
          "Credit Card",
          "Credit Card",
          "Cash",
          "Cash",
          "Credit Card",
          "Cash",
          "Credit Card",
          "Credit Card",
          "Credit Card",
          "Cash",
          "Credit Card",
          "Credit Card",
          "Credit Card",
          "Credit Card",
          "Credit Card",
          "Credit Card",
          "Cash",
          "Credit Card",
          "Cash",
          "Credit Card",
          "Credit Card",
          "Credit Card",
          "Credit Card",
          "Credit Card",
          "Credit Card",
          "Credit Card",
          "Credit Card",
          "Credit Card",
          "Credit Card",
          "Credit Card",
          "Credit Card",
          "Credit Card",
          "Credit Card",
          "Credit Card",
          "Credit Card",
          "Credit Card",
          "Cash",
          "Cash",
          "Cash",
          "Cash",
          "Credit Card",
          "Credit Card",
          "Credit Card",
          "Cash",
          "Cash",
          "Credit Card",
          "Credit Card",
          "Credit Card",
          "Cash",
          "Credit Card",
          "Cash",
          "Cash",
          "Credit Card",
          "Cash",
          "Credit Card",
          "Credit Card",
          "Cash",
          "Cash",
          "Credit Card",
          "Credit Card",
          "Credit Card",
          "Cash",
          "Cash",
          "Cash",
          "Credit Card",
          "Credit Card",
          "Cash",
          "Cash",
          "Cash",
          "Cash",
          "Credit Card",
          "Credit Card",
          "Credit Card",
          "Credit Card",
          "Credit Card",
          "Cash",
          "Cash",
          "Credit Card",
          "Credit Card",
          "Cash",
          "Cash",
          "Cash",
          "Cash",
          "Cash",
          "Credit Card",
          "Cash",
          "Credit Card",
          "Credit Card",
          "Cash",
          "Cash",
          "Cash",
          "Cash",
          "Cash",
          "Credit Card",
          "Credit Card",
          "Credit Card",
          "Cash",
          "Cash",
          "Cash",
          "Credit Card",
          "Credit Card",
          "Credit Card",
          "Cash",
          "Credit Card",
          "Cash",
          "Cash",
          "Credit Card",
          "Cash",
          "Cash",
          "Cash",
          "Credit Card",
          "Credit Card",
          "Cash",
          "Credit Card",
          "Cash",
          "Cash",
          "Credit Card",
          "Cash",
          "Credit Card",
          "Cash",
          "Cash",
          "Credit Card",
          "Cash",
          "Cash",
          "Credit Card",
          "Credit Card",
          "Cash",
          "Credit Card",
          "Cash",
          "Cash",
          "Credit Card",
          "Cash",
          "Credit Card",
          "Cash",
          "Cash",
          "Credit Card",
          "Cash",
          "Cash",
          "Credit Card",
          "Cash",
          "Cash",
          "Credit Card",
          "Credit Card",
          "Credit Card",
          "Credit Card",
          "Credit Card",
          "Credit Card",
          "Cash",
          "Cash",
          "Cash",
          "Credit Card",
          "Cash",
          "Credit Card",
          "Cash",
          "Credit Card",
          "Credit Card",
          "Cash",
          "Credit Card",
          "Credit Card",
          "Cash",
          "Cash",
          "Cash",
          "Cash",
          "Credit Card",
          "Cash",
          "Cash",
          "Cash",
          "Cash",
          "Credit Card",
          "Credit Card",
          "Cash",
          "Cash",
          "Cash",
          "Credit Card",
          "Credit Card",
          "Credit Card",
          "Credit Card",
          "Cash",
          "Credit Card",
          "Cash",
          "Credit Card",
          "Cash",
          "Cash",
          "Credit Card",
          "Credit Card",
          "Credit Card",
          "Cash",
          "Cash",
          "Credit Card",
          "Cash",
          "Credit Card",
          "Cash",
          "Cash",
          "Cash",
          "Credit Card",
          "Credit Card",
          "Cash",
          "Cash",
          "Cash",
          "Cash",
          "Credit Card",
          "Cash",
          "Cash",
          "Credit Card",
          "Credit Card",
          "Credit Card",
          "Credit Card",
          "Cash",
          "Cash",
          "Credit Card",
          "Credit Card",
          "Credit Card",
          "Credit Card",
          "Cash",
          "Credit Card",
          "Cash",
          "Cash",
          "Cash",
          "Credit Card",
          "Cash",
          "Credit Card",
          "Credit Card",
          "Credit Card",
          "Cash",
          "Cash",
          "Credit Card",
          "Credit Card",
          "Cash",
          "Cash",
          "Credit Card",
          "Credit Card",
          "Credit Card",
          "Cash",
          "Credit Card",
          "Credit Card",
          "Cash",
          "Cash",
          "Credit Card",
          "Credit Card",
          "Credit Card",
          "Cash",
          "Credit Card",
          "Cash",
          "Cash",
          "Credit Card",
          "Cash",
          "Credit Card",
          "Credit Card",
          "Cash",
          "Credit Card",
          "Credit Card",
          "Credit Card",
          "Cash",
          "Credit Card",
          "Credit Card",
          "Cash",
          "Credit Card",
          "Credit Card",
          "Cash",
          "Credit Card",
          "Cash",
          "Credit Card",
          "Credit Card",
          "Cash",
          "Credit Card",
          "Cash",
          "Credit Card",
          "Credit Card",
          "Credit Card",
          "Credit Card",
          "Credit Card",
          "Cash",
          "Credit Card",
          "Cash",
          "Cash",
          "Credit Card",
          "Credit Card",
          "Cash",
          "Cash",
          "Credit Card",
          "Cash",
          "Cash",
          "Cash",
          "Credit Card",
          "Credit Card",
          "Cash",
          "Cash",
          "Credit Card",
          "Cash",
          "Cash",
          "Credit Card",
          "Cash",
          "Cash",
          "Cash",
          "Credit Card",
          "Cash",
          "Credit Card",
          "Credit Card",
          "Cash",
          "Credit Card",
          "Cash",
          "Credit Card",
          "Credit Card",
          "Credit Card",
          "Credit Card",
          "Cash",
          "Cash",
          "Credit Card",
          "Credit Card",
          "Cash",
          "Cash",
          "Credit Card",
          "Credit Card",
          "Credit Card",
          "Cash",
          "Cash",
          "Credit Card",
          "Cash",
          "Cash",
          "Cash",
          "Credit Card",
          "Cash",
          "Credit Card",
          "Cash",
          "Credit Card",
          "Cash",
          "Cash",
          "Cash",
          "Credit Card",
          "Cash",
          "Cash",
          "Credit Card",
          "Credit Card",
          "Cash",
          "Cash",
          "Credit Card",
          "Cash",
          "Credit Card",
          "Cash",
          "Credit Card",
          "Cash",
          "Cash",
          "Cash",
          "Credit Card",
          "Credit Card",
          "Cash",
          "Cash",
          "Credit Card",
          "Cash",
          "Cash",
          "Cash",
          "Credit Card",
          "Cash",
          "Cash",
          "Cash",
          "Cash",
          "Cash",
          "Credit Card",
          "Cash",
          "Cash",
          "Credit Card",
          "Credit Card",
          "Credit Card",
          "Credit Card",
          "Credit Card",
          "Cash",
          "Cash",
          "Credit Card",
          "Credit Card",
          "Cash",
          "Cash",
          "Credit Card",
          "Credit Card",
          "Credit Card",
          "Credit Card",
          "Credit Card",
          "Credit Card",
          "Cash",
          "Cash",
          "Credit Card",
          "Credit Card",
          "Credit Card",
          "Cash",
          "Cash",
          "Cash",
          "Cash",
          "Credit Card",
          "Credit Card",
          "Credit Card",
          "Credit Card",
          "Cash",
          "Cash",
          "Credit Card",
          "Cash",
          "Cash",
          "Credit Card",
          "Credit Card",
          "Credit Card",
          "Credit Card",
          "Credit Card",
          "Credit Card",
          "Cash",
          "Cash",
          "Cash",
          "Credit Card",
          "Credit Card",
          "Credit Card",
          "Cash",
          "Credit Card",
          "Credit Card",
          "Cash",
          "Credit Card",
          "Cash",
          "Credit Card",
          "Credit Card",
          "Cash",
          "Cash",
          "Cash",
          "Cash",
          "Credit Card",
          "Cash",
          "Cash",
          "Credit Card",
          "Cash",
          "Credit Card",
          "Cash",
          "Credit Card",
          "Credit Card",
          "Cash",
          "Credit Card",
          "Cash",
          "Cash",
          "Credit Card",
          "Credit Card",
          "Credit Card",
          "Credit Card",
          "Credit Card",
          "Cash",
          "Cash",
          "Credit Card",
          "Cash",
          "Credit Card",
          "Credit Card",
          "Credit Card",
          "Credit Card",
          "Cash",
          "Cash",
          "Credit Card",
          "Credit Card",
          "Credit Card",
          "Cash",
          "Credit Card",
          "Cash",
          "Credit Card",
          "Credit Card",
          "Cash",
          "Credit Card",
          "Credit Card",
          "Cash",
          "Credit Card",
          "Cash",
          "Cash",
          "Credit Card",
          "Cash",
          "Cash",
          "Credit Card",
          "Credit Card",
          "Cash",
          "Cash",
          "Credit Card",
          "Credit Card",
          "Credit Card",
          "Cash",
          "Cash",
          "Credit Card",
          "Credit Card",
          "Cash",
          "Cash",
          "Credit Card",
          "Credit Card",
          "Cash",
          "Cash",
          "Cash",
          "Cash",
          "Credit Card",
          "Credit Card",
          "Cash",
          "Cash",
          "Credit Card",
          "Credit Card",
          "Credit Card",
          "Cash",
          "Cash",
          "Cash",
          "Credit Card",
          "Credit Card",
          "Credit Card",
          "Cash",
          "Cash",
          "Cash",
          "Cash",
          "Credit Card",
          "Cash",
          "Cash",
          "Credit Card",
          "Credit Card",
          "Credit Card",
          "Cash",
          "Credit Card",
          "Credit Card",
          "Cash",
          "Credit Card",
          "Cash",
          "Cash",
          "Cash",
          "Credit Card",
          "Cash",
          "Credit Card",
          "Cash",
          "Credit Card",
          "Cash",
          "Cash",
          "Credit Card",
          "Credit Card",
          "Credit Card",
          "Credit Card",
          "Credit Card",
          "Credit Card",
          "Cash",
          "Cash",
          "Credit Card",
          "Credit Card",
          "Credit Card",
          "Credit Card",
          "Credit Card",
          "Cash",
          "Credit Card",
          "Cash",
          "Credit Card",
          "Credit Card",
          "Cash",
          "Cash",
          "Credit Card",
          "Credit Card",
          "Credit Card",
          "Credit Card",
          "Credit Card",
          "Cash",
          "Cash",
          "Cash",
          "Credit Card",
          "Credit Card",
          "Credit Card",
          "Cash",
          "Cash",
          "Cash",
          "Cash",
          "Cash",
          "Cash",
          "Credit Card",
          "Credit Card",
          "Credit Card",
          "Cash",
          "Cash",
          "Credit Card",
          "Cash",
          "Credit Card",
          "Credit Card",
          "Credit Card",
          "Cash",
          "Credit Card",
          "Credit Card",
          "Credit Card",
          "Cash",
          "Cash",
          "Cash",
          "Credit Card",
          "Credit Card",
          "Cash",
          "Cash",
          "Cash",
          "Credit Card",
          "Credit Card",
          "Credit Card",
          "Cash",
          "Credit Card",
          "Credit Card",
          "Cash",
          "Credit Card",
          "Credit Card",
          "Credit Card",
          "Credit Card",
          "Credit Card",
          "Cash",
          "Credit Card",
          "Credit Card",
          "Credit Card",
          "Credit Card",
          "Cash",
          "Credit Card",
          "Cash",
          "Credit Card",
          "Cash",
          "Credit Card",
          "Cash",
          "Credit Card",
          "Credit Card",
          "Cash",
          "Credit Card",
          "Cash",
          "Cash",
          "Credit Card",
          "Cash",
          "Cash",
          "Cash",
          "Credit Card",
          "Credit Card",
          "Cash",
          "Credit Card",
          "Credit Card",
          "Cash",
          "Credit Card",
          "Cash",
          "Credit Card",
          "Credit Card",
          "Cash",
          "Credit Card",
          "Cash",
          "Credit Card",
          "Cash",
          "Cash",
          "Cash",
          "Credit Card",
          "Credit Card",
          "Credit Card",
          "Credit Card",
          "Cash",
          "Credit Card",
          "Credit Card",
          "Credit Card",
          "Credit Card",
          "Credit Card",
          "Cash",
          "Credit Card",
          "Credit Card",
          "Credit Card",
          "Credit Card",
          "Credit Card",
          "Cash",
          "Credit Card",
          "Cash",
          "Cash",
          "Cash",
          "Cash",
          "Credit Card",
          "Credit Card",
          "Credit Card",
          "Credit Card",
          "Cash",
          "Cash",
          "Credit Card",
          "Credit Card",
          "Credit Card",
          "Credit Card",
          "Credit Card",
          "Credit Card",
          "Credit Card",
          "Credit Card",
          "Cash",
          "Credit Card",
          "Credit Card",
          "Credit Card",
          "Credit Card",
          "Cash",
          "Cash",
          "Cash",
          "Credit Card",
          "Credit Card",
          "Credit Card",
          "Cash",
          "Credit Card",
          "Credit Card",
          "Credit Card",
          "Credit Card",
          "Cash",
          "Cash",
          "Credit Card",
          "Cash",
          "Cash",
          "Cash",
          "Credit Card",
          "Credit Card",
          "Credit Card",
          "Cash",
          "Credit Card",
          "Cash",
          "Cash",
          "Cash",
          "Cash",
          "Cash",
          "Credit Card",
          "Credit Card",
          "Credit Card",
          "Credit Card",
          "Credit Card",
          "Credit Card",
          "Credit Card",
          "Cash",
          "Credit Card",
          "Cash",
          "Cash",
          "Cash",
          "Credit Card",
          "Credit Card",
          "Credit Card",
          "Credit Card",
          "Credit Card",
          "Cash",
          "Credit Card",
          "Cash",
          "Credit Card",
          "Cash",
          "Cash",
          "Credit Card",
          "Credit Card",
          "Credit Card",
          "Credit Card",
          "Credit Card",
          "Cash",
          "Cash",
          "Credit Card",
          "Credit Card",
          "Cash",
          "Cash",
          "Cash",
          "Cash",
          "Cash",
          "Cash",
          "Credit Card",
          "Cash",
          "Credit Card",
          "Cash",
          "Credit Card",
          "Credit Card",
          "Cash",
          "Cash",
          "Cash",
          "Credit Card",
          "Cash",
          "Cash",
          "Cash",
          "Cash",
          "Credit Card",
          "Cash",
          "Cash",
          "Cash",
          "Credit Card",
          "Cash",
          "Credit Card",
          "Credit Card",
          "Cash",
          "Cash",
          "Credit Card",
          "Cash",
          "Cash",
          "Credit Card",
          "Cash",
          "Credit Card",
          "Credit Card",
          "Credit Card",
          "Cash",
          "Credit Card",
          "Cash",
          "Credit Card",
          "Credit Card",
          "Cash",
          "Credit Card",
          "Cash",
          "Credit Card",
          "Cash",
          "Credit Card",
          "Cash",
          "Cash",
          "Cash",
          "Credit Card",
          "Credit Card",
          "Credit Card",
          "Cash",
          "Credit Card",
          "Cash",
          "Credit Card",
          "Credit Card",
          "Cash",
          "Credit Card",
          "Cash",
          "Cash",
          "Credit Card",
          "Credit Card",
          "Cash",
          "Credit Card",
          "Credit Card",
          "Cash",
          "Cash",
          "Credit Card",
          "Cash",
          "Credit Card",
          "Cash",
          "Credit Card",
          "Credit Card",
          "Credit Card",
          "Cash",
          "Credit Card",
          "Credit Card",
          "Credit Card",
          "Credit Card",
          "Credit Card",
          "Cash",
          "Cash",
          "Cash",
          "Credit Card",
          "Cash",
          "Cash",
          "Cash",
          "Cash",
          "Cash",
          "Cash",
          "Cash",
          "Cash",
          "Cash",
          "Cash",
          "Cash",
          "Cash",
          "Credit Card",
          "Cash",
          "Credit Card",
          "Cash",
          "Cash",
          "Cash",
          "Cash",
          "Cash",
          "Cash",
          "Cash",
          "Credit Card",
          "Cash",
          "Credit Card",
          "Cash",
          "Credit Card",
          "Credit Card",
          "Credit Card",
          "Cash",
          "Cash",
          "Cash",
          "Credit Card",
          "Credit Card",
          "Cash",
          "Cash",
          "Credit Card",
          "Cash",
          "Credit Card",
          "Cash",
          "Credit Card",
          "Cash",
          "Cash",
          "Cash",
          "Cash",
          "Cash",
          "Cash",
          "Credit Card",
          "Credit Card",
          "Credit Card",
          "Credit Card",
          "Cash",
          "Cash",
          "Credit Card",
          "Credit Card",
          "Cash",
          "Credit Card",
          "Cash",
          "Credit Card",
          "Cash",
          "Credit Card",
          "Cash",
          "Credit Card",
          "Cash",
          "Credit Card",
          "Credit Card",
          "Credit Card",
          "Cash",
          "Credit Card",
          "Cash",
          "Cash",
          "Cash",
          "Credit Card",
          "Credit Card",
          "Cash",
          "Cash",
          "Credit Card",
          "Cash",
          "Credit Card",
          "Credit Card",
          "Credit Card",
          "Credit Card",
          "Credit Card",
          "Cash",
          "Cash",
          "Credit Card",
          "Credit Card",
          "Credit Card",
          "Credit Card",
          "Cash",
          "Cash",
          "Credit Card",
          "Cash",
          "Cash",
          "Credit Card",
          "Credit Card",
          "Cash",
          "Cash",
          "Credit Card",
          "Cash",
          "Cash",
          "Cash",
          "Cash",
          "Cash",
          "Credit Card",
          "Credit Card",
          "Cash",
          "Credit Card",
          "Credit Card",
          "Credit Card",
          "Cash",
          "Cash",
          "Credit Card",
          "Credit Card",
          "Cash",
          "Cash",
          "Cash",
          "Credit Card",
          "Cash",
          "Cash",
          "Cash",
          "Cash",
          "Credit Card",
          "Credit Card",
          "Cash",
          "Credit Card",
          "Credit Card",
          "Cash",
          "Credit Card",
          "Credit Card",
          "Cash",
          "Credit Card",
          "Cash",
          "Credit Card",
          "Credit Card",
          "Cash",
          "Cash",
          "Credit Card",
          "Credit Card",
          "Credit Card",
          "Credit Card",
          "Cash",
          "Credit Card",
          "Credit Card",
          "Credit Card",
          "Cash",
          "Credit Card",
          "Cash",
          "Cash",
          "Credit Card",
          "Credit Card",
          "Cash",
          "Credit Card",
          "Cash",
          "Credit Card",
          "Credit Card",
          "Credit Card",
          "Cash",
          "Credit Card",
          "Cash",
          "Credit Card",
          "Credit Card",
          "Credit Card",
          "Credit Card",
          "Credit Card",
          "Cash",
          "Cash",
          "Cash",
          "Credit Card",
          "Cash",
          "Credit Card",
          "Credit Card",
          "Credit Card",
          "Cash",
          "Credit Card",
          "Cash",
          "Credit Card",
          "Cash",
          "Cash",
          "Credit Card",
          "Credit Card",
          "Credit Card",
          "Credit Card",
          "Credit Card",
          "Cash",
          "Credit Card",
          "Credit Card",
          "Credit Card",
          "Credit Card",
          "Cash",
          "Cash",
          "Cash",
          "Credit Card",
          "Cash",
          "Credit Card",
          "Credit Card",
          "Credit Card",
          "Cash",
          "Cash",
          "Credit Card",
          "Cash",
          "Credit Card",
          "Cash",
          "Cash",
          "Credit Card",
          "Credit Card",
          "Cash",
          "Credit Card",
          "Credit Card",
          "Cash",
          "Cash",
          "Credit Card",
          "Credit Card",
          "Credit Card",
          "Cash",
          "Credit Card",
          "Credit Card",
          "Credit Card",
          "Cash",
          "Credit Card",
          "Credit Card",
          "Cash",
          "Credit Card",
          "Cash",
          "Credit Card",
          "Credit Card",
          "Credit Card",
          "Cash",
          "Cash",
          "Cash",
          "Cash",
          "Cash",
          "Cash",
          "Credit Card",
          "Cash",
          "Cash",
          "Cash",
          "Credit Card",
          "Credit Card",
          "Credit Card",
          "Credit Card",
          "Credit Card",
          "Credit Card",
          "Credit Card",
          "Credit Card",
          "Credit Card",
          "Cash",
          "Cash",
          "Credit Card",
          "Cash",
          "Credit Card",
          "Credit Card",
          "Credit Card",
          "Cash",
          "Cash",
          "Credit Card",
          "Cash",
          "Credit Card",
          "Cash",
          "Credit Card",
          "Cash",
          "Credit Card",
          "Cash",
          "Credit Card",
          "Cash",
          "Credit Card",
          "Credit Card",
          "Credit Card",
          "Credit Card",
          "Cash",
          "Cash",
          "Cash",
          "Cash",
          "Credit Card",
          "Credit Card",
          "Credit Card",
          "Cash",
          "Cash",
          "Credit Card",
          "Cash",
          "Credit Card",
          "Cash",
          "Credit Card",
          "Credit Card",
          "Credit Card",
          "Credit Card",
          "Cash",
          "Credit Card",
          "Cash",
          "Credit Card",
          "Cash",
          "Cash",
          "Credit Card",
          "Cash",
          "Cash",
          "Cash",
          "Credit Card",
          "Cash",
          "Cash",
          "Cash",
          "Credit Card",
          "Cash",
          "Cash",
          "Cash",
          "Credit Card",
          "Credit Card",
          "Credit Card",
          "Cash",
          "Credit Card",
          "Cash",
          "Cash",
          "Credit Card",
          "Credit Card",
          "Cash",
          "Cash",
          "Cash",
          "Cash",
          "Credit Card",
          "Credit Card",
          "Cash",
          "Credit Card",
          "Cash",
          "Cash",
          "Cash",
          "Cash",
          "Credit Card",
          "Credit Card",
          "Cash",
          "Credit Card",
          "Credit Card",
          "Credit Card",
          "Cash",
          "Credit Card",
          "Cash",
          "Credit Card",
          "Credit Card",
          "Credit Card",
          "Cash",
          "Credit Card",
          "Credit Card",
          "Credit Card",
          "Credit Card",
          "Cash",
          "Credit Card",
          "Credit Card",
          "Credit Card",
          "Cash",
          "Cash",
          "Cash",
          "Cash",
          "Cash",
          "Credit Card",
          "Cash",
          "Credit Card",
          "Credit Card",
          "Credit Card",
          "Cash",
          "Cash",
          "Cash",
          "Credit Card",
          "Credit Card",
          "Credit Card",
          "Credit Card",
          "Cash",
          "Cash",
          "Credit Card",
          "Cash",
          "Cash",
          "Cash",
          "Cash",
          "Cash",
          "Credit Card",
          "Credit Card",
          "Cash",
          "Credit Card",
          "Credit Card",
          "Credit Card",
          "Cash",
          "Cash",
          "Cash",
          "Credit Card",
          "Credit Card",
          "Cash",
          "Credit Card",
          "Credit Card",
          "Credit Card",
          "Credit Card",
          "Credit Card",
          "Credit Card",
          "Credit Card",
          "Credit Card",
          "Cash",
          "Credit Card",
          "Cash",
          "Cash",
          "Cash",
          "Cash",
          "Cash",
          "Cash",
          "Cash",
          "Cash",
          "Credit Card",
          "Credit Card",
          "Credit Card",
          "Credit Card",
          "Cash",
          "Cash",
          "Cash",
          "Cash",
          "Cash",
          "Cash",
          "Cash",
          "Cash",
          "Cash",
          "Cash",
          "Cash",
          "Cash",
          "Credit Card",
          "Cash",
          "Credit Card",
          "Cash",
          "Cash",
          "Cash",
          "Credit Card",
          "Cash",
          "Cash",
          "Credit Card",
          "Credit Card",
          "Cash",
          "Credit Card",
          "Cash",
          "Cash",
          "Credit Card",
          "Cash",
          "Credit Card",
          "Credit Card",
          "Cash",
          "Cash",
          "Cash",
          "Credit Card",
          "Cash",
          "Cash",
          "Credit Card",
          "Credit Card",
          "Cash",
          "Credit Card",
          "Cash",
          "Credit Card",
          "Cash",
          "Credit Card",
          "Credit Card",
          "Cash",
          "Cash",
          "Credit Card",
          "Credit Card",
          "Cash",
          "Cash",
          "Credit Card",
          "Credit Card",
          "Credit Card",
          "Cash",
          "Cash",
          "Credit Card",
          "Cash",
          "Cash",
          "Credit Card",
          "Credit Card",
          "Cash",
          "Cash",
          "Cash",
          "Cash",
          "Cash",
          "Cash",
          "Cash",
          "Cash",
          "Credit Card",
          "Cash",
          "Cash",
          "Cash",
          "Cash",
          "Credit Card",
          "Cash",
          "Cash",
          "Credit Card",
          "Cash",
          "Credit Card",
          "Cash",
          "Credit Card",
          "Credit Card",
          "Cash",
          "Cash",
          "Cash",
          "Cash",
          "Credit Card",
          "Cash",
          "Cash",
          "Cash",
          "Credit Card",
          "Credit Card",
          "Credit Card",
          "Credit Card",
          "Credit Card",
          "Cash",
          "Cash",
          "Credit Card",
          "Cash",
          "Credit Card",
          "Cash",
          "Credit Card",
          "Credit Card",
          "Credit Card",
          "Credit Card",
          "Credit Card",
          "Cash",
          "Credit Card",
          "Credit Card",
          "Credit Card",
          "Credit Card",
          "Cash",
          "Credit Card",
          "Cash",
          "Cash",
          "Cash",
          "Cash",
          "Credit Card",
          "Cash",
          "Cash",
          "Cash",
          "Cash",
          "Cash",
          "Credit Card",
          "Credit Card",
          "Credit Card",
          "Credit Card",
          "Credit Card",
          "Credit Card",
          "Cash",
          "Cash",
          "Cash",
          "Cash",
          "Cash",
          "Credit Card",
          "Credit Card",
          "Credit Card",
          "Credit Card",
          "Credit Card",
          "Credit Card",
          "Cash",
          "Credit Card",
          "Credit Card",
          "Credit Card",
          "Credit Card",
          "Cash",
          "Cash",
          "Cash",
          "Cash",
          "Cash",
          "Credit Card",
          "Cash",
          "Cash",
          "Cash",
          "Credit Card",
          "Cash",
          "Credit Card",
          "Credit Card",
          "Credit Card",
          "Cash",
          "Cash",
          "Cash",
          "Credit Card",
          "Cash",
          "Cash",
          "Cash",
          "Cash",
          "Credit Card",
          "Credit Card",
          "Credit Card",
          "Credit Card",
          "Cash",
          "Credit Card",
          "Credit Card",
          "Cash",
          "Credit Card",
          "Credit Card",
          "Cash",
          "Credit Card",
          "Credit Card",
          "Credit Card",
          "Credit Card",
          "Credit Card",
          "Cash",
          "Cash",
          "Cash",
          "Credit Card",
          "Cash",
          "Cash",
          "Credit Card",
          "Credit Card",
          "Credit Card",
          "Cash",
          "Credit Card",
          "Cash",
          "Cash",
          "Cash",
          "Credit Card",
          "Credit Card",
          "Cash",
          "Credit Card",
          "Cash",
          "Cash",
          "Credit Card",
          "Credit Card",
          "Credit Card",
          "Cash",
          "Cash",
          "Cash",
          "Credit Card",
          "Cash",
          "Cash",
          "Credit Card",
          "Credit Card",
          "Cash",
          "Credit Card",
          "Cash",
          "Credit Card",
          "Credit Card",
          "Credit Card",
          "Cash",
          "Credit Card",
          "Credit Card",
          "Credit Card",
          "Cash",
          "Cash",
          "Cash",
          "Cash",
          "Credit Card",
          "Cash",
          "Cash",
          "Credit Card",
          "Credit Card",
          "Credit Card",
          "Credit Card",
          "Credit Card",
          "Credit Card",
          "Credit Card",
          "Credit Card",
          "Credit Card",
          "Credit Card",
          "Cash",
          "Cash",
          "Credit Card",
          "Credit Card",
          "Credit Card",
          "Credit Card",
          "Credit Card",
          "Credit Card",
          "Credit Card",
          "Credit Card",
          "Cash",
          "Cash",
          "Cash",
          "Cash",
          "Credit Card",
          "Credit Card",
          "Cash",
          "Cash",
          "Cash",
          "Credit Card",
          "Cash",
          "Cash",
          "Credit Card",
          "Cash",
          "Cash",
          "Cash",
          "Credit Card",
          "Credit Card",
          "Credit Card",
          "Cash",
          "Cash",
          "Credit Card",
          "Credit Card",
          "Credit Card",
          "Credit Card",
          "Credit Card",
          "Cash",
          "Cash",
          "Credit Card",
          "Credit Card",
          "Credit Card",
          "Credit Card",
          "Cash",
          "Credit Card",
          "Credit Card",
          "Credit Card",
          "Cash",
          "Cash",
          "Credit Card",
          "Credit Card",
          "Credit Card",
          "Cash",
          "Credit Card",
          "Credit Card",
          "Credit Card",
          "Cash",
          "Credit Card",
          "Cash",
          "Credit Card",
          "Cash",
          "Cash",
          "Cash",
          "Cash",
          "Credit Card",
          "Cash",
          "Cash",
          "Cash",
          "Cash",
          "Cash",
          "Credit Card",
          "Credit Card",
          "Cash",
          "Credit Card",
          "Cash",
          "Cash",
          "Credit Card",
          "Cash",
          "Credit Card",
          "Cash",
          "Credit Card",
          "Cash",
          "Credit Card",
          "Credit Card",
          "Credit Card",
          "Cash",
          "Credit Card",
          "Cash",
          "Cash",
          "Cash",
          "Cash",
          "Cash",
          "Credit Card",
          "Credit Card",
          "Cash",
          "Credit Card",
          "Credit Card",
          "Cash",
          "Credit Card",
          "Credit Card",
          "Credit Card",
          "Credit Card",
          "Credit Card",
          "Credit Card",
          "Credit Card",
          "Credit Card",
          "Cash",
          "Credit Card",
          "Credit Card",
          "Cash",
          "Cash",
          "Credit Card",
          "Credit Card",
          "Cash",
          "Credit Card",
          "Cash",
          "Cash",
          "Credit Card",
          "Credit Card",
          "Credit Card",
          "Cash",
          "Credit Card",
          "Cash",
          "Cash",
          "Credit Card",
          "Cash",
          "Credit Card",
          "Cash",
          "Credit Card",
          "Credit Card",
          "Credit Card",
          "Credit Card",
          "Cash",
          "Cash",
          "Cash",
          "Credit Card",
          "Credit Card",
          "Cash",
          "Credit Card",
          "Credit Card",
          "Credit Card",
          "Cash",
          "Cash",
          "Credit Card",
          "Credit Card",
          "Credit Card",
          "Cash",
          "Credit Card",
          "Cash",
          "Cash",
          "Cash",
          "Cash",
          "Credit Card",
          "Credit Card",
          "Credit Card",
          "Credit Card",
          "Credit Card",
          "Cash",
          "Cash",
          "Cash",
          "Cash",
          "Credit Card",
          "Cash",
          "Cash",
          "Cash",
          "Credit Card",
          "Cash",
          "Cash",
          "Credit Card",
          "Credit Card",
          "Credit Card",
          "Cash",
          "Cash",
          "Cash",
          "Credit Card",
          "Cash",
          "Credit Card",
          "Cash",
          "Cash",
          "Cash",
          "Credit Card",
          "Cash",
          "Cash",
          "Credit Card",
          "Credit Card",
          "Cash",
          "Cash",
          "Credit Card",
          "Cash",
          "Credit Card",
          "Cash",
          "Cash",
          "Cash",
          "Cash",
          "Credit Card",
          "Credit Card",
          "Cash",
          "Credit Card",
          "Credit Card",
          "Cash",
          "Credit Card",
          "Cash",
          "Cash",
          "Credit Card",
          "Credit Card",
          "Credit Card",
          "Credit Card",
          "Cash",
          "Credit Card",
          "Credit Card",
          "Cash",
          "Credit Card",
          "Credit Card",
          "Cash",
          "Cash",
          "Credit Card",
          "Credit Card",
          "Credit Card",
          "Cash",
          "Cash",
          "Cash",
          "Credit Card",
          "Cash",
          "Credit Card",
          "Cash",
          "Credit Card",
          "Cash",
          "Credit Card",
          "Cash",
          "Credit Card",
          "Credit Card",
          "Cash",
          "Cash",
          "Credit Card",
          "Cash",
          "Cash",
          "Credit Card",
          "Cash",
          "Credit Card",
          "Credit Card",
          "Credit Card",
          "Credit Card",
          "Credit Card",
          "Credit Card",
          "Credit Card",
          "Cash",
          "Credit Card",
          "Credit Card",
          "Credit Card",
          "Credit Card",
          "Credit Card",
          "Credit Card",
          "Credit Card",
          "Credit Card",
          "Credit Card",
          "Cash",
          "Cash",
          "Credit Card",
          "Cash",
          "Credit Card",
          "Cash",
          "Cash",
          "Cash",
          "Cash",
          "Cash",
          "Credit Card",
          "Credit Card",
          "Credit Card",
          "Cash",
          "Cash",
          "Credit Card",
          "Cash",
          "Cash",
          "Cash",
          "Credit Card",
          "Credit Card",
          "Credit Card",
          "Cash",
          "Credit Card",
          "Cash",
          "Cash",
          "Cash",
          "Credit Card",
          "Cash",
          "Cash",
          "Cash",
          "Cash",
          "Cash",
          "Cash",
          "Cash",
          "Credit Card",
          "Cash",
          "Credit Card",
          "Credit Card",
          "Cash",
          "Credit Card",
          "Credit Card",
          "Credit Card",
          "Cash",
          "Credit Card",
          "Credit Card",
          "Credit Card",
          "Credit Card",
          "Credit Card",
          "Credit Card",
          "Cash",
          "Credit Card",
          "Credit Card",
          "Cash",
          "Credit Card",
          "Cash",
          "Credit Card",
          "Credit Card",
          "Cash",
          "Cash",
          "Credit Card",
          "Credit Card",
          "Cash",
          "Cash",
          "Credit Card",
          "Cash",
          "Cash",
          "Credit Card",
          "Credit Card",
          "Credit Card",
          "Credit Card",
          "Credit Card",
          "Credit Card",
          "Credit Card",
          "Cash",
          "Cash",
          "Cash",
          "Credit Card",
          "Credit Card",
          "Credit Card",
          "Credit Card",
          "Credit Card",
          "Cash",
          "Credit Card",
          "Credit Card",
          "Cash",
          "Credit Card",
          "Cash",
          "Credit Card",
          "Credit Card",
          "Credit Card",
          "Cash",
          "Credit Card",
          "Cash",
          "Credit Card",
          "Cash",
          "Credit Card",
          "Credit Card",
          "Credit Card",
          "Cash",
          "Credit Card",
          "Cash",
          "Credit Card",
          "Credit Card",
          "Credit Card",
          "Cash",
          "Cash",
          "Cash",
          "Credit Card",
          "Cash",
          "Cash",
          "Credit Card",
          "Credit Card",
          "Credit Card",
          "Credit Card",
          "Cash",
          "Credit Card",
          "Credit Card",
          "Cash",
          "Cash",
          "Credit Card",
          "Cash",
          "Credit Card",
          "Cash",
          "Credit Card",
          "Cash",
          "Cash",
          "Credit Card",
          "Credit Card",
          "Cash",
          "Cash",
          "Credit Card",
          "Credit Card",
          "Credit Card",
          "Credit Card",
          "Credit Card",
          "Credit Card",
          "Credit Card",
          "Credit Card",
          "Credit Card",
          "Credit Card",
          "Credit Card",
          "Cash",
          "Credit Card",
          "Cash",
          "Credit Card",
          "Cash",
          "Cash",
          "Credit Card",
          "Cash",
          "Cash",
          "Cash",
          "Cash",
          "Credit Card",
          "Credit Card",
          "Cash",
          "Cash",
          "Credit Card",
          "Credit Card",
          "Credit Card",
          "Cash",
          "Credit Card",
          "Credit Card",
          "Credit Card",
          "Cash",
          "Cash",
          "Cash",
          "Credit Card",
          "Cash",
          "Credit Card",
          "Cash",
          "Cash",
          "Credit Card",
          "Cash",
          "Cash",
          "Cash",
          "Credit Card",
          "Credit Card",
          "Credit Card",
          "Cash",
          "Cash",
          "Cash",
          "Cash",
          "Cash",
          "Credit Card",
          "Cash",
          "Credit Card",
          "Credit Card",
          "Cash",
          "Cash",
          "Credit Card",
          "Cash",
          "Credit Card",
          "Cash",
          "Cash",
          "Credit Card",
          "Cash",
          "Cash",
          "Credit Card",
          "Cash",
          "Cash",
          "Credit Card",
          "Credit Card",
          "Cash",
          "Cash",
          "Cash",
          "Credit Card",
          "Cash",
          "Cash",
          "Cash",
          "Credit Card",
          "Cash",
          "Cash",
          "Cash",
          "Credit Card",
          "Credit Card",
          "Cash",
          "Cash",
          "Cash",
          "Cash",
          "Cash",
          "Cash",
          "Cash",
          "Cash",
          "Credit Card",
          "Credit Card",
          "Cash",
          "Credit Card",
          "Cash",
          "Cash",
          "Credit Card",
          "Cash",
          "Cash",
          "Cash",
          "Credit Card",
          "Cash",
          "Credit Card",
          "Cash",
          "Cash",
          "Credit Card",
          "Cash",
          "Cash",
          "Cash",
          "Credit Card",
          "Credit Card",
          "Cash",
          "Credit Card",
          "Cash",
          "Credit Card",
          "Credit Card",
          "Credit Card",
          "Credit Card",
          "Cash",
          "Credit Card",
          "Cash",
          "Credit Card",
          "Cash",
          "Cash",
          "Cash",
          "Credit Card",
          "Credit Card",
          "Credit Card",
          "Cash",
          "Cash",
          "Cash",
          "Credit Card",
          "Credit Card",
          "Credit Card",
          "Credit Card",
          "Credit Card",
          "Cash",
          "Cash",
          "Cash",
          "Credit Card",
          "Cash",
          "Cash",
          "Credit Card",
          "Cash",
          "Cash",
          "Credit Card",
          "Credit Card",
          "Credit Card",
          "Cash",
          "Cash",
          "Credit Card",
          "Credit Card",
          "Credit Card",
          "Credit Card",
          "Credit Card",
          "Cash",
          "Cash",
          "Cash",
          "Credit Card",
          "Cash",
          "Credit Card",
          "Credit Card",
          "Cash",
          "Cash",
          "Cash",
          "Credit Card",
          "Cash",
          "Credit Card",
          "Cash",
          "Cash",
          "Cash",
          "Cash",
          "Credit Card",
          "Cash",
          "Credit Card",
          "Credit Card",
          "Cash",
          "Credit Card",
          "Cash",
          "Credit Card",
          "Credit Card",
          "Credit Card",
          "Credit Card",
          "Cash",
          "Cash",
          "Credit Card",
          "Credit Card",
          "Credit Card",
          "Cash",
          "Cash",
          "Cash",
          "Cash",
          "Credit Card",
          "Credit Card",
          "Cash",
          "Cash",
          "Cash",
          "Cash",
          "Cash",
          "Cash",
          "Cash",
          "Credit Card",
          "Cash",
          "Credit Card",
          "Cash",
          "Credit Card",
          "Credit Card",
          "Credit Card",
          "Cash",
          "Cash",
          "Cash",
          "Cash",
          "Credit Card",
          "Cash",
          "Cash",
          "Credit Card",
          "Credit Card",
          "Credit Card",
          "Credit Card",
          "Credit Card",
          "Cash",
          "Credit Card",
          "Credit Card",
          "Cash",
          "Cash",
          "Credit Card",
          "Cash",
          "Cash",
          "Cash",
          "Cash",
          "Cash",
          "Cash",
          "Cash",
          "Cash",
          "Cash",
          "Credit Card",
          "Cash",
          "Cash",
          "Credit Card",
          "Credit Card",
          "Credit Card",
          "Credit Card",
          "Cash",
          "Credit Card",
          "Cash",
          "Credit Card",
          "Credit Card",
          "Cash",
          "Cash",
          "Cash",
          "Credit Card",
          "Credit Card",
          "Credit Card",
          "Credit Card",
          "Credit Card",
          "Credit Card",
          "Cash",
          "Credit Card",
          "Credit Card",
          "Credit Card",
          "Credit Card",
          "Cash",
          "Credit Card",
          "Credit Card",
          "Cash",
          "Cash",
          "Credit Card",
          "Cash",
          "Cash",
          "Credit Card",
          "Cash",
          "Cash",
          "Cash",
          "Cash",
          "Credit Card",
          "Credit Card",
          "Cash",
          "Credit Card",
          "Cash",
          "Credit Card",
          "Cash",
          "Credit Card",
          "Cash",
          "Credit Card",
          "Cash",
          "Cash",
          "Cash",
          "Credit Card",
          "Cash",
          "Credit Card",
          "Credit Card",
          "Cash",
          "Credit Card",
          "Credit Card",
          "Cash",
          "Cash",
          "Credit Card",
          "Cash",
          "Cash",
          "Cash",
          "Cash",
          "Cash",
          "Cash",
          "Credit Card",
          "Cash",
          "Credit Card",
          "Cash",
          "Credit Card",
          "Cash",
          "Cash",
          "Cash",
          "Credit Card",
          "Cash",
          "Credit Card",
          "Cash",
          "Cash",
          "Cash",
          "Credit Card",
          "Cash",
          "Cash",
          "Credit Card",
          "Credit Card",
          "Cash",
          "Credit Card",
          "Cash",
          "Credit Card",
          "Credit Card",
          "Credit Card",
          "Credit Card",
          "Credit Card",
          "Cash",
          "Credit Card",
          "Credit Card",
          "Credit Card",
          "Credit Card",
          "Credit Card",
          "Cash",
          "Credit Card",
          "Cash",
          "Credit Card",
          "Credit Card",
          "Cash",
          "Credit Card",
          "Cash",
          "Cash",
          "Credit Card",
          "Credit Card",
          "Cash",
          "Cash",
          "Credit Card",
          "Cash",
          "Credit Card",
          "Cash",
          "Credit Card",
          "Credit Card",
          "Cash",
          "Cash",
          "Cash",
          "Cash",
          "Credit Card",
          "Cash",
          "Credit Card",
          "Cash",
          "Credit Card",
          "Credit Card",
          "Credit Card",
          "Cash",
          "Cash",
          "Cash",
          "Credit Card",
          "Cash",
          "Cash",
          "Cash",
          "Cash",
          "Credit Card",
          "Cash",
          "Cash",
          "Cash",
          "Credit Card",
          "Cash",
          "Credit Card",
          "Cash",
          "Credit Card",
          "Credit Card",
          "Cash",
          "Credit Card",
          "Cash",
          "Cash",
          "Cash",
          "Cash",
          "Cash",
          "Credit Card",
          "Credit Card",
          "Credit Card",
          "Credit Card",
          "Credit Card",
          "Cash",
          "Cash",
          "Credit Card",
          "Credit Card",
          "Credit Card",
          "Cash",
          "Credit Card",
          "Credit Card",
          "Credit Card",
          "Cash",
          "Cash",
          "Cash",
          "Credit Card",
          "Cash",
          "Cash",
          "Cash",
          "Cash",
          "Cash",
          "Cash",
          "Cash",
          "Credit Card",
          "Cash",
          "Cash",
          "Cash",
          "Cash",
          "Credit Card",
          "Credit Card",
          "Credit Card",
          "Credit Card",
          "Credit Card",
          "Credit Card",
          "Cash",
          "Cash",
          "Credit Card",
          "Credit Card",
          "Cash",
          "Credit Card",
          "Cash",
          "Credit Card",
          "Cash",
          "Credit Card",
          "Cash",
          "Cash",
          "Cash",
          "Cash",
          "Credit Card",
          "Cash",
          "Credit Card",
          "Cash",
          "Cash",
          "Credit Card",
          "Cash",
          "Credit Card",
          "Credit Card",
          "Credit Card",
          "Credit Card",
          "Credit Card",
          "Credit Card",
          "Cash",
          "Cash",
          "Credit Card",
          "Credit Card",
          "Credit Card",
          "Cash",
          "Credit Card",
          "Cash",
          "Cash",
          "Credit Card",
          "Credit Card",
          "Credit Card",
          "Credit Card",
          "Cash",
          "Cash",
          "Credit Card",
          "Cash",
          "Cash",
          "Credit Card",
          "Cash",
          "Cash",
          "Credit Card",
          "Credit Card",
          "Cash",
          "Credit Card",
          "Cash",
          "Credit Card",
          "Cash",
          "Credit Card",
          "Cash",
          "Credit Card",
          "Credit Card",
          "Cash",
          "Credit Card",
          "Credit Card",
          "Credit Card",
          "Credit Card",
          "Credit Card",
          "Credit Card",
          "Credit Card",
          "Credit Card",
          "Cash",
          "Cash",
          "Credit Card",
          "Cash",
          "Cash",
          "Credit Card",
          "Credit Card",
          "Cash",
          "Credit Card",
          "Credit Card",
          "Cash",
          "Credit Card",
          "Credit Card",
          "Credit Card",
          "Cash",
          "Cash",
          "Credit Card",
          "Credit Card",
          "Cash",
          "Credit Card",
          "Cash",
          "Credit Card",
          "Cash",
          "Credit Card",
          "Cash",
          "Cash",
          "Credit Card",
          "Cash",
          "Cash",
          "Credit Card",
          "Cash",
          "Credit Card",
          "Credit Card",
          "Cash",
          "Cash",
          "Credit Card",
          "Credit Card",
          "Cash",
          "Credit Card",
          "Credit Card",
          "Credit Card",
          "Cash",
          "Cash",
          "Cash",
          "Credit Card",
          "Cash",
          "Cash",
          "Cash",
          "Credit Card",
          "Credit Card",
          "Cash",
          "Cash",
          "Cash",
          "Credit Card",
          "Cash",
          "Credit Card",
          "Cash",
          "Cash",
          "Credit Card",
          "Credit Card",
          "Cash",
          "Cash",
          "Credit Card",
          "Cash",
          "Credit Card",
          "Credit Card",
          "Credit Card",
          "Cash",
          "Cash",
          "Credit Card",
          "Cash",
          "Credit Card",
          "Credit Card",
          "Cash",
          "Cash",
          "Cash",
          "Credit Card",
          "Cash",
          "Credit Card",
          "Cash",
          "Credit Card",
          "Credit Card",
          "Cash",
          "Cash",
          "Cash",
          "Credit Card",
          "Cash",
          "Credit Card",
          "Credit Card",
          "Credit Card",
          "Cash",
          "Cash",
          "Credit Card",
          "Cash",
          "Cash",
          "Cash",
          "Cash",
          "Credit Card",
          "Cash",
          "Credit Card",
          "Credit Card",
          "Credit Card",
          "Credit Card",
          "Credit Card",
          "Cash",
          "Credit Card",
          "Credit Card",
          "Cash",
          "Credit Card",
          "Cash",
          "Cash",
          "Credit Card",
          "Cash",
          "Credit Card",
          "Credit Card",
          "Cash",
          "Cash",
          "Cash",
          "Cash",
          "Credit Card",
          "Credit Card",
          "Cash",
          "Credit Card",
          "Credit Card",
          "Cash",
          "Credit Card",
          "Cash",
          "Cash",
          "Cash",
          "Cash",
          "Credit Card",
          "Credit Card",
          "Credit Card",
          "Cash",
          "Cash",
          "Cash",
          "Cash",
          "Cash",
          "Credit Card",
          "Credit Card",
          "Cash",
          "Cash",
          "Credit Card",
          "Cash",
          "Credit Card",
          "Cash",
          "Cash",
          "Credit Card",
          "Credit Card",
          "Cash",
          "Credit Card",
          "Credit Card",
          "Cash",
          "Cash",
          "Credit Card",
          "Credit Card",
          "Cash",
          "Credit Card",
          "Credit Card",
          "Cash",
          "Credit Card",
          "Cash",
          "Cash",
          "Cash",
          "Credit Card",
          "Credit Card",
          "Credit Card",
          "Cash",
          "Cash",
          "Cash",
          "Cash",
          "Credit Card",
          "Cash",
          "Credit Card",
          "Credit Card",
          "Credit Card",
          "Credit Card",
          "Credit Card",
          "Cash",
          "Credit Card",
          "Cash",
          "Credit Card",
          "Credit Card",
          "Credit Card",
          "Cash",
          "Credit Card",
          "Cash",
          "Cash",
          "Credit Card",
          "Credit Card",
          "Cash",
          "Credit Card",
          "Credit Card",
          "Credit Card",
          "Credit Card",
          "Credit Card",
          "Cash",
          "Cash",
          "Cash",
          "Credit Card",
          "Credit Card",
          "Cash",
          "Cash",
          "Credit Card",
          "Credit Card",
          "Credit Card",
          "Cash",
          "Cash",
          "Credit Card",
          "Credit Card",
          "Credit Card",
          "Cash",
          "Cash",
          "Credit Card",
          "Credit Card",
          "Credit Card",
          "Cash",
          "Cash",
          "Credit Card",
          "Credit Card",
          "Credit Card",
          "Cash",
          "Cash",
          "Credit Card",
          "Cash",
          "Credit Card",
          "Cash",
          "Cash",
          "Cash",
          "Credit Card",
          "Credit Card",
          "Credit Card",
          "Cash",
          "Credit Card",
          "Cash",
          "Cash",
          "Credit Card",
          "Credit Card",
          "Cash",
          "Credit Card",
          "Cash",
          "Credit Card",
          "Credit Card",
          "Cash",
          "Credit Card",
          "Credit Card",
          "Credit Card",
          "Credit Card",
          "Credit Card",
          "Cash",
          "Cash",
          "Cash",
          "Credit Card",
          "Cash",
          "Credit Card",
          "Credit Card",
          "Cash",
          "Credit Card",
          "Credit Card",
          "Cash",
          "Cash",
          "Credit Card",
          "Credit Card",
          "Credit Card",
          "Credit Card",
          "Credit Card",
          "Cash",
          "Credit Card",
          "Cash",
          "Cash",
          "Credit Card",
          "Credit Card",
          "Cash",
          "Credit Card",
          "Cash",
          "Credit Card",
          "Credit Card",
          "Cash",
          "Cash",
          "Cash",
          "Cash",
          "Credit Card",
          "Credit Card",
          "Credit Card",
          "Cash",
          "Credit Card",
          "Credit Card",
          "Cash",
          "Credit Card",
          "Credit Card",
          "Cash",
          "Credit Card",
          "Cash",
          "Credit Card",
          "Credit Card",
          "Credit Card",
          "Cash",
          "Credit Card",
          "Credit Card",
          "Credit Card",
          "Credit Card",
          "Credit Card",
          "Cash",
          "Credit Card",
          "Cash",
          "Credit Card",
          "Cash",
          "Cash",
          "Credit Card",
          "Credit Card",
          "Credit Card",
          "Credit Card",
          "Cash",
          "Cash",
          "Cash",
          "Cash",
          "Credit Card",
          "Cash",
          "Credit Card",
          "Credit Card",
          "Credit Card",
          "Cash",
          "Credit Card",
          "Cash",
          "Cash",
          "Cash",
          "Credit Card",
          "Cash",
          "Credit Card",
          "Credit Card",
          "Credit Card",
          "Cash",
          "Cash",
          "Credit Card",
          "Credit Card",
          "Cash",
          "Credit Card",
          "Credit Card",
          "Cash",
          "Credit Card",
          "Credit Card",
          "Cash",
          "Credit Card",
          "Credit Card",
          "Cash",
          "Credit Card",
          "Credit Card",
          "Credit Card",
          "Cash",
          "Cash",
          "Cash",
          "Cash",
          "Credit Card",
          "Cash",
          "Credit Card",
          "Credit Card",
          "Credit Card",
          "Cash",
          "Cash",
          "Cash",
          "Credit Card",
          "Credit Card",
          "Credit Card",
          "Cash",
          "Cash",
          "Credit Card",
          "Cash",
          "Cash",
          "Credit Card",
          "Credit Card",
          "Cash",
          "Cash",
          "Cash",
          "Cash",
          "Credit Card",
          "Cash",
          "Credit Card",
          "Credit Card",
          "Credit Card",
          "Credit Card",
          "Credit Card",
          "Cash",
          "Credit Card",
          "Credit Card",
          "Cash",
          "Cash",
          "Cash",
          "Cash",
          "Cash",
          "Cash",
          "Cash",
          "Cash",
          "Credit Card",
          "Credit Card",
          "Cash",
          "Cash",
          "Credit Card",
          "Credit Card",
          "Cash",
          "Cash",
          "Cash",
          "Cash",
          "Credit Card",
          "Credit Card",
          "Cash",
          "Credit Card",
          "Credit Card",
          "Credit Card",
          "Cash",
          "Cash",
          "Credit Card",
          "Credit Card",
          "Cash",
          "Cash",
          "Credit Card",
          "Credit Card",
          "Cash",
          "Credit Card",
          "Cash",
          "Credit Card",
          "Credit Card",
          "Cash",
          "Credit Card",
          "Cash",
          "Cash",
          "Cash",
          "Cash",
          "Cash",
          "Credit Card",
          "Credit Card",
          "Credit Card",
          "Credit Card",
          "Cash",
          "Cash",
          "Cash",
          "Cash",
          "Credit Card",
          "Credit Card",
          "Credit Card",
          "Credit Card",
          "Credit Card",
          "Credit Card",
          "Credit Card",
          "Cash",
          "Credit Card",
          "Credit Card",
          "Cash",
          "Cash",
          "Credit Card",
          "Credit Card",
          "Credit Card",
          "Credit Card",
          "Credit Card",
          "Credit Card",
          "Credit Card",
          "Cash",
          "Credit Card",
          "Cash",
          "Cash",
          "Cash",
          "Credit Card",
          "Credit Card",
          "Credit Card",
          "Credit Card",
          "Credit Card",
          "Credit Card",
          "Cash",
          "Credit Card",
          "Cash",
          "Credit Card",
          "Credit Card",
          "Credit Card",
          "Cash",
          "Credit Card",
          "Credit Card",
          "Credit Card",
          "Cash",
          "Credit Card",
          "Cash",
          "Cash",
          "Credit Card",
          "Cash",
          "Credit Card",
          "Cash",
          "Cash",
          "Credit Card",
          "Cash",
          "Cash",
          "Cash",
          "Cash",
          "Credit Card",
          "Credit Card",
          "Credit Card",
          "Credit Card",
          "Cash",
          "Credit Card",
          "Credit Card",
          "Cash",
          "Credit Card",
          "Credit Card",
          "Credit Card",
          "Cash",
          "Credit Card",
          "Credit Card",
          "Credit Card",
          "Cash",
          "Credit Card",
          "Cash",
          "Cash",
          "Cash",
          "Credit Card",
          "Cash",
          "Credit Card",
          "Credit Card",
          "Credit Card",
          "Cash",
          "Credit Card",
          "Credit Card",
          "Cash",
          "Credit Card",
          "Cash",
          "Credit Card",
          "Cash",
          "Cash",
          "Cash",
          "Credit Card",
          "Cash",
          "Cash",
          "Cash",
          "Cash",
          "Cash",
          "Cash",
          "Cash",
          "Cash",
          "Cash",
          "Credit Card",
          "Credit Card",
          "Credit Card",
          "Credit Card",
          "Credit Card",
          "Cash",
          "Credit Card",
          "Credit Card",
          "Credit Card",
          "Credit Card",
          "Credit Card",
          "Credit Card",
          "Cash",
          "Cash",
          "Credit Card",
          "Credit Card",
          "Cash",
          "Credit Card",
          "Credit Card",
          "Cash",
          "Credit Card",
          "Cash",
          "Cash",
          "Cash",
          "Credit Card",
          "Cash",
          "Credit Card",
          "Cash",
          "Credit Card",
          "Cash",
          "Cash",
          "Credit Card",
          "Credit Card",
          "Cash",
          "Cash",
          "Credit Card",
          "Credit Card",
          "Cash",
          "Credit Card",
          "Credit Card",
          "Credit Card",
          "Credit Card",
          "Cash",
          "Credit Card",
          "Credit Card",
          "Cash",
          "Credit Card",
          "Credit Card",
          "Cash",
          "Cash",
          "Credit Card",
          "Cash",
          "Cash",
          "Credit Card",
          "Credit Card",
          "Credit Card",
          "Cash",
          "Credit Card",
          "Credit Card",
          "Credit Card",
          "Cash",
          "Cash",
          "Cash",
          "Credit Card",
          "Credit Card",
          "Credit Card",
          "Credit Card",
          "Credit Card",
          "Credit Card",
          "Cash",
          "Credit Card",
          "Credit Card",
          "Credit Card",
          "Credit Card",
          "Credit Card",
          "Credit Card",
          "Cash",
          "Credit Card",
          "Cash",
          "Credit Card",
          "Credit Card",
          "Credit Card",
          "Cash",
          "Cash",
          "Credit Card",
          "Cash",
          "Cash",
          "Cash",
          "Cash",
          "Credit Card",
          "Cash",
          "Cash",
          "Cash",
          "Credit Card",
          "Cash",
          "Credit Card",
          "Credit Card",
          "Cash",
          "Cash",
          "Credit Card",
          "Cash",
          "Cash",
          "Credit Card",
          "Credit Card",
          "Credit Card",
          "Cash",
          "Credit Card",
          "Credit Card",
          "Cash",
          "Cash",
          "Credit Card",
          "Cash",
          "Cash",
          "Credit Card",
          "Cash",
          "Credit Card",
          "Cash",
          "Cash",
          "Credit Card",
          "Cash",
          "Cash",
          "Credit Card",
          "Credit Card",
          "Cash",
          "Credit Card",
          "Credit Card",
          "Cash",
          "Credit Card",
          "Cash",
          "Cash",
          "Credit Card",
          "Cash",
          "Cash",
          "Cash",
          "Cash",
          "Cash",
          "Credit Card",
          "Credit Card",
          "Cash",
          "Credit Card",
          "Cash",
          "Cash",
          "Cash",
          "Cash",
          "Cash",
          "Cash",
          "Cash",
          "Credit Card",
          "Credit Card",
          "Credit Card",
          "Credit Card",
          "Cash",
          "Credit Card",
          "Credit Card",
          "Cash",
          "Credit Card",
          "Cash",
          "Cash",
          "Cash",
          "Credit Card",
          "Credit Card",
          "Credit Card",
          "Cash",
          "Cash",
          "Credit Card",
          "Cash",
          "Credit Card",
          "Cash",
          "Cash",
          "Cash",
          "Credit Card",
          "Credit Card",
          "Credit Card",
          "Credit Card",
          "Cash",
          "Cash",
          "Cash",
          "Cash",
          "Credit Card",
          "Cash",
          "Cash",
          "Credit Card",
          "Credit Card",
          "Cash",
          "Cash",
          "Cash",
          "Credit Card",
          "Credit Card",
          "Credit Card",
          "Cash",
          "Credit Card",
          "Credit Card",
          "Credit Card",
          "Cash",
          "Credit Card",
          "Credit Card",
          "Cash",
          "Credit Card",
          "Cash",
          "Credit Card",
          "Cash",
          "Cash",
          "Credit Card",
          "Credit Card",
          "Cash",
          "Cash",
          "Credit Card",
          "Cash",
          "Cash",
          "Cash",
          "Credit Card",
          "Cash",
          "Credit Card",
          "Credit Card",
          "Credit Card",
          "Credit Card",
          "Credit Card",
          "Credit Card",
          "Cash",
          "Cash",
          "Credit Card",
          "Cash",
          "Credit Card",
          "Credit Card",
          "Credit Card",
          "Credit Card",
          "Credit Card",
          "Cash",
          "Credit Card",
          "Cash",
          "Cash",
          "Credit Card",
          "Credit Card",
          "Cash",
          "Credit Card",
          "Credit Card",
          "Cash",
          "Credit Card",
          "Credit Card",
          "Credit Card",
          "Credit Card",
          "Credit Card",
          "Credit Card",
          "Credit Card",
          "Cash",
          "Credit Card",
          "Credit Card",
          "Credit Card",
          "Cash",
          "Credit Card",
          "Credit Card",
          "Credit Card",
          "Cash",
          "Cash",
          "Credit Card",
          "Credit Card",
          "Credit Card",
          "Cash",
          "Credit Card",
          "Cash",
          "Cash",
          "Credit Card",
          "Credit Card",
          "Cash",
          "Credit Card",
          "Cash",
          "Credit Card",
          "Cash",
          "Credit Card",
          "Cash",
          "Cash",
          "Cash",
          "Cash",
          "Credit Card",
          "Credit Card",
          "Credit Card",
          "Credit Card",
          "Cash",
          "Cash",
          "Credit Card",
          "Cash",
          "Credit Card",
          "Credit Card",
          "Credit Card",
          "Cash",
          "Credit Card",
          "Cash",
          "Credit Card",
          "Cash",
          "Credit Card",
          "Cash",
          "Credit Card",
          "Credit Card",
          "Cash",
          "Credit Card",
          "Cash",
          "Credit Card",
          "Cash",
          "Credit Card",
          "Credit Card",
          "Cash",
          "Credit Card",
          "Credit Card",
          "Credit Card",
          "Cash",
          "Cash",
          "Cash",
          "Cash",
          "Credit Card",
          "Credit Card",
          "Cash",
          "Cash",
          "Credit Card",
          "Credit Card",
          "Cash",
          "Cash",
          "Credit Card",
          "Credit Card",
          "Credit Card",
          "Cash",
          "Credit Card",
          "Cash",
          "Cash",
          "Cash",
          "Credit Card",
          "Credit Card",
          "Credit Card",
          "Cash",
          "Cash",
          "Credit Card",
          "Credit Card",
          "Credit Card",
          "Cash",
          "Credit Card",
          "Credit Card",
          "Credit Card",
          "Cash",
          "Credit Card",
          "Cash",
          "Cash",
          "Cash",
          "Cash",
          "Cash",
          "Cash",
          "Cash",
          "Credit Card",
          "Cash",
          "Cash",
          "Cash",
          "Credit Card",
          "Cash",
          "Credit Card",
          "Credit Card",
          "Cash",
          "Credit Card",
          "Credit Card",
          "Cash",
          "Credit Card",
          "Credit Card",
          "Cash",
          "Cash",
          "Credit Card",
          "Cash",
          "Credit Card",
          "Credit Card",
          "Cash",
          "Credit Card",
          "Credit Card",
          "Credit Card",
          "Cash",
          "Credit Card",
          "Cash",
          "Credit Card",
          "Cash",
          "Credit Card",
          "Credit Card",
          "Credit Card",
          "Credit Card",
          "Cash",
          "Cash",
          "Credit Card",
          "Credit Card",
          "Credit Card",
          "Credit Card",
          "Cash",
          "Credit Card",
          "Cash",
          "Credit Card",
          "Credit Card",
          "Cash",
          "Credit Card",
          "Credit Card",
          "Credit Card",
          "Credit Card",
          "Cash",
          "Credit Card",
          "Cash",
          "Cash",
          "Cash",
          "Cash",
          "Cash",
          "Cash",
          "Credit Card",
          "Credit Card",
          "Cash",
          "Credit Card",
          "Cash",
          "Credit Card",
          "Credit Card",
          "Credit Card",
          "Cash",
          "Credit Card",
          "Credit Card",
          "Cash",
          "Cash",
          "Cash",
          "Cash",
          "Credit Card",
          "Cash",
          "Cash",
          "Credit Card",
          "Cash",
          "Cash"
         ],
         "legendgroup": "",
         "name": "",
         "showlegend": true,
         "type": "pie"
        }
       ],
       "layout": {
        "legend": {
         "tracegroupgap": 0
        },
        "template": {
         "data": {
          "bar": [
           {
            "error_x": {
             "color": "#2a3f5f"
            },
            "error_y": {
             "color": "#2a3f5f"
            },
            "marker": {
             "line": {
              "color": "#E5ECF6",
              "width": 0.5
             },
             "pattern": {
              "fillmode": "overlay",
              "size": 10,
              "solidity": 0.2
             }
            },
            "type": "bar"
           }
          ],
          "barpolar": [
           {
            "marker": {
             "line": {
              "color": "#E5ECF6",
              "width": 0.5
             },
             "pattern": {
              "fillmode": "overlay",
              "size": 10,
              "solidity": 0.2
             }
            },
            "type": "barpolar"
           }
          ],
          "carpet": [
           {
            "aaxis": {
             "endlinecolor": "#2a3f5f",
             "gridcolor": "white",
             "linecolor": "white",
             "minorgridcolor": "white",
             "startlinecolor": "#2a3f5f"
            },
            "baxis": {
             "endlinecolor": "#2a3f5f",
             "gridcolor": "white",
             "linecolor": "white",
             "minorgridcolor": "white",
             "startlinecolor": "#2a3f5f"
            },
            "type": "carpet"
           }
          ],
          "choropleth": [
           {
            "colorbar": {
             "outlinewidth": 0,
             "ticks": ""
            },
            "type": "choropleth"
           }
          ],
          "contour": [
           {
            "colorbar": {
             "outlinewidth": 0,
             "ticks": ""
            },
            "colorscale": [
             [
              0,
              "#0d0887"
             ],
             [
              0.1111111111111111,
              "#46039f"
             ],
             [
              0.2222222222222222,
              "#7201a8"
             ],
             [
              0.3333333333333333,
              "#9c179e"
             ],
             [
              0.4444444444444444,
              "#bd3786"
             ],
             [
              0.5555555555555556,
              "#d8576b"
             ],
             [
              0.6666666666666666,
              "#ed7953"
             ],
             [
              0.7777777777777778,
              "#fb9f3a"
             ],
             [
              0.8888888888888888,
              "#fdca26"
             ],
             [
              1,
              "#f0f921"
             ]
            ],
            "type": "contour"
           }
          ],
          "contourcarpet": [
           {
            "colorbar": {
             "outlinewidth": 0,
             "ticks": ""
            },
            "type": "contourcarpet"
           }
          ],
          "heatmap": [
           {
            "colorbar": {
             "outlinewidth": 0,
             "ticks": ""
            },
            "colorscale": [
             [
              0,
              "#0d0887"
             ],
             [
              0.1111111111111111,
              "#46039f"
             ],
             [
              0.2222222222222222,
              "#7201a8"
             ],
             [
              0.3333333333333333,
              "#9c179e"
             ],
             [
              0.4444444444444444,
              "#bd3786"
             ],
             [
              0.5555555555555556,
              "#d8576b"
             ],
             [
              0.6666666666666666,
              "#ed7953"
             ],
             [
              0.7777777777777778,
              "#fb9f3a"
             ],
             [
              0.8888888888888888,
              "#fdca26"
             ],
             [
              1,
              "#f0f921"
             ]
            ],
            "type": "heatmap"
           }
          ],
          "histogram": [
           {
            "marker": {
             "pattern": {
              "fillmode": "overlay",
              "size": 10,
              "solidity": 0.2
             }
            },
            "type": "histogram"
           }
          ],
          "histogram2d": [
           {
            "colorbar": {
             "outlinewidth": 0,
             "ticks": ""
            },
            "colorscale": [
             [
              0,
              "#0d0887"
             ],
             [
              0.1111111111111111,
              "#46039f"
             ],
             [
              0.2222222222222222,
              "#7201a8"
             ],
             [
              0.3333333333333333,
              "#9c179e"
             ],
             [
              0.4444444444444444,
              "#bd3786"
             ],
             [
              0.5555555555555556,
              "#d8576b"
             ],
             [
              0.6666666666666666,
              "#ed7953"
             ],
             [
              0.7777777777777778,
              "#fb9f3a"
             ],
             [
              0.8888888888888888,
              "#fdca26"
             ],
             [
              1,
              "#f0f921"
             ]
            ],
            "type": "histogram2d"
           }
          ],
          "histogram2dcontour": [
           {
            "colorbar": {
             "outlinewidth": 0,
             "ticks": ""
            },
            "colorscale": [
             [
              0,
              "#0d0887"
             ],
             [
              0.1111111111111111,
              "#46039f"
             ],
             [
              0.2222222222222222,
              "#7201a8"
             ],
             [
              0.3333333333333333,
              "#9c179e"
             ],
             [
              0.4444444444444444,
              "#bd3786"
             ],
             [
              0.5555555555555556,
              "#d8576b"
             ],
             [
              0.6666666666666666,
              "#ed7953"
             ],
             [
              0.7777777777777778,
              "#fb9f3a"
             ],
             [
              0.8888888888888888,
              "#fdca26"
             ],
             [
              1,
              "#f0f921"
             ]
            ],
            "type": "histogram2dcontour"
           }
          ],
          "mesh3d": [
           {
            "colorbar": {
             "outlinewidth": 0,
             "ticks": ""
            },
            "type": "mesh3d"
           }
          ],
          "parcoords": [
           {
            "line": {
             "colorbar": {
              "outlinewidth": 0,
              "ticks": ""
             }
            },
            "type": "parcoords"
           }
          ],
          "pie": [
           {
            "automargin": true,
            "type": "pie"
           }
          ],
          "scatter": [
           {
            "fillpattern": {
             "fillmode": "overlay",
             "size": 10,
             "solidity": 0.2
            },
            "type": "scatter"
           }
          ],
          "scatter3d": [
           {
            "line": {
             "colorbar": {
              "outlinewidth": 0,
              "ticks": ""
             }
            },
            "marker": {
             "colorbar": {
              "outlinewidth": 0,
              "ticks": ""
             }
            },
            "type": "scatter3d"
           }
          ],
          "scattercarpet": [
           {
            "marker": {
             "colorbar": {
              "outlinewidth": 0,
              "ticks": ""
             }
            },
            "type": "scattercarpet"
           }
          ],
          "scattergeo": [
           {
            "marker": {
             "colorbar": {
              "outlinewidth": 0,
              "ticks": ""
             }
            },
            "type": "scattergeo"
           }
          ],
          "scattergl": [
           {
            "marker": {
             "colorbar": {
              "outlinewidth": 0,
              "ticks": ""
             }
            },
            "type": "scattergl"
           }
          ],
          "scattermap": [
           {
            "marker": {
             "colorbar": {
              "outlinewidth": 0,
              "ticks": ""
             }
            },
            "type": "scattermap"
           }
          ],
          "scattermapbox": [
           {
            "marker": {
             "colorbar": {
              "outlinewidth": 0,
              "ticks": ""
             }
            },
            "type": "scattermapbox"
           }
          ],
          "scatterpolar": [
           {
            "marker": {
             "colorbar": {
              "outlinewidth": 0,
              "ticks": ""
             }
            },
            "type": "scatterpolar"
           }
          ],
          "scatterpolargl": [
           {
            "marker": {
             "colorbar": {
              "outlinewidth": 0,
              "ticks": ""
             }
            },
            "type": "scatterpolargl"
           }
          ],
          "scatterternary": [
           {
            "marker": {
             "colorbar": {
              "outlinewidth": 0,
              "ticks": ""
             }
            },
            "type": "scatterternary"
           }
          ],
          "surface": [
           {
            "colorbar": {
             "outlinewidth": 0,
             "ticks": ""
            },
            "colorscale": [
             [
              0,
              "#0d0887"
             ],
             [
              0.1111111111111111,
              "#46039f"
             ],
             [
              0.2222222222222222,
              "#7201a8"
             ],
             [
              0.3333333333333333,
              "#9c179e"
             ],
             [
              0.4444444444444444,
              "#bd3786"
             ],
             [
              0.5555555555555556,
              "#d8576b"
             ],
             [
              0.6666666666666666,
              "#ed7953"
             ],
             [
              0.7777777777777778,
              "#fb9f3a"
             ],
             [
              0.8888888888888888,
              "#fdca26"
             ],
             [
              1,
              "#f0f921"
             ]
            ],
            "type": "surface"
           }
          ],
          "table": [
           {
            "cells": {
             "fill": {
              "color": "#EBF0F8"
             },
             "line": {
              "color": "white"
             }
            },
            "header": {
             "fill": {
              "color": "#C8D4E3"
             },
             "line": {
              "color": "white"
             }
            },
            "type": "table"
           }
          ]
         },
         "layout": {
          "annotationdefaults": {
           "arrowcolor": "#2a3f5f",
           "arrowhead": 0,
           "arrowwidth": 1
          },
          "autotypenumbers": "strict",
          "coloraxis": {
           "colorbar": {
            "outlinewidth": 0,
            "ticks": ""
           }
          },
          "colorscale": {
           "diverging": [
            [
             0,
             "#8e0152"
            ],
            [
             0.1,
             "#c51b7d"
            ],
            [
             0.2,
             "#de77ae"
            ],
            [
             0.3,
             "#f1b6da"
            ],
            [
             0.4,
             "#fde0ef"
            ],
            [
             0.5,
             "#f7f7f7"
            ],
            [
             0.6,
             "#e6f5d0"
            ],
            [
             0.7,
             "#b8e186"
            ],
            [
             0.8,
             "#7fbc41"
            ],
            [
             0.9,
             "#4d9221"
            ],
            [
             1,
             "#276419"
            ]
           ],
           "sequential": [
            [
             0,
             "#0d0887"
            ],
            [
             0.1111111111111111,
             "#46039f"
            ],
            [
             0.2222222222222222,
             "#7201a8"
            ],
            [
             0.3333333333333333,
             "#9c179e"
            ],
            [
             0.4444444444444444,
             "#bd3786"
            ],
            [
             0.5555555555555556,
             "#d8576b"
            ],
            [
             0.6666666666666666,
             "#ed7953"
            ],
            [
             0.7777777777777778,
             "#fb9f3a"
            ],
            [
             0.8888888888888888,
             "#fdca26"
            ],
            [
             1,
             "#f0f921"
            ]
           ],
           "sequentialminus": [
            [
             0,
             "#0d0887"
            ],
            [
             0.1111111111111111,
             "#46039f"
            ],
            [
             0.2222222222222222,
             "#7201a8"
            ],
            [
             0.3333333333333333,
             "#9c179e"
            ],
            [
             0.4444444444444444,
             "#bd3786"
            ],
            [
             0.5555555555555556,
             "#d8576b"
            ],
            [
             0.6666666666666666,
             "#ed7953"
            ],
            [
             0.7777777777777778,
             "#fb9f3a"
            ],
            [
             0.8888888888888888,
             "#fdca26"
            ],
            [
             1,
             "#f0f921"
            ]
           ]
          },
          "colorway": [
           "#636efa",
           "#EF553B",
           "#00cc96",
           "#ab63fa",
           "#FFA15A",
           "#19d3f3",
           "#FF6692",
           "#B6E880",
           "#FF97FF",
           "#FECB52"
          ],
          "font": {
           "color": "#2a3f5f"
          },
          "geo": {
           "bgcolor": "white",
           "lakecolor": "white",
           "landcolor": "#E5ECF6",
           "showlakes": true,
           "showland": true,
           "subunitcolor": "white"
          },
          "hoverlabel": {
           "align": "left"
          },
          "hovermode": "closest",
          "mapbox": {
           "style": "light"
          },
          "paper_bgcolor": "white",
          "plot_bgcolor": "#E5ECF6",
          "polar": {
           "angularaxis": {
            "gridcolor": "white",
            "linecolor": "white",
            "ticks": ""
           },
           "bgcolor": "#E5ECF6",
           "radialaxis": {
            "gridcolor": "white",
            "linecolor": "white",
            "ticks": ""
           }
          },
          "scene": {
           "xaxis": {
            "backgroundcolor": "#E5ECF6",
            "gridcolor": "white",
            "gridwidth": 2,
            "linecolor": "white",
            "showbackground": true,
            "ticks": "",
            "zerolinecolor": "white"
           },
           "yaxis": {
            "backgroundcolor": "#E5ECF6",
            "gridcolor": "white",
            "gridwidth": 2,
            "linecolor": "white",
            "showbackground": true,
            "ticks": "",
            "zerolinecolor": "white"
           },
           "zaxis": {
            "backgroundcolor": "#E5ECF6",
            "gridcolor": "white",
            "gridwidth": 2,
            "linecolor": "white",
            "showbackground": true,
            "ticks": "",
            "zerolinecolor": "white"
           }
          },
          "shapedefaults": {
           "line": {
            "color": "#2a3f5f"
           }
          },
          "ternary": {
           "aaxis": {
            "gridcolor": "white",
            "linecolor": "white",
            "ticks": ""
           },
           "baxis": {
            "gridcolor": "white",
            "linecolor": "white",
            "ticks": ""
           },
           "bgcolor": "#E5ECF6",
           "caxis": {
            "gridcolor": "white",
            "linecolor": "white",
            "ticks": ""
           }
          },
          "title": {
           "x": 0.05
          },
          "xaxis": {
           "automargin": true,
           "gridcolor": "white",
           "linecolor": "white",
           "ticks": "",
           "title": {
            "standoff": 15
           },
           "zerolinecolor": "white",
           "zerolinewidth": 2
          },
          "yaxis": {
           "automargin": true,
           "gridcolor": "white",
           "linecolor": "white",
           "ticks": "",
           "title": {
            "standoff": 15
           },
           "zerolinecolor": "white",
           "zerolinewidth": 2
          }
         }
        },
        "title": {
         "text": "Verteilung der Zahlungsmethoden (Donut Chart)"
        }
       }
      }
     },
     "metadata": {},
     "output_type": "display_data"
    }
   ],
   "source": [
    "# 4. Ringdiagramm (Donut Chart): Verteilung der Zahlungsmethoden\n",
    "fig = px.pie(df, names='payment method', hole=0.4,\n",
    "             title='Verteilung der Zahlungsmethoden (Donut Chart)')\n",
    "fig.show()\n"
   ]
  },
  {
   "cell_type": "code",
   "execution_count": 47,
   "id": "ce5ba280",
   "metadata": {},
   "outputs": [
    {
     "data": {
      "application/vnd.plotly.v1+json": {
       "config": {
        "plotlyServerURL": "https://plot.ly"
       },
       "data": [
        {
         "hovertemplate": "review rating=%{x}<br>amount usd=%{y}<extra></extra>",
         "legendgroup": "",
         "marker": {
          "color": "#636efa",
          "symbol": "circle"
         },
         "mode": "markers",
         "name": "",
         "showlegend": false,
         "type": "scattergl",
         "x": {
          "bdata": "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",
          "dtype": "f8"
         },
         "xaxis": "x",
         "y": {
          "bdata": "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",
          "dtype": "f8"
         },
         "yaxis": "y"
        }
       ],
       "layout": {
        "legend": {
         "tracegroupgap": 0
        },
        "template": {
         "data": {
          "bar": [
           {
            "error_x": {
             "color": "#2a3f5f"
            },
            "error_y": {
             "color": "#2a3f5f"
            },
            "marker": {
             "line": {
              "color": "#E5ECF6",
              "width": 0.5
             },
             "pattern": {
              "fillmode": "overlay",
              "size": 10,
              "solidity": 0.2
             }
            },
            "type": "bar"
           }
          ],
          "barpolar": [
           {
            "marker": {
             "line": {
              "color": "#E5ECF6",
              "width": 0.5
             },
             "pattern": {
              "fillmode": "overlay",
              "size": 10,
              "solidity": 0.2
             }
            },
            "type": "barpolar"
           }
          ],
          "carpet": [
           {
            "aaxis": {
             "endlinecolor": "#2a3f5f",
             "gridcolor": "white",
             "linecolor": "white",
             "minorgridcolor": "white",
             "startlinecolor": "#2a3f5f"
            },
            "baxis": {
             "endlinecolor": "#2a3f5f",
             "gridcolor": "white",
             "linecolor": "white",
             "minorgridcolor": "white",
             "startlinecolor": "#2a3f5f"
            },
            "type": "carpet"
           }
          ],
          "choropleth": [
           {
            "colorbar": {
             "outlinewidth": 0,
             "ticks": ""
            },
            "type": "choropleth"
           }
          ],
          "contour": [
           {
            "colorbar": {
             "outlinewidth": 0,
             "ticks": ""
            },
            "colorscale": [
             [
              0,
              "#0d0887"
             ],
             [
              0.1111111111111111,
              "#46039f"
             ],
             [
              0.2222222222222222,
              "#7201a8"
             ],
             [
              0.3333333333333333,
              "#9c179e"
             ],
             [
              0.4444444444444444,
              "#bd3786"
             ],
             [
              0.5555555555555556,
              "#d8576b"
             ],
             [
              0.6666666666666666,
              "#ed7953"
             ],
             [
              0.7777777777777778,
              "#fb9f3a"
             ],
             [
              0.8888888888888888,
              "#fdca26"
             ],
             [
              1,
              "#f0f921"
             ]
            ],
            "type": "contour"
           }
          ],
          "contourcarpet": [
           {
            "colorbar": {
             "outlinewidth": 0,
             "ticks": ""
            },
            "type": "contourcarpet"
           }
          ],
          "heatmap": [
           {
            "colorbar": {
             "outlinewidth": 0,
             "ticks": ""
            },
            "colorscale": [
             [
              0,
              "#0d0887"
             ],
             [
              0.1111111111111111,
              "#46039f"
             ],
             [
              0.2222222222222222,
              "#7201a8"
             ],
             [
              0.3333333333333333,
              "#9c179e"
             ],
             [
              0.4444444444444444,
              "#bd3786"
             ],
             [
              0.5555555555555556,
              "#d8576b"
             ],
             [
              0.6666666666666666,
              "#ed7953"
             ],
             [
              0.7777777777777778,
              "#fb9f3a"
             ],
             [
              0.8888888888888888,
              "#fdca26"
             ],
             [
              1,
              "#f0f921"
             ]
            ],
            "type": "heatmap"
           }
          ],
          "histogram": [
           {
            "marker": {
             "pattern": {
              "fillmode": "overlay",
              "size": 10,
              "solidity": 0.2
             }
            },
            "type": "histogram"
           }
          ],
          "histogram2d": [
           {
            "colorbar": {
             "outlinewidth": 0,
             "ticks": ""
            },
            "colorscale": [
             [
              0,
              "#0d0887"
             ],
             [
              0.1111111111111111,
              "#46039f"
             ],
             [
              0.2222222222222222,
              "#7201a8"
             ],
             [
              0.3333333333333333,
              "#9c179e"
             ],
             [
              0.4444444444444444,
              "#bd3786"
             ],
             [
              0.5555555555555556,
              "#d8576b"
             ],
             [
              0.6666666666666666,
              "#ed7953"
             ],
             [
              0.7777777777777778,
              "#fb9f3a"
             ],
             [
              0.8888888888888888,
              "#fdca26"
             ],
             [
              1,
              "#f0f921"
             ]
            ],
            "type": "histogram2d"
           }
          ],
          "histogram2dcontour": [
           {
            "colorbar": {
             "outlinewidth": 0,
             "ticks": ""
            },
            "colorscale": [
             [
              0,
              "#0d0887"
             ],
             [
              0.1111111111111111,
              "#46039f"
             ],
             [
              0.2222222222222222,
              "#7201a8"
             ],
             [
              0.3333333333333333,
              "#9c179e"
             ],
             [
              0.4444444444444444,
              "#bd3786"
             ],
             [
              0.5555555555555556,
              "#d8576b"
             ],
             [
              0.6666666666666666,
              "#ed7953"
             ],
             [
              0.7777777777777778,
              "#fb9f3a"
             ],
             [
              0.8888888888888888,
              "#fdca26"
             ],
             [
              1,
              "#f0f921"
             ]
            ],
            "type": "histogram2dcontour"
           }
          ],
          "mesh3d": [
           {
            "colorbar": {
             "outlinewidth": 0,
             "ticks": ""
            },
            "type": "mesh3d"
           }
          ],
          "parcoords": [
           {
            "line": {
             "colorbar": {
              "outlinewidth": 0,
              "ticks": ""
             }
            },
            "type": "parcoords"
           }
          ],
          "pie": [
           {
            "automargin": true,
            "type": "pie"
           }
          ],
          "scatter": [
           {
            "fillpattern": {
             "fillmode": "overlay",
             "size": 10,
             "solidity": 0.2
            },
            "type": "scatter"
           }
          ],
          "scatter3d": [
           {
            "line": {
             "colorbar": {
              "outlinewidth": 0,
              "ticks": ""
             }
            },
            "marker": {
             "colorbar": {
              "outlinewidth": 0,
              "ticks": ""
             }
            },
            "type": "scatter3d"
           }
          ],
          "scattercarpet": [
           {
            "marker": {
             "colorbar": {
              "outlinewidth": 0,
              "ticks": ""
             }
            },
            "type": "scattercarpet"
           }
          ],
          "scattergeo": [
           {
            "marker": {
             "colorbar": {
              "outlinewidth": 0,
              "ticks": ""
             }
            },
            "type": "scattergeo"
           }
          ],
          "scattergl": [
           {
            "marker": {
             "colorbar": {
              "outlinewidth": 0,
              "ticks": ""
             }
            },
            "type": "scattergl"
           }
          ],
          "scattermap": [
           {
            "marker": {
             "colorbar": {
              "outlinewidth": 0,
              "ticks": ""
             }
            },
            "type": "scattermap"
           }
          ],
          "scattermapbox": [
           {
            "marker": {
             "colorbar": {
              "outlinewidth": 0,
              "ticks": ""
             }
            },
            "type": "scattermapbox"
           }
          ],
          "scatterpolar": [
           {
            "marker": {
             "colorbar": {
              "outlinewidth": 0,
              "ticks": ""
             }
            },
            "type": "scatterpolar"
           }
          ],
          "scatterpolargl": [
           {
            "marker": {
             "colorbar": {
              "outlinewidth": 0,
              "ticks": ""
             }
            },
            "type": "scatterpolargl"
           }
          ],
          "scatterternary": [
           {
            "marker": {
             "colorbar": {
              "outlinewidth": 0,
              "ticks": ""
             }
            },
            "type": "scatterternary"
           }
          ],
          "surface": [
           {
            "colorbar": {
             "outlinewidth": 0,
             "ticks": ""
            },
            "colorscale": [
             [
              0,
              "#0d0887"
             ],
             [
              0.1111111111111111,
              "#46039f"
             ],
             [
              0.2222222222222222,
              "#7201a8"
             ],
             [
              0.3333333333333333,
              "#9c179e"
             ],
             [
              0.4444444444444444,
              "#bd3786"
             ],
             [
              0.5555555555555556,
              "#d8576b"
             ],
             [
              0.6666666666666666,
              "#ed7953"
             ],
             [
              0.7777777777777778,
              "#fb9f3a"
             ],
             [
              0.8888888888888888,
              "#fdca26"
             ],
             [
              1,
              "#f0f921"
             ]
            ],
            "type": "surface"
           }
          ],
          "table": [
           {
            "cells": {
             "fill": {
              "color": "#EBF0F8"
             },
             "line": {
              "color": "white"
             }
            },
            "header": {
             "fill": {
              "color": "#C8D4E3"
             },
             "line": {
              "color": "white"
             }
            },
            "type": "table"
           }
          ]
         },
         "layout": {
          "annotationdefaults": {
           "arrowcolor": "#2a3f5f",
           "arrowhead": 0,
           "arrowwidth": 1
          },
          "autotypenumbers": "strict",
          "coloraxis": {
           "colorbar": {
            "outlinewidth": 0,
            "ticks": ""
           }
          },
          "colorscale": {
           "diverging": [
            [
             0,
             "#8e0152"
            ],
            [
             0.1,
             "#c51b7d"
            ],
            [
             0.2,
             "#de77ae"
            ],
            [
             0.3,
             "#f1b6da"
            ],
            [
             0.4,
             "#fde0ef"
            ],
            [
             0.5,
             "#f7f7f7"
            ],
            [
             0.6,
             "#e6f5d0"
            ],
            [
             0.7,
             "#b8e186"
            ],
            [
             0.8,
             "#7fbc41"
            ],
            [
             0.9,
             "#4d9221"
            ],
            [
             1,
             "#276419"
            ]
           ],
           "sequential": [
            [
             0,
             "#0d0887"
            ],
            [
             0.1111111111111111,
             "#46039f"
            ],
            [
             0.2222222222222222,
             "#7201a8"
            ],
            [
             0.3333333333333333,
             "#9c179e"
            ],
            [
             0.4444444444444444,
             "#bd3786"
            ],
            [
             0.5555555555555556,
             "#d8576b"
            ],
            [
             0.6666666666666666,
             "#ed7953"
            ],
            [
             0.7777777777777778,
             "#fb9f3a"
            ],
            [
             0.8888888888888888,
             "#fdca26"
            ],
            [
             1,
             "#f0f921"
            ]
           ],
           "sequentialminus": [
            [
             0,
             "#0d0887"
            ],
            [
             0.1111111111111111,
             "#46039f"
            ],
            [
             0.2222222222222222,
             "#7201a8"
            ],
            [
             0.3333333333333333,
             "#9c179e"
            ],
            [
             0.4444444444444444,
             "#bd3786"
            ],
            [
             0.5555555555555556,
             "#d8576b"
            ],
            [
             0.6666666666666666,
             "#ed7953"
            ],
            [
             0.7777777777777778,
             "#fb9f3a"
            ],
            [
             0.8888888888888888,
             "#fdca26"
            ],
            [
             1,
             "#f0f921"
            ]
           ]
          },
          "colorway": [
           "#636efa",
           "#EF553B",
           "#00cc96",
           "#ab63fa",
           "#FFA15A",
           "#19d3f3",
           "#FF6692",
           "#B6E880",
           "#FF97FF",
           "#FECB52"
          ],
          "font": {
           "color": "#2a3f5f"
          },
          "geo": {
           "bgcolor": "white",
           "lakecolor": "white",
           "landcolor": "#E5ECF6",
           "showlakes": true,
           "showland": true,
           "subunitcolor": "white"
          },
          "hoverlabel": {
           "align": "left"
          },
          "hovermode": "closest",
          "mapbox": {
           "style": "light"
          },
          "paper_bgcolor": "white",
          "plot_bgcolor": "#E5ECF6",
          "polar": {
           "angularaxis": {
            "gridcolor": "white",
            "linecolor": "white",
            "ticks": ""
           },
           "bgcolor": "#E5ECF6",
           "radialaxis": {
            "gridcolor": "white",
            "linecolor": "white",
            "ticks": ""
           }
          },
          "scene": {
           "xaxis": {
            "backgroundcolor": "#E5ECF6",
            "gridcolor": "white",
            "gridwidth": 2,
            "linecolor": "white",
            "showbackground": true,
            "ticks": "",
            "zerolinecolor": "white"
           },
           "yaxis": {
            "backgroundcolor": "#E5ECF6",
            "gridcolor": "white",
            "gridwidth": 2,
            "linecolor": "white",
            "showbackground": true,
            "ticks": "",
            "zerolinecolor": "white"
           },
           "zaxis": {
            "backgroundcolor": "#E5ECF6",
            "gridcolor": "white",
            "gridwidth": 2,
            "linecolor": "white",
            "showbackground": true,
            "ticks": "",
            "zerolinecolor": "white"
           }
          },
          "shapedefaults": {
           "line": {
            "color": "#2a3f5f"
           }
          },
          "ternary": {
           "aaxis": {
            "gridcolor": "white",
            "linecolor": "white",
            "ticks": ""
           },
           "baxis": {
            "gridcolor": "white",
            "linecolor": "white",
            "ticks": ""
           },
           "bgcolor": "#E5ECF6",
           "caxis": {
            "gridcolor": "white",
            "linecolor": "white",
            "ticks": ""
           }
          },
          "title": {
           "x": 0.05
          },
          "xaxis": {
           "automargin": true,
           "gridcolor": "white",
           "linecolor": "white",
           "ticks": "",
           "title": {
            "standoff": 15
           },
           "zerolinecolor": "white",
           "zerolinewidth": 2
          },
          "yaxis": {
           "automargin": true,
           "gridcolor": "white",
           "linecolor": "white",
           "ticks": "",
           "title": {
            "standoff": 15
           },
           "zerolinecolor": "white",
           "zerolinewidth": 2
          }
         }
        },
        "title": {
         "text": "Zusammenhang zwischen Bewertung und Kaufbetrag"
        },
        "xaxis": {
         "anchor": "y",
         "domain": [
          0,
          1
         ],
         "title": {
          "text": "review rating"
         }
        },
        "yaxis": {
         "anchor": "x",
         "domain": [
          0,
          1
         ],
         "title": {
          "text": "amount usd"
         }
        }
       }
      }
     },
     "metadata": {},
     "output_type": "display_data"
    }
   ],
   "source": [
    "# 5. Streudiagramm: Zusammenhang zwischen Bewertung und Kaufbetrag\n",
    "fig = px.scatter(df, x='review rating', y='amount usd',\n",
    "                 title='Zusammenhang zwischen Bewertung und Kaufbetrag')\n",
    "fig.show()\n"
   ]
  },
  {
   "cell_type": "code",
   "execution_count": 48,
   "id": "60177bce",
   "metadata": {},
   "outputs": [
    {
     "data": {
      "application/vnd.plotly.v1+json": {
       "config": {
        "plotlyServerURL": "https://plot.ly"
       },
       "data": [
        {
         "hovertemplate": "date=%{x}<br>amount usd=%{y}<extra></extra>",
         "legendgroup": "",
         "marker": {
          "color": "#636efa",
          "symbol": "circle"
         },
         "mode": "markers",
         "name": "",
         "orientation": "v",
         "showlegend": false,
         "type": "scatter",
         "x": [
          "2022-10-01T00:00:00.000000000",
          "2022-11-01T00:00:00.000000000",
          "2022-12-01T00:00:00.000000000",
          "2023-01-01T00:00:00.000000000",
          "2023-02-01T00:00:00.000000000",
          "2023-03-01T00:00:00.000000000",
          "2023-04-01T00:00:00.000000000",
          "2023-05-01T00:00:00.000000000",
          "2023-06-01T00:00:00.000000000",
          "2023-07-01T00:00:00.000000000",
          "2023-08-01T00:00:00.000000000",
          "2023-09-01T00:00:00.000000000",
          "2023-10-01T00:00:00.000000000"
         ],
         "xaxis": "x",
         "y": {
          "bdata": "0BQCTSFQX0Co9SsFai1mQCmllFJKnWdAOHwhRcCGX0CTTTbZZGNlQJZ7GmG5N2VALIjJFcRkZUCTGARWDq1mQEwipFrWQWVAXDy5xZPbYEARQgghhAxiQG2yySab7F5AZmZmZmYmVUA=",
          "dtype": "f8"
         },
         "yaxis": "y"
        },
        {
         "mode": "lines",
         "name": "Trendlinie",
         "type": "scatter",
         "x": [
          "2022-10-01T00:00:00.000000000",
          "2022-11-01T00:00:00.000000000",
          "2022-12-01T00:00:00.000000000",
          "2023-01-01T00:00:00.000000000",
          "2023-02-01T00:00:00.000000000",
          "2023-03-01T00:00:00.000000000",
          "2023-04-01T00:00:00.000000000",
          "2023-05-01T00:00:00.000000000",
          "2023-06-01T00:00:00.000000000",
          "2023-07-01T00:00:00.000000000",
          "2023-08-01T00:00:00.000000000",
          "2023-09-01T00:00:00.000000000",
          "2023-10-01T00:00:00.000000000"
         ],
         "y": {
          "bdata": "0BQCTSFQX0Co9SsFai1mQCmllFJKnWdAOHwhRcCGX0CTTTbZZGNlQJZ7GmG5N2VALIjJFcRkZUCTGARWDq1mQEwipFrWQWVAXDy5xZPbYEARQgghhAxiQG2yySab7F5AZmZmZmYmVUA=",
          "dtype": "f8"
         }
        }
       ],
       "layout": {
        "legend": {
         "tracegroupgap": 0
        },
        "template": {
         "data": {
          "bar": [
           {
            "error_x": {
             "color": "#2a3f5f"
            },
            "error_y": {
             "color": "#2a3f5f"
            },
            "marker": {
             "line": {
              "color": "#E5ECF6",
              "width": 0.5
             },
             "pattern": {
              "fillmode": "overlay",
              "size": 10,
              "solidity": 0.2
             }
            },
            "type": "bar"
           }
          ],
          "barpolar": [
           {
            "marker": {
             "line": {
              "color": "#E5ECF6",
              "width": 0.5
             },
             "pattern": {
              "fillmode": "overlay",
              "size": 10,
              "solidity": 0.2
             }
            },
            "type": "barpolar"
           }
          ],
          "carpet": [
           {
            "aaxis": {
             "endlinecolor": "#2a3f5f",
             "gridcolor": "white",
             "linecolor": "white",
             "minorgridcolor": "white",
             "startlinecolor": "#2a3f5f"
            },
            "baxis": {
             "endlinecolor": "#2a3f5f",
             "gridcolor": "white",
             "linecolor": "white",
             "minorgridcolor": "white",
             "startlinecolor": "#2a3f5f"
            },
            "type": "carpet"
           }
          ],
          "choropleth": [
           {
            "colorbar": {
             "outlinewidth": 0,
             "ticks": ""
            },
            "type": "choropleth"
           }
          ],
          "contour": [
           {
            "colorbar": {
             "outlinewidth": 0,
             "ticks": ""
            },
            "colorscale": [
             [
              0,
              "#0d0887"
             ],
             [
              0.1111111111111111,
              "#46039f"
             ],
             [
              0.2222222222222222,
              "#7201a8"
             ],
             [
              0.3333333333333333,
              "#9c179e"
             ],
             [
              0.4444444444444444,
              "#bd3786"
             ],
             [
              0.5555555555555556,
              "#d8576b"
             ],
             [
              0.6666666666666666,
              "#ed7953"
             ],
             [
              0.7777777777777778,
              "#fb9f3a"
             ],
             [
              0.8888888888888888,
              "#fdca26"
             ],
             [
              1,
              "#f0f921"
             ]
            ],
            "type": "contour"
           }
          ],
          "contourcarpet": [
           {
            "colorbar": {
             "outlinewidth": 0,
             "ticks": ""
            },
            "type": "contourcarpet"
           }
          ],
          "heatmap": [
           {
            "colorbar": {
             "outlinewidth": 0,
             "ticks": ""
            },
            "colorscale": [
             [
              0,
              "#0d0887"
             ],
             [
              0.1111111111111111,
              "#46039f"
             ],
             [
              0.2222222222222222,
              "#7201a8"
             ],
             [
              0.3333333333333333,
              "#9c179e"
             ],
             [
              0.4444444444444444,
              "#bd3786"
             ],
             [
              0.5555555555555556,
              "#d8576b"
             ],
             [
              0.6666666666666666,
              "#ed7953"
             ],
             [
              0.7777777777777778,
              "#fb9f3a"
             ],
             [
              0.8888888888888888,
              "#fdca26"
             ],
             [
              1,
              "#f0f921"
             ]
            ],
            "type": "heatmap"
           }
          ],
          "histogram": [
           {
            "marker": {
             "pattern": {
              "fillmode": "overlay",
              "size": 10,
              "solidity": 0.2
             }
            },
            "type": "histogram"
           }
          ],
          "histogram2d": [
           {
            "colorbar": {
             "outlinewidth": 0,
             "ticks": ""
            },
            "colorscale": [
             [
              0,
              "#0d0887"
             ],
             [
              0.1111111111111111,
              "#46039f"
             ],
             [
              0.2222222222222222,
              "#7201a8"
             ],
             [
              0.3333333333333333,
              "#9c179e"
             ],
             [
              0.4444444444444444,
              "#bd3786"
             ],
             [
              0.5555555555555556,
              "#d8576b"
             ],
             [
              0.6666666666666666,
              "#ed7953"
             ],
             [
              0.7777777777777778,
              "#fb9f3a"
             ],
             [
              0.8888888888888888,
              "#fdca26"
             ],
             [
              1,
              "#f0f921"
             ]
            ],
            "type": "histogram2d"
           }
          ],
          "histogram2dcontour": [
           {
            "colorbar": {
             "outlinewidth": 0,
             "ticks": ""
            },
            "colorscale": [
             [
              0,
              "#0d0887"
             ],
             [
              0.1111111111111111,
              "#46039f"
             ],
             [
              0.2222222222222222,
              "#7201a8"
             ],
             [
              0.3333333333333333,
              "#9c179e"
             ],
             [
              0.4444444444444444,
              "#bd3786"
             ],
             [
              0.5555555555555556,
              "#d8576b"
             ],
             [
              0.6666666666666666,
              "#ed7953"
             ],
             [
              0.7777777777777778,
              "#fb9f3a"
             ],
             [
              0.8888888888888888,
              "#fdca26"
             ],
             [
              1,
              "#f0f921"
             ]
            ],
            "type": "histogram2dcontour"
           }
          ],
          "mesh3d": [
           {
            "colorbar": {
             "outlinewidth": 0,
             "ticks": ""
            },
            "type": "mesh3d"
           }
          ],
          "parcoords": [
           {
            "line": {
             "colorbar": {
              "outlinewidth": 0,
              "ticks": ""
             }
            },
            "type": "parcoords"
           }
          ],
          "pie": [
           {
            "automargin": true,
            "type": "pie"
           }
          ],
          "scatter": [
           {
            "fillpattern": {
             "fillmode": "overlay",
             "size": 10,
             "solidity": 0.2
            },
            "type": "scatter"
           }
          ],
          "scatter3d": [
           {
            "line": {
             "colorbar": {
              "outlinewidth": 0,
              "ticks": ""
             }
            },
            "marker": {
             "colorbar": {
              "outlinewidth": 0,
              "ticks": ""
             }
            },
            "type": "scatter3d"
           }
          ],
          "scattercarpet": [
           {
            "marker": {
             "colorbar": {
              "outlinewidth": 0,
              "ticks": ""
             }
            },
            "type": "scattercarpet"
           }
          ],
          "scattergeo": [
           {
            "marker": {
             "colorbar": {
              "outlinewidth": 0,
              "ticks": ""
             }
            },
            "type": "scattergeo"
           }
          ],
          "scattergl": [
           {
            "marker": {
             "colorbar": {
              "outlinewidth": 0,
              "ticks": ""
             }
            },
            "type": "scattergl"
           }
          ],
          "scattermap": [
           {
            "marker": {
             "colorbar": {
              "outlinewidth": 0,
              "ticks": ""
             }
            },
            "type": "scattermap"
           }
          ],
          "scattermapbox": [
           {
            "marker": {
             "colorbar": {
              "outlinewidth": 0,
              "ticks": ""
             }
            },
            "type": "scattermapbox"
           }
          ],
          "scatterpolar": [
           {
            "marker": {
             "colorbar": {
              "outlinewidth": 0,
              "ticks": ""
             }
            },
            "type": "scatterpolar"
           }
          ],
          "scatterpolargl": [
           {
            "marker": {
             "colorbar": {
              "outlinewidth": 0,
              "ticks": ""
             }
            },
            "type": "scatterpolargl"
           }
          ],
          "scatterternary": [
           {
            "marker": {
             "colorbar": {
              "outlinewidth": 0,
              "ticks": ""
             }
            },
            "type": "scatterternary"
           }
          ],
          "surface": [
           {
            "colorbar": {
             "outlinewidth": 0,
             "ticks": ""
            },
            "colorscale": [
             [
              0,
              "#0d0887"
             ],
             [
              0.1111111111111111,
              "#46039f"
             ],
             [
              0.2222222222222222,
              "#7201a8"
             ],
             [
              0.3333333333333333,
              "#9c179e"
             ],
             [
              0.4444444444444444,
              "#bd3786"
             ],
             [
              0.5555555555555556,
              "#d8576b"
             ],
             [
              0.6666666666666666,
              "#ed7953"
             ],
             [
              0.7777777777777778,
              "#fb9f3a"
             ],
             [
              0.8888888888888888,
              "#fdca26"
             ],
             [
              1,
              "#f0f921"
             ]
            ],
            "type": "surface"
           }
          ],
          "table": [
           {
            "cells": {
             "fill": {
              "color": "#EBF0F8"
             },
             "line": {
              "color": "white"
             }
            },
            "header": {
             "fill": {
              "color": "#C8D4E3"
             },
             "line": {
              "color": "white"
             }
            },
            "type": "table"
           }
          ]
         },
         "layout": {
          "annotationdefaults": {
           "arrowcolor": "#2a3f5f",
           "arrowhead": 0,
           "arrowwidth": 1
          },
          "autotypenumbers": "strict",
          "coloraxis": {
           "colorbar": {
            "outlinewidth": 0,
            "ticks": ""
           }
          },
          "colorscale": {
           "diverging": [
            [
             0,
             "#8e0152"
            ],
            [
             0.1,
             "#c51b7d"
            ],
            [
             0.2,
             "#de77ae"
            ],
            [
             0.3,
             "#f1b6da"
            ],
            [
             0.4,
             "#fde0ef"
            ],
            [
             0.5,
             "#f7f7f7"
            ],
            [
             0.6,
             "#e6f5d0"
            ],
            [
             0.7,
             "#b8e186"
            ],
            [
             0.8,
             "#7fbc41"
            ],
            [
             0.9,
             "#4d9221"
            ],
            [
             1,
             "#276419"
            ]
           ],
           "sequential": [
            [
             0,
             "#0d0887"
            ],
            [
             0.1111111111111111,
             "#46039f"
            ],
            [
             0.2222222222222222,
             "#7201a8"
            ],
            [
             0.3333333333333333,
             "#9c179e"
            ],
            [
             0.4444444444444444,
             "#bd3786"
            ],
            [
             0.5555555555555556,
             "#d8576b"
            ],
            [
             0.6666666666666666,
             "#ed7953"
            ],
            [
             0.7777777777777778,
             "#fb9f3a"
            ],
            [
             0.8888888888888888,
             "#fdca26"
            ],
            [
             1,
             "#f0f921"
            ]
           ],
           "sequentialminus": [
            [
             0,
             "#0d0887"
            ],
            [
             0.1111111111111111,
             "#46039f"
            ],
            [
             0.2222222222222222,
             "#7201a8"
            ],
            [
             0.3333333333333333,
             "#9c179e"
            ],
            [
             0.4444444444444444,
             "#bd3786"
            ],
            [
             0.5555555555555556,
             "#d8576b"
            ],
            [
             0.6666666666666666,
             "#ed7953"
            ],
            [
             0.7777777777777778,
             "#fb9f3a"
            ],
            [
             0.8888888888888888,
             "#fdca26"
            ],
            [
             1,
             "#f0f921"
            ]
           ]
          },
          "colorway": [
           "#636efa",
           "#EF553B",
           "#00cc96",
           "#ab63fa",
           "#FFA15A",
           "#19d3f3",
           "#FF6692",
           "#B6E880",
           "#FF97FF",
           "#FECB52"
          ],
          "font": {
           "color": "#2a3f5f"
          },
          "geo": {
           "bgcolor": "white",
           "lakecolor": "white",
           "landcolor": "#E5ECF6",
           "showlakes": true,
           "showland": true,
           "subunitcolor": "white"
          },
          "hoverlabel": {
           "align": "left"
          },
          "hovermode": "closest",
          "mapbox": {
           "style": "light"
          },
          "paper_bgcolor": "white",
          "plot_bgcolor": "#E5ECF6",
          "polar": {
           "angularaxis": {
            "gridcolor": "white",
            "linecolor": "white",
            "ticks": ""
           },
           "bgcolor": "#E5ECF6",
           "radialaxis": {
            "gridcolor": "white",
            "linecolor": "white",
            "ticks": ""
           }
          },
          "scene": {
           "xaxis": {
            "backgroundcolor": "#E5ECF6",
            "gridcolor": "white",
            "gridwidth": 2,
            "linecolor": "white",
            "showbackground": true,
            "ticks": "",
            "zerolinecolor": "white"
           },
           "yaxis": {
            "backgroundcolor": "#E5ECF6",
            "gridcolor": "white",
            "gridwidth": 2,
            "linecolor": "white",
            "showbackground": true,
            "ticks": "",
            "zerolinecolor": "white"
           },
           "zaxis": {
            "backgroundcolor": "#E5ECF6",
            "gridcolor": "white",
            "gridwidth": 2,
            "linecolor": "white",
            "showbackground": true,
            "ticks": "",
            "zerolinecolor": "white"
           }
          },
          "shapedefaults": {
           "line": {
            "color": "#2a3f5f"
           }
          },
          "ternary": {
           "aaxis": {
            "gridcolor": "white",
            "linecolor": "white",
            "ticks": ""
           },
           "baxis": {
            "gridcolor": "white",
            "linecolor": "white",
            "ticks": ""
           },
           "bgcolor": "#E5ECF6",
           "caxis": {
            "gridcolor": "white",
            "linecolor": "white",
            "ticks": ""
           }
          },
          "title": {
           "x": 0.05
          },
          "xaxis": {
           "automargin": true,
           "gridcolor": "white",
           "linecolor": "white",
           "ticks": "",
           "title": {
            "standoff": 15
           },
           "zerolinecolor": "white",
           "zerolinewidth": 2
          },
          "yaxis": {
           "automargin": true,
           "gridcolor": "white",
           "linecolor": "white",
           "ticks": "",
           "title": {
            "standoff": 15
           },
           "zerolinecolor": "white",
           "zerolinewidth": 2
          }
         }
        },
        "title": {
         "text": "Durchschnittlicher Kaufbetrag pro Monat"
        },
        "xaxis": {
         "anchor": "y",
         "domain": [
          0,
          1
         ],
         "title": {
          "text": "date"
         }
        },
        "yaxis": {
         "anchor": "x",
         "domain": [
          0,
          1
         ],
         "title": {
          "text": "amount usd"
         }
        }
       }
      }
     },
     "metadata": {},
     "output_type": "display_data"
    }
   ],
   "source": [
    "# 6. Kombiniertes Diagramm (Scatter + Line): Durchschnittlicher Kaufbetrag pro Monat\n",
    "monthly_avg = df.groupby(df['date'].dt.to_period('M'))['amount usd'].mean().reset_index()\n",
    "monthly_avg['date'] = monthly_avg['date'].dt.to_timestamp()\n",
    "\n",
    "fig = px.scatter(monthly_avg, x='date', y='amount usd', title='Durchschnittlicher Kaufbetrag pro Monat')\n",
    "fig.add_scatter(x=monthly_avg['date'], y=monthly_avg['amount usd'], mode='lines', name='Trendlinie')\n",
    "fig.show()\n"
   ]
  },
  {
   "cell_type": "code",
   "execution_count": 51,
   "id": "ad8d1cb0",
   "metadata": {},
   "outputs": [
    {
     "data": {
      "application/vnd.plotly.v1+json": {
       "config": {
        "plotlyServerURL": "https://plot.ly"
       },
       "data": [
        {
         "bingroup": "x",
         "hovertemplate": "amount usd=%{x}<br>count=%{y}<extra></extra>",
         "legendgroup": "",
         "marker": {
          "color": "#636efa",
          "pattern": {
           "shape": ""
          }
         },
         "name": "",
         "nbinsx": 50,
         "orientation": "v",
         "showlegend": false,
         "type": "histogram",
         "x": {
          "bdata": "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",
          "dtype": "f8"
         },
         "xaxis": "x",
         "yaxis": "y"
        }
       ],
       "layout": {
        "barmode": "relative",
        "legend": {
         "tracegroupgap": 0
        },
        "template": {
         "data": {
          "bar": [
           {
            "error_x": {
             "color": "#2a3f5f"
            },
            "error_y": {
             "color": "#2a3f5f"
            },
            "marker": {
             "line": {
              "color": "#E5ECF6",
              "width": 0.5
             },
             "pattern": {
              "fillmode": "overlay",
              "size": 10,
              "solidity": 0.2
             }
            },
            "type": "bar"
           }
          ],
          "barpolar": [
           {
            "marker": {
             "line": {
              "color": "#E5ECF6",
              "width": 0.5
             },
             "pattern": {
              "fillmode": "overlay",
              "size": 10,
              "solidity": 0.2
             }
            },
            "type": "barpolar"
           }
          ],
          "carpet": [
           {
            "aaxis": {
             "endlinecolor": "#2a3f5f",
             "gridcolor": "white",
             "linecolor": "white",
             "minorgridcolor": "white",
             "startlinecolor": "#2a3f5f"
            },
            "baxis": {
             "endlinecolor": "#2a3f5f",
             "gridcolor": "white",
             "linecolor": "white",
             "minorgridcolor": "white",
             "startlinecolor": "#2a3f5f"
            },
            "type": "carpet"
           }
          ],
          "choropleth": [
           {
            "colorbar": {
             "outlinewidth": 0,
             "ticks": ""
            },
            "type": "choropleth"
           }
          ],
          "contour": [
           {
            "colorbar": {
             "outlinewidth": 0,
             "ticks": ""
            },
            "colorscale": [
             [
              0,
              "#0d0887"
             ],
             [
              0.1111111111111111,
              "#46039f"
             ],
             [
              0.2222222222222222,
              "#7201a8"
             ],
             [
              0.3333333333333333,
              "#9c179e"
             ],
             [
              0.4444444444444444,
              "#bd3786"
             ],
             [
              0.5555555555555556,
              "#d8576b"
             ],
             [
              0.6666666666666666,
              "#ed7953"
             ],
             [
              0.7777777777777778,
              "#fb9f3a"
             ],
             [
              0.8888888888888888,
              "#fdca26"
             ],
             [
              1,
              "#f0f921"
             ]
            ],
            "type": "contour"
           }
          ],
          "contourcarpet": [
           {
            "colorbar": {
             "outlinewidth": 0,
             "ticks": ""
            },
            "type": "contourcarpet"
           }
          ],
          "heatmap": [
           {
            "colorbar": {
             "outlinewidth": 0,
             "ticks": ""
            },
            "colorscale": [
             [
              0,
              "#0d0887"
             ],
             [
              0.1111111111111111,
              "#46039f"
             ],
             [
              0.2222222222222222,
              "#7201a8"
             ],
             [
              0.3333333333333333,
              "#9c179e"
             ],
             [
              0.4444444444444444,
              "#bd3786"
             ],
             [
              0.5555555555555556,
              "#d8576b"
             ],
             [
              0.6666666666666666,
              "#ed7953"
             ],
             [
              0.7777777777777778,
              "#fb9f3a"
             ],
             [
              0.8888888888888888,
              "#fdca26"
             ],
             [
              1,
              "#f0f921"
             ]
            ],
            "type": "heatmap"
           }
          ],
          "histogram": [
           {
            "marker": {
             "pattern": {
              "fillmode": "overlay",
              "size": 10,
              "solidity": 0.2
             }
            },
            "type": "histogram"
           }
          ],
          "histogram2d": [
           {
            "colorbar": {
             "outlinewidth": 0,
             "ticks": ""
            },
            "colorscale": [
             [
              0,
              "#0d0887"
             ],
             [
              0.1111111111111111,
              "#46039f"
             ],
             [
              0.2222222222222222,
              "#7201a8"
             ],
             [
              0.3333333333333333,
              "#9c179e"
             ],
             [
              0.4444444444444444,
              "#bd3786"
             ],
             [
              0.5555555555555556,
              "#d8576b"
             ],
             [
              0.6666666666666666,
              "#ed7953"
             ],
             [
              0.7777777777777778,
              "#fb9f3a"
             ],
             [
              0.8888888888888888,
              "#fdca26"
             ],
             [
              1,
              "#f0f921"
             ]
            ],
            "type": "histogram2d"
           }
          ],
          "histogram2dcontour": [
           {
            "colorbar": {
             "outlinewidth": 0,
             "ticks": ""
            },
            "colorscale": [
             [
              0,
              "#0d0887"
             ],
             [
              0.1111111111111111,
              "#46039f"
             ],
             [
              0.2222222222222222,
              "#7201a8"
             ],
             [
              0.3333333333333333,
              "#9c179e"
             ],
             [
              0.4444444444444444,
              "#bd3786"
             ],
             [
              0.5555555555555556,
              "#d8576b"
             ],
             [
              0.6666666666666666,
              "#ed7953"
             ],
             [
              0.7777777777777778,
              "#fb9f3a"
             ],
             [
              0.8888888888888888,
              "#fdca26"
             ],
             [
              1,
              "#f0f921"
             ]
            ],
            "type": "histogram2dcontour"
           }
          ],
          "mesh3d": [
           {
            "colorbar": {
             "outlinewidth": 0,
             "ticks": ""
            },
            "type": "mesh3d"
           }
          ],
          "parcoords": [
           {
            "line": {
             "colorbar": {
              "outlinewidth": 0,
              "ticks": ""
             }
            },
            "type": "parcoords"
           }
          ],
          "pie": [
           {
            "automargin": true,
            "type": "pie"
           }
          ],
          "scatter": [
           {
            "fillpattern": {
             "fillmode": "overlay",
             "size": 10,
             "solidity": 0.2
            },
            "type": "scatter"
           }
          ],
          "scatter3d": [
           {
            "line": {
             "colorbar": {
              "outlinewidth": 0,
              "ticks": ""
             }
            },
            "marker": {
             "colorbar": {
              "outlinewidth": 0,
              "ticks": ""
             }
            },
            "type": "scatter3d"
           }
          ],
          "scattercarpet": [
           {
            "marker": {
             "colorbar": {
              "outlinewidth": 0,
              "ticks": ""
             }
            },
            "type": "scattercarpet"
           }
          ],
          "scattergeo": [
           {
            "marker": {
             "colorbar": {
              "outlinewidth": 0,
              "ticks": ""
             }
            },
            "type": "scattergeo"
           }
          ],
          "scattergl": [
           {
            "marker": {
             "colorbar": {
              "outlinewidth": 0,
              "ticks": ""
             }
            },
            "type": "scattergl"
           }
          ],
          "scattermap": [
           {
            "marker": {
             "colorbar": {
              "outlinewidth": 0,
              "ticks": ""
             }
            },
            "type": "scattermap"
           }
          ],
          "scattermapbox": [
           {
            "marker": {
             "colorbar": {
              "outlinewidth": 0,
              "ticks": ""
             }
            },
            "type": "scattermapbox"
           }
          ],
          "scatterpolar": [
           {
            "marker": {
             "colorbar": {
              "outlinewidth": 0,
              "ticks": ""
             }
            },
            "type": "scatterpolar"
           }
          ],
          "scatterpolargl": [
           {
            "marker": {
             "colorbar": {
              "outlinewidth": 0,
              "ticks": ""
             }
            },
            "type": "scatterpolargl"
           }
          ],
          "scatterternary": [
           {
            "marker": {
             "colorbar": {
              "outlinewidth": 0,
              "ticks": ""
             }
            },
            "type": "scatterternary"
           }
          ],
          "surface": [
           {
            "colorbar": {
             "outlinewidth": 0,
             "ticks": ""
            },
            "colorscale": [
             [
              0,
              "#0d0887"
             ],
             [
              0.1111111111111111,
              "#46039f"
             ],
             [
              0.2222222222222222,
              "#7201a8"
             ],
             [
              0.3333333333333333,
              "#9c179e"
             ],
             [
              0.4444444444444444,
              "#bd3786"
             ],
             [
              0.5555555555555556,
              "#d8576b"
             ],
             [
              0.6666666666666666,
              "#ed7953"
             ],
             [
              0.7777777777777778,
              "#fb9f3a"
             ],
             [
              0.8888888888888888,
              "#fdca26"
             ],
             [
              1,
              "#f0f921"
             ]
            ],
            "type": "surface"
           }
          ],
          "table": [
           {
            "cells": {
             "fill": {
              "color": "#EBF0F8"
             },
             "line": {
              "color": "white"
             }
            },
            "header": {
             "fill": {
              "color": "#C8D4E3"
             },
             "line": {
              "color": "white"
             }
            },
            "type": "table"
           }
          ]
         },
         "layout": {
          "annotationdefaults": {
           "arrowcolor": "#2a3f5f",
           "arrowhead": 0,
           "arrowwidth": 1
          },
          "autotypenumbers": "strict",
          "coloraxis": {
           "colorbar": {
            "outlinewidth": 0,
            "ticks": ""
           }
          },
          "colorscale": {
           "diverging": [
            [
             0,
             "#8e0152"
            ],
            [
             0.1,
             "#c51b7d"
            ],
            [
             0.2,
             "#de77ae"
            ],
            [
             0.3,
             "#f1b6da"
            ],
            [
             0.4,
             "#fde0ef"
            ],
            [
             0.5,
             "#f7f7f7"
            ],
            [
             0.6,
             "#e6f5d0"
            ],
            [
             0.7,
             "#b8e186"
            ],
            [
             0.8,
             "#7fbc41"
            ],
            [
             0.9,
             "#4d9221"
            ],
            [
             1,
             "#276419"
            ]
           ],
           "sequential": [
            [
             0,
             "#0d0887"
            ],
            [
             0.1111111111111111,
             "#46039f"
            ],
            [
             0.2222222222222222,
             "#7201a8"
            ],
            [
             0.3333333333333333,
             "#9c179e"
            ],
            [
             0.4444444444444444,
             "#bd3786"
            ],
            [
             0.5555555555555556,
             "#d8576b"
            ],
            [
             0.6666666666666666,
             "#ed7953"
            ],
            [
             0.7777777777777778,
             "#fb9f3a"
            ],
            [
             0.8888888888888888,
             "#fdca26"
            ],
            [
             1,
             "#f0f921"
            ]
           ],
           "sequentialminus": [
            [
             0,
             "#0d0887"
            ],
            [
             0.1111111111111111,
             "#46039f"
            ],
            [
             0.2222222222222222,
             "#7201a8"
            ],
            [
             0.3333333333333333,
             "#9c179e"
            ],
            [
             0.4444444444444444,
             "#bd3786"
            ],
            [
             0.5555555555555556,
             "#d8576b"
            ],
            [
             0.6666666666666666,
             "#ed7953"
            ],
            [
             0.7777777777777778,
             "#fb9f3a"
            ],
            [
             0.8888888888888888,
             "#fdca26"
            ],
            [
             1,
             "#f0f921"
            ]
           ]
          },
          "colorway": [
           "#636efa",
           "#EF553B",
           "#00cc96",
           "#ab63fa",
           "#FFA15A",
           "#19d3f3",
           "#FF6692",
           "#B6E880",
           "#FF97FF",
           "#FECB52"
          ],
          "font": {
           "color": "#2a3f5f"
          },
          "geo": {
           "bgcolor": "white",
           "lakecolor": "white",
           "landcolor": "#E5ECF6",
           "showlakes": true,
           "showland": true,
           "subunitcolor": "white"
          },
          "hoverlabel": {
           "align": "left"
          },
          "hovermode": "closest",
          "mapbox": {
           "style": "light"
          },
          "paper_bgcolor": "white",
          "plot_bgcolor": "#E5ECF6",
          "polar": {
           "angularaxis": {
            "gridcolor": "white",
            "linecolor": "white",
            "ticks": ""
           },
           "bgcolor": "#E5ECF6",
           "radialaxis": {
            "gridcolor": "white",
            "linecolor": "white",
            "ticks": ""
           }
          },
          "scene": {
           "xaxis": {
            "backgroundcolor": "#E5ECF6",
            "gridcolor": "white",
            "gridwidth": 2,
            "linecolor": "white",
            "showbackground": true,
            "ticks": "",
            "zerolinecolor": "white"
           },
           "yaxis": {
            "backgroundcolor": "#E5ECF6",
            "gridcolor": "white",
            "gridwidth": 2,
            "linecolor": "white",
            "showbackground": true,
            "ticks": "",
            "zerolinecolor": "white"
           },
           "zaxis": {
            "backgroundcolor": "#E5ECF6",
            "gridcolor": "white",
            "gridwidth": 2,
            "linecolor": "white",
            "showbackground": true,
            "ticks": "",
            "zerolinecolor": "white"
           }
          },
          "shapedefaults": {
           "line": {
            "color": "#2a3f5f"
           }
          },
          "ternary": {
           "aaxis": {
            "gridcolor": "white",
            "linecolor": "white",
            "ticks": ""
           },
           "baxis": {
            "gridcolor": "white",
            "linecolor": "white",
            "ticks": ""
           },
           "bgcolor": "#E5ECF6",
           "caxis": {
            "gridcolor": "white",
            "linecolor": "white",
            "ticks": ""
           }
          },
          "title": {
           "x": 0.05
          },
          "xaxis": {
           "automargin": true,
           "gridcolor": "white",
           "linecolor": "white",
           "ticks": "",
           "title": {
            "standoff": 15
           },
           "zerolinecolor": "white",
           "zerolinewidth": 2
          },
          "yaxis": {
           "automargin": true,
           "gridcolor": "white",
           "linecolor": "white",
           "ticks": "",
           "title": {
            "standoff": 15
           },
           "zerolinecolor": "white",
           "zerolinewidth": 2
          }
         }
        },
        "title": {
         "text": "Verteilung der Kaufbeträge"
        },
        "xaxis": {
         "anchor": "y",
         "domain": [
          0,
          1
         ],
         "title": {
          "text": "amount usd"
         }
        },
        "yaxis": {
         "anchor": "x",
         "domain": [
          0,
          1
         ],
         "title": {
          "text": "count"
         }
        }
       }
      }
     },
     "metadata": {},
     "output_type": "display_data"
    }
   ],
   "source": [
    "# 7. Histogramm: Verteilung der Kaufbeträge\n",
    "fig = px.histogram(df, x='amount usd', nbins=50,\n",
    "                   title='Verteilung der Kaufbeträge')\n",
    "fig.show()\n"
   ]
  },
  {
   "cell_type": "code",
   "execution_count": 52,
   "id": "b6137ca3",
   "metadata": {},
   "outputs": [
    {
     "data": {
      "application/vnd.plotly.v1+json": {
       "config": {
        "plotlyServerURL": "https://plot.ly"
       },
       "data": [
        {
         "alignmentgroup": "True",
         "hovertemplate": "payment method=%{x}<br>amount usd=%{y}<extra></extra>",
         "legendgroup": "",
         "marker": {
          "color": "#636efa"
         },
         "name": "",
         "notched": false,
         "offsetgroup": "",
         "orientation": "v",
         "showlegend": false,
         "type": "box",
         "x": [
          "Credit Card",
          "Credit Card",
          "Cash",
          "Cash",
          "Cash",
          "Credit Card",
          "Cash",
          "Cash",
          "Cash",
          "Credit Card",
          "Credit Card",
          "Cash",
          "Credit Card",
          "Cash",
          "Credit Card",
          "Credit Card",
          "Credit Card",
          "Cash",
          "Credit Card",
          "Credit Card",
          "Cash",
          "Cash",
          "Credit Card",
          "Credit Card",
          "Credit Card",
          "Cash",
          "Credit Card",
          "Credit Card",
          "Cash",
          "Cash",
          "Credit Card",
          "Credit Card",
          "Cash",
          "Credit Card",
          "Cash",
          "Credit Card",
          "Cash",
          "Credit Card",
          "Cash",
          "Credit Card",
          "Cash",
          "Credit Card",
          "Credit Card",
          "Credit Card",
          "Credit Card",
          "Cash",
          "Cash",
          "Cash",
          "Cash",
          "Credit Card",
          "Cash",
          "Cash",
          "Credit Card",
          "Cash",
          "Cash",
          "Cash",
          "Cash",
          "Cash",
          "Cash",
          "Cash",
          "Credit Card",
          "Credit Card",
          "Cash",
          "Credit Card",
          "Cash",
          "Credit Card",
          "Cash",
          "Credit Card",
          "Credit Card",
          "Cash",
          "Credit Card",
          "Credit Card",
          "Credit Card",
          "Cash",
          "Cash",
          "Cash",
          "Cash",
          "Credit Card",
          "Credit Card",
          "Cash",
          "Cash",
          "Cash",
          "Credit Card",
          "Cash",
          "Credit Card",
          "Cash",
          "Cash",
          "Credit Card",
          "Cash",
          "Cash",
          "Credit Card",
          "Credit Card",
          "Credit Card",
          "Cash",
          "Cash",
          "Credit Card",
          "Cash",
          "Credit Card",
          "Credit Card",
          "Credit Card",
          "Cash",
          "Credit Card",
          "Credit Card",
          "Credit Card",
          "Credit Card",
          "Credit Card",
          "Credit Card",
          "Cash",
          "Credit Card",
          "Cash",
          "Credit Card",
          "Credit Card",
          "Credit Card",
          "Credit Card",
          "Credit Card",
          "Credit Card",
          "Credit Card",
          "Credit Card",
          "Credit Card",
          "Credit Card",
          "Credit Card",
          "Credit Card",
          "Credit Card",
          "Credit Card",
          "Credit Card",
          "Credit Card",
          "Credit Card",
          "Cash",
          "Cash",
          "Cash",
          "Cash",
          "Credit Card",
          "Credit Card",
          "Credit Card",
          "Cash",
          "Cash",
          "Credit Card",
          "Credit Card",
          "Credit Card",
          "Cash",
          "Credit Card",
          "Cash",
          "Cash",
          "Credit Card",
          "Cash",
          "Credit Card",
          "Credit Card",
          "Cash",
          "Cash",
          "Credit Card",
          "Credit Card",
          "Credit Card",
          "Cash",
          "Cash",
          "Cash",
          "Credit Card",
          "Credit Card",
          "Cash",
          "Cash",
          "Cash",
          "Cash",
          "Credit Card",
          "Credit Card",
          "Credit Card",
          "Credit Card",
          "Credit Card",
          "Cash",
          "Cash",
          "Credit Card",
          "Credit Card",
          "Cash",
          "Cash",
          "Cash",
          "Cash",
          "Cash",
          "Credit Card",
          "Cash",
          "Credit Card",
          "Credit Card",
          "Cash",
          "Cash",
          "Cash",
          "Cash",
          "Cash",
          "Credit Card",
          "Credit Card",
          "Credit Card",
          "Cash",
          "Cash",
          "Cash",
          "Credit Card",
          "Credit Card",
          "Credit Card",
          "Cash",
          "Credit Card",
          "Cash",
          "Cash",
          "Credit Card",
          "Cash",
          "Cash",
          "Cash",
          "Credit Card",
          "Credit Card",
          "Cash",
          "Credit Card",
          "Cash",
          "Cash",
          "Credit Card",
          "Cash",
          "Credit Card",
          "Cash",
          "Cash",
          "Credit Card",
          "Cash",
          "Cash",
          "Credit Card",
          "Credit Card",
          "Cash",
          "Credit Card",
          "Cash",
          "Cash",
          "Credit Card",
          "Cash",
          "Credit Card",
          "Cash",
          "Cash",
          "Credit Card",
          "Cash",
          "Cash",
          "Credit Card",
          "Cash",
          "Cash",
          "Credit Card",
          "Credit Card",
          "Credit Card",
          "Credit Card",
          "Credit Card",
          "Credit Card",
          "Cash",
          "Cash",
          "Cash",
          "Credit Card",
          "Cash",
          "Credit Card",
          "Cash",
          "Credit Card",
          "Credit Card",
          "Cash",
          "Credit Card",
          "Credit Card",
          "Cash",
          "Cash",
          "Cash",
          "Cash",
          "Credit Card",
          "Cash",
          "Cash",
          "Cash",
          "Cash",
          "Credit Card",
          "Credit Card",
          "Cash",
          "Cash",
          "Cash",
          "Credit Card",
          "Credit Card",
          "Credit Card",
          "Credit Card",
          "Cash",
          "Credit Card",
          "Cash",
          "Credit Card",
          "Cash",
          "Cash",
          "Credit Card",
          "Credit Card",
          "Credit Card",
          "Cash",
          "Cash",
          "Credit Card",
          "Cash",
          "Credit Card",
          "Cash",
          "Cash",
          "Cash",
          "Credit Card",
          "Credit Card",
          "Cash",
          "Cash",
          "Cash",
          "Cash",
          "Credit Card",
          "Cash",
          "Cash",
          "Credit Card",
          "Credit Card",
          "Credit Card",
          "Credit Card",
          "Cash",
          "Cash",
          "Credit Card",
          "Credit Card",
          "Credit Card",
          "Credit Card",
          "Cash",
          "Credit Card",
          "Cash",
          "Cash",
          "Cash",
          "Credit Card",
          "Cash",
          "Credit Card",
          "Credit Card",
          "Credit Card",
          "Cash",
          "Cash",
          "Credit Card",
          "Credit Card",
          "Cash",
          "Cash",
          "Credit Card",
          "Credit Card",
          "Credit Card",
          "Cash",
          "Credit Card",
          "Credit Card",
          "Cash",
          "Cash",
          "Credit Card",
          "Credit Card",
          "Credit Card",
          "Cash",
          "Credit Card",
          "Cash",
          "Cash",
          "Credit Card",
          "Cash",
          "Credit Card",
          "Credit Card",
          "Cash",
          "Credit Card",
          "Credit Card",
          "Credit Card",
          "Cash",
          "Credit Card",
          "Credit Card",
          "Cash",
          "Credit Card",
          "Credit Card",
          "Cash",
          "Credit Card",
          "Cash",
          "Credit Card",
          "Credit Card",
          "Cash",
          "Credit Card",
          "Cash",
          "Credit Card",
          "Credit Card",
          "Credit Card",
          "Credit Card",
          "Credit Card",
          "Cash",
          "Credit Card",
          "Cash",
          "Cash",
          "Credit Card",
          "Credit Card",
          "Cash",
          "Cash",
          "Credit Card",
          "Cash",
          "Cash",
          "Cash",
          "Credit Card",
          "Credit Card",
          "Cash",
          "Cash",
          "Credit Card",
          "Cash",
          "Cash",
          "Credit Card",
          "Cash",
          "Cash",
          "Cash",
          "Credit Card",
          "Cash",
          "Credit Card",
          "Credit Card",
          "Cash",
          "Credit Card",
          "Cash",
          "Credit Card",
          "Credit Card",
          "Credit Card",
          "Credit Card",
          "Cash",
          "Cash",
          "Credit Card",
          "Credit Card",
          "Cash",
          "Cash",
          "Credit Card",
          "Credit Card",
          "Credit Card",
          "Cash",
          "Cash",
          "Credit Card",
          "Cash",
          "Cash",
          "Cash",
          "Credit Card",
          "Cash",
          "Credit Card",
          "Cash",
          "Credit Card",
          "Cash",
          "Cash",
          "Cash",
          "Credit Card",
          "Cash",
          "Cash",
          "Credit Card",
          "Credit Card",
          "Cash",
          "Cash",
          "Credit Card",
          "Cash",
          "Credit Card",
          "Cash",
          "Credit Card",
          "Cash",
          "Cash",
          "Cash",
          "Credit Card",
          "Credit Card",
          "Cash",
          "Cash",
          "Credit Card",
          "Cash",
          "Cash",
          "Cash",
          "Credit Card",
          "Cash",
          "Cash",
          "Cash",
          "Cash",
          "Cash",
          "Credit Card",
          "Cash",
          "Cash",
          "Credit Card",
          "Credit Card",
          "Credit Card",
          "Credit Card",
          "Credit Card",
          "Cash",
          "Cash",
          "Credit Card",
          "Credit Card",
          "Cash",
          "Cash",
          "Credit Card",
          "Credit Card",
          "Credit Card",
          "Credit Card",
          "Credit Card",
          "Credit Card",
          "Cash",
          "Cash",
          "Credit Card",
          "Credit Card",
          "Credit Card",
          "Cash",
          "Cash",
          "Cash",
          "Cash",
          "Credit Card",
          "Credit Card",
          "Credit Card",
          "Credit Card",
          "Cash",
          "Cash",
          "Credit Card",
          "Cash",
          "Cash",
          "Credit Card",
          "Credit Card",
          "Credit Card",
          "Credit Card",
          "Credit Card",
          "Credit Card",
          "Cash",
          "Cash",
          "Cash",
          "Credit Card",
          "Credit Card",
          "Credit Card",
          "Cash",
          "Credit Card",
          "Credit Card",
          "Cash",
          "Credit Card",
          "Cash",
          "Credit Card",
          "Credit Card",
          "Cash",
          "Cash",
          "Cash",
          "Cash",
          "Credit Card",
          "Cash",
          "Cash",
          "Credit Card",
          "Cash",
          "Credit Card",
          "Cash",
          "Credit Card",
          "Credit Card",
          "Cash",
          "Credit Card",
          "Cash",
          "Cash",
          "Credit Card",
          "Credit Card",
          "Credit Card",
          "Credit Card",
          "Credit Card",
          "Cash",
          "Cash",
          "Credit Card",
          "Cash",
          "Credit Card",
          "Credit Card",
          "Credit Card",
          "Credit Card",
          "Cash",
          "Cash",
          "Credit Card",
          "Credit Card",
          "Credit Card",
          "Cash",
          "Credit Card",
          "Cash",
          "Credit Card",
          "Credit Card",
          "Cash",
          "Credit Card",
          "Credit Card",
          "Cash",
          "Credit Card",
          "Cash",
          "Cash",
          "Credit Card",
          "Cash",
          "Cash",
          "Credit Card",
          "Credit Card",
          "Cash",
          "Cash",
          "Credit Card",
          "Credit Card",
          "Credit Card",
          "Cash",
          "Cash",
          "Credit Card",
          "Credit Card",
          "Cash",
          "Cash",
          "Credit Card",
          "Credit Card",
          "Cash",
          "Cash",
          "Cash",
          "Cash",
          "Credit Card",
          "Credit Card",
          "Cash",
          "Cash",
          "Credit Card",
          "Credit Card",
          "Credit Card",
          "Cash",
          "Cash",
          "Cash",
          "Credit Card",
          "Credit Card",
          "Credit Card",
          "Cash",
          "Cash",
          "Cash",
          "Cash",
          "Credit Card",
          "Cash",
          "Cash",
          "Credit Card",
          "Credit Card",
          "Credit Card",
          "Cash",
          "Credit Card",
          "Credit Card",
          "Cash",
          "Credit Card",
          "Cash",
          "Cash",
          "Cash",
          "Credit Card",
          "Cash",
          "Credit Card",
          "Cash",
          "Credit Card",
          "Cash",
          "Cash",
          "Credit Card",
          "Credit Card",
          "Credit Card",
          "Credit Card",
          "Credit Card",
          "Credit Card",
          "Cash",
          "Cash",
          "Credit Card",
          "Credit Card",
          "Credit Card",
          "Credit Card",
          "Credit Card",
          "Cash",
          "Credit Card",
          "Cash",
          "Credit Card",
          "Credit Card",
          "Cash",
          "Cash",
          "Credit Card",
          "Credit Card",
          "Credit Card",
          "Credit Card",
          "Credit Card",
          "Cash",
          "Cash",
          "Cash",
          "Credit Card",
          "Credit Card",
          "Credit Card",
          "Cash",
          "Cash",
          "Cash",
          "Cash",
          "Cash",
          "Cash",
          "Credit Card",
          "Credit Card",
          "Credit Card",
          "Cash",
          "Cash",
          "Credit Card",
          "Cash",
          "Credit Card",
          "Credit Card",
          "Credit Card",
          "Cash",
          "Credit Card",
          "Credit Card",
          "Credit Card",
          "Cash",
          "Cash",
          "Cash",
          "Credit Card",
          "Credit Card",
          "Cash",
          "Cash",
          "Cash",
          "Credit Card",
          "Credit Card",
          "Credit Card",
          "Cash",
          "Credit Card",
          "Credit Card",
          "Cash",
          "Credit Card",
          "Credit Card",
          "Credit Card",
          "Credit Card",
          "Credit Card",
          "Cash",
          "Credit Card",
          "Credit Card",
          "Credit Card",
          "Credit Card",
          "Cash",
          "Credit Card",
          "Cash",
          "Credit Card",
          "Cash",
          "Credit Card",
          "Cash",
          "Credit Card",
          "Credit Card",
          "Cash",
          "Credit Card",
          "Cash",
          "Cash",
          "Credit Card",
          "Cash",
          "Cash",
          "Cash",
          "Credit Card",
          "Credit Card",
          "Cash",
          "Credit Card",
          "Credit Card",
          "Cash",
          "Credit Card",
          "Cash",
          "Credit Card",
          "Credit Card",
          "Cash",
          "Credit Card",
          "Cash",
          "Credit Card",
          "Cash",
          "Cash",
          "Cash",
          "Credit Card",
          "Credit Card",
          "Credit Card",
          "Credit Card",
          "Cash",
          "Credit Card",
          "Credit Card",
          "Credit Card",
          "Credit Card",
          "Credit Card",
          "Cash",
          "Credit Card",
          "Credit Card",
          "Credit Card",
          "Credit Card",
          "Credit Card",
          "Cash",
          "Credit Card",
          "Cash",
          "Cash",
          "Cash",
          "Cash",
          "Credit Card",
          "Credit Card",
          "Credit Card",
          "Credit Card",
          "Cash",
          "Cash",
          "Credit Card",
          "Credit Card",
          "Credit Card",
          "Credit Card",
          "Credit Card",
          "Credit Card",
          "Credit Card",
          "Credit Card",
          "Cash",
          "Credit Card",
          "Credit Card",
          "Credit Card",
          "Credit Card",
          "Cash",
          "Cash",
          "Cash",
          "Credit Card",
          "Credit Card",
          "Credit Card",
          "Cash",
          "Credit Card",
          "Credit Card",
          "Credit Card",
          "Credit Card",
          "Cash",
          "Cash",
          "Credit Card",
          "Cash",
          "Cash",
          "Cash",
          "Credit Card",
          "Credit Card",
          "Credit Card",
          "Cash",
          "Credit Card",
          "Cash",
          "Cash",
          "Cash",
          "Cash",
          "Cash",
          "Credit Card",
          "Credit Card",
          "Credit Card",
          "Credit Card",
          "Credit Card",
          "Credit Card",
          "Credit Card",
          "Cash",
          "Credit Card",
          "Cash",
          "Cash",
          "Cash",
          "Credit Card",
          "Credit Card",
          "Credit Card",
          "Credit Card",
          "Credit Card",
          "Cash",
          "Credit Card",
          "Cash",
          "Credit Card",
          "Cash",
          "Cash",
          "Credit Card",
          "Credit Card",
          "Credit Card",
          "Credit Card",
          "Credit Card",
          "Cash",
          "Cash",
          "Credit Card",
          "Credit Card",
          "Cash",
          "Cash",
          "Cash",
          "Cash",
          "Cash",
          "Cash",
          "Credit Card",
          "Cash",
          "Credit Card",
          "Cash",
          "Credit Card",
          "Credit Card",
          "Cash",
          "Cash",
          "Cash",
          "Credit Card",
          "Cash",
          "Cash",
          "Cash",
          "Cash",
          "Credit Card",
          "Cash",
          "Cash",
          "Cash",
          "Credit Card",
          "Cash",
          "Credit Card",
          "Credit Card",
          "Cash",
          "Cash",
          "Credit Card",
          "Cash",
          "Cash",
          "Credit Card",
          "Cash",
          "Credit Card",
          "Credit Card",
          "Credit Card",
          "Cash",
          "Credit Card",
          "Cash",
          "Credit Card",
          "Credit Card",
          "Cash",
          "Credit Card",
          "Cash",
          "Credit Card",
          "Cash",
          "Credit Card",
          "Cash",
          "Cash",
          "Cash",
          "Credit Card",
          "Credit Card",
          "Credit Card",
          "Cash",
          "Credit Card",
          "Cash",
          "Credit Card",
          "Credit Card",
          "Cash",
          "Credit Card",
          "Cash",
          "Cash",
          "Credit Card",
          "Credit Card",
          "Cash",
          "Credit Card",
          "Credit Card",
          "Cash",
          "Cash",
          "Credit Card",
          "Cash",
          "Credit Card",
          "Cash",
          "Credit Card",
          "Credit Card",
          "Credit Card",
          "Cash",
          "Credit Card",
          "Credit Card",
          "Credit Card",
          "Credit Card",
          "Credit Card",
          "Cash",
          "Cash",
          "Cash",
          "Credit Card",
          "Cash",
          "Cash",
          "Cash",
          "Cash",
          "Cash",
          "Cash",
          "Cash",
          "Cash",
          "Cash",
          "Cash",
          "Cash",
          "Cash",
          "Credit Card",
          "Cash",
          "Credit Card",
          "Cash",
          "Cash",
          "Cash",
          "Cash",
          "Cash",
          "Cash",
          "Cash",
          "Credit Card",
          "Cash",
          "Credit Card",
          "Cash",
          "Credit Card",
          "Credit Card",
          "Credit Card",
          "Cash",
          "Cash",
          "Cash",
          "Credit Card",
          "Credit Card",
          "Cash",
          "Cash",
          "Credit Card",
          "Cash",
          "Credit Card",
          "Cash",
          "Credit Card",
          "Cash",
          "Cash",
          "Cash",
          "Cash",
          "Cash",
          "Cash",
          "Credit Card",
          "Credit Card",
          "Credit Card",
          "Credit Card",
          "Cash",
          "Cash",
          "Credit Card",
          "Credit Card",
          "Cash",
          "Credit Card",
          "Cash",
          "Credit Card",
          "Cash",
          "Credit Card",
          "Cash",
          "Credit Card",
          "Cash",
          "Credit Card",
          "Credit Card",
          "Credit Card",
          "Cash",
          "Credit Card",
          "Cash",
          "Cash",
          "Cash",
          "Credit Card",
          "Credit Card",
          "Cash",
          "Cash",
          "Credit Card",
          "Cash",
          "Credit Card",
          "Credit Card",
          "Credit Card",
          "Credit Card",
          "Credit Card",
          "Cash",
          "Cash",
          "Credit Card",
          "Credit Card",
          "Credit Card",
          "Credit Card",
          "Cash",
          "Cash",
          "Credit Card",
          "Cash",
          "Cash",
          "Credit Card",
          "Credit Card",
          "Cash",
          "Cash",
          "Credit Card",
          "Cash",
          "Cash",
          "Cash",
          "Cash",
          "Cash",
          "Credit Card",
          "Credit Card",
          "Cash",
          "Credit Card",
          "Credit Card",
          "Credit Card",
          "Cash",
          "Cash",
          "Credit Card",
          "Credit Card",
          "Cash",
          "Cash",
          "Cash",
          "Credit Card",
          "Cash",
          "Cash",
          "Cash",
          "Cash",
          "Credit Card",
          "Credit Card",
          "Cash",
          "Credit Card",
          "Credit Card",
          "Cash",
          "Credit Card",
          "Credit Card",
          "Cash",
          "Credit Card",
          "Cash",
          "Credit Card",
          "Credit Card",
          "Cash",
          "Cash",
          "Credit Card",
          "Credit Card",
          "Credit Card",
          "Credit Card",
          "Cash",
          "Credit Card",
          "Credit Card",
          "Credit Card",
          "Cash",
          "Credit Card",
          "Cash",
          "Cash",
          "Credit Card",
          "Credit Card",
          "Cash",
          "Credit Card",
          "Cash",
          "Credit Card",
          "Credit Card",
          "Credit Card",
          "Cash",
          "Credit Card",
          "Cash",
          "Credit Card",
          "Credit Card",
          "Credit Card",
          "Credit Card",
          "Credit Card",
          "Cash",
          "Cash",
          "Cash",
          "Credit Card",
          "Cash",
          "Credit Card",
          "Credit Card",
          "Credit Card",
          "Cash",
          "Credit Card",
          "Cash",
          "Credit Card",
          "Cash",
          "Cash",
          "Credit Card",
          "Credit Card",
          "Credit Card",
          "Credit Card",
          "Credit Card",
          "Cash",
          "Credit Card",
          "Credit Card",
          "Credit Card",
          "Credit Card",
          "Cash",
          "Cash",
          "Cash",
          "Credit Card",
          "Cash",
          "Credit Card",
          "Credit Card",
          "Credit Card",
          "Cash",
          "Cash",
          "Credit Card",
          "Cash",
          "Credit Card",
          "Cash",
          "Cash",
          "Credit Card",
          "Credit Card",
          "Cash",
          "Credit Card",
          "Credit Card",
          "Cash",
          "Cash",
          "Credit Card",
          "Credit Card",
          "Credit Card",
          "Cash",
          "Credit Card",
          "Credit Card",
          "Credit Card",
          "Cash",
          "Credit Card",
          "Credit Card",
          "Cash",
          "Credit Card",
          "Cash",
          "Credit Card",
          "Credit Card",
          "Credit Card",
          "Cash",
          "Cash",
          "Cash",
          "Cash",
          "Cash",
          "Cash",
          "Credit Card",
          "Cash",
          "Cash",
          "Cash",
          "Credit Card",
          "Credit Card",
          "Credit Card",
          "Credit Card",
          "Credit Card",
          "Credit Card",
          "Credit Card",
          "Credit Card",
          "Credit Card",
          "Cash",
          "Cash",
          "Credit Card",
          "Cash",
          "Credit Card",
          "Credit Card",
          "Credit Card",
          "Cash",
          "Cash",
          "Credit Card",
          "Cash",
          "Credit Card",
          "Cash",
          "Credit Card",
          "Cash",
          "Credit Card",
          "Cash",
          "Credit Card",
          "Cash",
          "Credit Card",
          "Credit Card",
          "Credit Card",
          "Credit Card",
          "Cash",
          "Cash",
          "Cash",
          "Cash",
          "Credit Card",
          "Credit Card",
          "Credit Card",
          "Cash",
          "Cash",
          "Credit Card",
          "Cash",
          "Credit Card",
          "Cash",
          "Credit Card",
          "Credit Card",
          "Credit Card",
          "Credit Card",
          "Cash",
          "Credit Card",
          "Cash",
          "Credit Card",
          "Cash",
          "Cash",
          "Credit Card",
          "Cash",
          "Cash",
          "Cash",
          "Credit Card",
          "Cash",
          "Cash",
          "Cash",
          "Credit Card",
          "Cash",
          "Cash",
          "Cash",
          "Credit Card",
          "Credit Card",
          "Credit Card",
          "Cash",
          "Credit Card",
          "Cash",
          "Cash",
          "Credit Card",
          "Credit Card",
          "Cash",
          "Cash",
          "Cash",
          "Cash",
          "Credit Card",
          "Credit Card",
          "Cash",
          "Credit Card",
          "Cash",
          "Cash",
          "Cash",
          "Cash",
          "Credit Card",
          "Credit Card",
          "Cash",
          "Credit Card",
          "Credit Card",
          "Credit Card",
          "Cash",
          "Credit Card",
          "Cash",
          "Credit Card",
          "Credit Card",
          "Credit Card",
          "Cash",
          "Credit Card",
          "Credit Card",
          "Credit Card",
          "Credit Card",
          "Cash",
          "Credit Card",
          "Credit Card",
          "Credit Card",
          "Cash",
          "Cash",
          "Cash",
          "Cash",
          "Cash",
          "Credit Card",
          "Cash",
          "Credit Card",
          "Credit Card",
          "Credit Card",
          "Cash",
          "Cash",
          "Cash",
          "Credit Card",
          "Credit Card",
          "Credit Card",
          "Credit Card",
          "Cash",
          "Cash",
          "Credit Card",
          "Cash",
          "Cash",
          "Cash",
          "Cash",
          "Cash",
          "Credit Card",
          "Credit Card",
          "Cash",
          "Credit Card",
          "Credit Card",
          "Credit Card",
          "Cash",
          "Cash",
          "Cash",
          "Credit Card",
          "Credit Card",
          "Cash",
          "Credit Card",
          "Credit Card",
          "Credit Card",
          "Credit Card",
          "Credit Card",
          "Credit Card",
          "Credit Card",
          "Credit Card",
          "Cash",
          "Credit Card",
          "Cash",
          "Cash",
          "Cash",
          "Cash",
          "Cash",
          "Cash",
          "Cash",
          "Cash",
          "Credit Card",
          "Credit Card",
          "Credit Card",
          "Credit Card",
          "Cash",
          "Cash",
          "Cash",
          "Cash",
          "Cash",
          "Cash",
          "Cash",
          "Cash",
          "Cash",
          "Cash",
          "Cash",
          "Cash",
          "Credit Card",
          "Cash",
          "Credit Card",
          "Cash",
          "Cash",
          "Cash",
          "Credit Card",
          "Cash",
          "Cash",
          "Credit Card",
          "Credit Card",
          "Cash",
          "Credit Card",
          "Cash",
          "Cash",
          "Credit Card",
          "Cash",
          "Credit Card",
          "Credit Card",
          "Cash",
          "Cash",
          "Cash",
          "Credit Card",
          "Cash",
          "Cash",
          "Credit Card",
          "Credit Card",
          "Cash",
          "Credit Card",
          "Cash",
          "Credit Card",
          "Cash",
          "Credit Card",
          "Credit Card",
          "Cash",
          "Cash",
          "Credit Card",
          "Credit Card",
          "Cash",
          "Cash",
          "Credit Card",
          "Credit Card",
          "Credit Card",
          "Cash",
          "Cash",
          "Credit Card",
          "Cash",
          "Cash",
          "Credit Card",
          "Credit Card",
          "Cash",
          "Cash",
          "Cash",
          "Cash",
          "Cash",
          "Cash",
          "Cash",
          "Cash",
          "Credit Card",
          "Cash",
          "Cash",
          "Cash",
          "Cash",
          "Credit Card",
          "Cash",
          "Cash",
          "Credit Card",
          "Cash",
          "Credit Card",
          "Cash",
          "Credit Card",
          "Credit Card",
          "Cash",
          "Cash",
          "Cash",
          "Cash",
          "Credit Card",
          "Cash",
          "Cash",
          "Cash",
          "Credit Card",
          "Credit Card",
          "Credit Card",
          "Credit Card",
          "Credit Card",
          "Cash",
          "Cash",
          "Credit Card",
          "Cash",
          "Credit Card",
          "Cash",
          "Credit Card",
          "Credit Card",
          "Credit Card",
          "Credit Card",
          "Credit Card",
          "Cash",
          "Credit Card",
          "Credit Card",
          "Credit Card",
          "Credit Card",
          "Cash",
          "Credit Card",
          "Cash",
          "Cash",
          "Cash",
          "Cash",
          "Credit Card",
          "Cash",
          "Cash",
          "Cash",
          "Cash",
          "Cash",
          "Credit Card",
          "Credit Card",
          "Credit Card",
          "Credit Card",
          "Credit Card",
          "Credit Card",
          "Cash",
          "Cash",
          "Cash",
          "Cash",
          "Cash",
          "Credit Card",
          "Credit Card",
          "Credit Card",
          "Credit Card",
          "Credit Card",
          "Credit Card",
          "Cash",
          "Credit Card",
          "Credit Card",
          "Credit Card",
          "Credit Card",
          "Cash",
          "Cash",
          "Cash",
          "Cash",
          "Cash",
          "Credit Card",
          "Cash",
          "Cash",
          "Cash",
          "Credit Card",
          "Cash",
          "Credit Card",
          "Credit Card",
          "Credit Card",
          "Cash",
          "Cash",
          "Cash",
          "Credit Card",
          "Cash",
          "Cash",
          "Cash",
          "Cash",
          "Credit Card",
          "Credit Card",
          "Credit Card",
          "Credit Card",
          "Cash",
          "Credit Card",
          "Credit Card",
          "Cash",
          "Credit Card",
          "Credit Card",
          "Cash",
          "Credit Card",
          "Credit Card",
          "Credit Card",
          "Credit Card",
          "Credit Card",
          "Cash",
          "Cash",
          "Cash",
          "Credit Card",
          "Cash",
          "Cash",
          "Credit Card",
          "Credit Card",
          "Credit Card",
          "Cash",
          "Credit Card",
          "Cash",
          "Cash",
          "Cash",
          "Credit Card",
          "Credit Card",
          "Cash",
          "Credit Card",
          "Cash",
          "Cash",
          "Credit Card",
          "Credit Card",
          "Credit Card",
          "Cash",
          "Cash",
          "Cash",
          "Credit Card",
          "Cash",
          "Cash",
          "Credit Card",
          "Credit Card",
          "Cash",
          "Credit Card",
          "Cash",
          "Credit Card",
          "Credit Card",
          "Credit Card",
          "Cash",
          "Credit Card",
          "Credit Card",
          "Credit Card",
          "Cash",
          "Cash",
          "Cash",
          "Cash",
          "Credit Card",
          "Cash",
          "Cash",
          "Credit Card",
          "Credit Card",
          "Credit Card",
          "Credit Card",
          "Credit Card",
          "Credit Card",
          "Credit Card",
          "Credit Card",
          "Credit Card",
          "Credit Card",
          "Cash",
          "Cash",
          "Credit Card",
          "Credit Card",
          "Credit Card",
          "Credit Card",
          "Credit Card",
          "Credit Card",
          "Credit Card",
          "Credit Card",
          "Cash",
          "Cash",
          "Cash",
          "Cash",
          "Credit Card",
          "Credit Card",
          "Cash",
          "Cash",
          "Cash",
          "Credit Card",
          "Cash",
          "Cash",
          "Credit Card",
          "Cash",
          "Cash",
          "Cash",
          "Credit Card",
          "Credit Card",
          "Credit Card",
          "Cash",
          "Cash",
          "Credit Card",
          "Credit Card",
          "Credit Card",
          "Credit Card",
          "Credit Card",
          "Cash",
          "Cash",
          "Credit Card",
          "Credit Card",
          "Credit Card",
          "Credit Card",
          "Cash",
          "Credit Card",
          "Credit Card",
          "Credit Card",
          "Cash",
          "Cash",
          "Credit Card",
          "Credit Card",
          "Credit Card",
          "Cash",
          "Credit Card",
          "Credit Card",
          "Credit Card",
          "Cash",
          "Credit Card",
          "Cash",
          "Credit Card",
          "Cash",
          "Cash",
          "Cash",
          "Cash",
          "Credit Card",
          "Cash",
          "Cash",
          "Cash",
          "Cash",
          "Cash",
          "Credit Card",
          "Credit Card",
          "Cash",
          "Credit Card",
          "Cash",
          "Cash",
          "Credit Card",
          "Cash",
          "Credit Card",
          "Cash",
          "Credit Card",
          "Cash",
          "Credit Card",
          "Credit Card",
          "Credit Card",
          "Cash",
          "Credit Card",
          "Cash",
          "Cash",
          "Cash",
          "Cash",
          "Cash",
          "Credit Card",
          "Credit Card",
          "Cash",
          "Credit Card",
          "Credit Card",
          "Cash",
          "Credit Card",
          "Credit Card",
          "Credit Card",
          "Credit Card",
          "Credit Card",
          "Credit Card",
          "Credit Card",
          "Credit Card",
          "Cash",
          "Credit Card",
          "Credit Card",
          "Cash",
          "Cash",
          "Credit Card",
          "Credit Card",
          "Cash",
          "Credit Card",
          "Cash",
          "Cash",
          "Credit Card",
          "Credit Card",
          "Credit Card",
          "Cash",
          "Credit Card",
          "Cash",
          "Cash",
          "Credit Card",
          "Cash",
          "Credit Card",
          "Cash",
          "Credit Card",
          "Credit Card",
          "Credit Card",
          "Credit Card",
          "Cash",
          "Cash",
          "Cash",
          "Credit Card",
          "Credit Card",
          "Cash",
          "Credit Card",
          "Credit Card",
          "Credit Card",
          "Cash",
          "Cash",
          "Credit Card",
          "Credit Card",
          "Credit Card",
          "Cash",
          "Credit Card",
          "Cash",
          "Cash",
          "Cash",
          "Cash",
          "Credit Card",
          "Credit Card",
          "Credit Card",
          "Credit Card",
          "Credit Card",
          "Cash",
          "Cash",
          "Cash",
          "Cash",
          "Credit Card",
          "Cash",
          "Cash",
          "Cash",
          "Credit Card",
          "Cash",
          "Cash",
          "Credit Card",
          "Credit Card",
          "Credit Card",
          "Cash",
          "Cash",
          "Cash",
          "Credit Card",
          "Cash",
          "Credit Card",
          "Cash",
          "Cash",
          "Cash",
          "Credit Card",
          "Cash",
          "Cash",
          "Credit Card",
          "Credit Card",
          "Cash",
          "Cash",
          "Credit Card",
          "Cash",
          "Credit Card",
          "Cash",
          "Cash",
          "Cash",
          "Cash",
          "Credit Card",
          "Credit Card",
          "Cash",
          "Credit Card",
          "Credit Card",
          "Cash",
          "Credit Card",
          "Cash",
          "Cash",
          "Credit Card",
          "Credit Card",
          "Credit Card",
          "Credit Card",
          "Cash",
          "Credit Card",
          "Credit Card",
          "Cash",
          "Credit Card",
          "Credit Card",
          "Cash",
          "Cash",
          "Credit Card",
          "Credit Card",
          "Credit Card",
          "Cash",
          "Cash",
          "Cash",
          "Credit Card",
          "Cash",
          "Credit Card",
          "Cash",
          "Credit Card",
          "Cash",
          "Credit Card",
          "Cash",
          "Credit Card",
          "Credit Card",
          "Cash",
          "Cash",
          "Credit Card",
          "Cash",
          "Cash",
          "Credit Card",
          "Cash",
          "Credit Card",
          "Credit Card",
          "Credit Card",
          "Credit Card",
          "Credit Card",
          "Credit Card",
          "Credit Card",
          "Cash",
          "Credit Card",
          "Credit Card",
          "Credit Card",
          "Credit Card",
          "Credit Card",
          "Credit Card",
          "Credit Card",
          "Credit Card",
          "Credit Card",
          "Cash",
          "Cash",
          "Credit Card",
          "Cash",
          "Credit Card",
          "Cash",
          "Cash",
          "Cash",
          "Cash",
          "Cash",
          "Credit Card",
          "Credit Card",
          "Credit Card",
          "Cash",
          "Cash",
          "Credit Card",
          "Cash",
          "Cash",
          "Cash",
          "Credit Card",
          "Credit Card",
          "Credit Card",
          "Cash",
          "Credit Card",
          "Cash",
          "Cash",
          "Cash",
          "Credit Card",
          "Cash",
          "Cash",
          "Cash",
          "Cash",
          "Cash",
          "Cash",
          "Cash",
          "Credit Card",
          "Cash",
          "Credit Card",
          "Credit Card",
          "Cash",
          "Credit Card",
          "Credit Card",
          "Credit Card",
          "Cash",
          "Credit Card",
          "Credit Card",
          "Credit Card",
          "Credit Card",
          "Credit Card",
          "Credit Card",
          "Cash",
          "Credit Card",
          "Credit Card",
          "Cash",
          "Credit Card",
          "Cash",
          "Credit Card",
          "Credit Card",
          "Cash",
          "Cash",
          "Credit Card",
          "Credit Card",
          "Cash",
          "Cash",
          "Credit Card",
          "Cash",
          "Cash",
          "Credit Card",
          "Credit Card",
          "Credit Card",
          "Credit Card",
          "Credit Card",
          "Credit Card",
          "Credit Card",
          "Cash",
          "Cash",
          "Cash",
          "Credit Card",
          "Credit Card",
          "Credit Card",
          "Credit Card",
          "Credit Card",
          "Cash",
          "Credit Card",
          "Credit Card",
          "Cash",
          "Credit Card",
          "Cash",
          "Credit Card",
          "Credit Card",
          "Credit Card",
          "Cash",
          "Credit Card",
          "Cash",
          "Credit Card",
          "Cash",
          "Credit Card",
          "Credit Card",
          "Credit Card",
          "Cash",
          "Credit Card",
          "Cash",
          "Credit Card",
          "Credit Card",
          "Credit Card",
          "Cash",
          "Cash",
          "Cash",
          "Credit Card",
          "Cash",
          "Cash",
          "Credit Card",
          "Credit Card",
          "Credit Card",
          "Credit Card",
          "Cash",
          "Credit Card",
          "Credit Card",
          "Cash",
          "Cash",
          "Credit Card",
          "Cash",
          "Credit Card",
          "Cash",
          "Credit Card",
          "Cash",
          "Cash",
          "Credit Card",
          "Credit Card",
          "Cash",
          "Cash",
          "Credit Card",
          "Credit Card",
          "Credit Card",
          "Credit Card",
          "Credit Card",
          "Credit Card",
          "Credit Card",
          "Credit Card",
          "Credit Card",
          "Credit Card",
          "Credit Card",
          "Cash",
          "Credit Card",
          "Cash",
          "Credit Card",
          "Cash",
          "Cash",
          "Credit Card",
          "Cash",
          "Cash",
          "Cash",
          "Cash",
          "Credit Card",
          "Credit Card",
          "Cash",
          "Cash",
          "Credit Card",
          "Credit Card",
          "Credit Card",
          "Cash",
          "Credit Card",
          "Credit Card",
          "Credit Card",
          "Cash",
          "Cash",
          "Cash",
          "Credit Card",
          "Cash",
          "Credit Card",
          "Cash",
          "Cash",
          "Credit Card",
          "Cash",
          "Cash",
          "Cash",
          "Credit Card",
          "Credit Card",
          "Credit Card",
          "Cash",
          "Cash",
          "Cash",
          "Cash",
          "Cash",
          "Credit Card",
          "Cash",
          "Credit Card",
          "Credit Card",
          "Cash",
          "Cash",
          "Credit Card",
          "Cash",
          "Credit Card",
          "Cash",
          "Cash",
          "Credit Card",
          "Cash",
          "Cash",
          "Credit Card",
          "Cash",
          "Cash",
          "Credit Card",
          "Credit Card",
          "Cash",
          "Cash",
          "Cash",
          "Credit Card",
          "Cash",
          "Cash",
          "Cash",
          "Credit Card",
          "Cash",
          "Cash",
          "Cash",
          "Credit Card",
          "Credit Card",
          "Cash",
          "Cash",
          "Cash",
          "Cash",
          "Cash",
          "Cash",
          "Cash",
          "Cash",
          "Credit Card",
          "Credit Card",
          "Cash",
          "Credit Card",
          "Cash",
          "Cash",
          "Credit Card",
          "Cash",
          "Cash",
          "Cash",
          "Credit Card",
          "Cash",
          "Credit Card",
          "Cash",
          "Cash",
          "Credit Card",
          "Cash",
          "Cash",
          "Cash",
          "Credit Card",
          "Credit Card",
          "Cash",
          "Credit Card",
          "Cash",
          "Credit Card",
          "Credit Card",
          "Credit Card",
          "Credit Card",
          "Cash",
          "Credit Card",
          "Cash",
          "Credit Card",
          "Cash",
          "Cash",
          "Cash",
          "Credit Card",
          "Credit Card",
          "Credit Card",
          "Cash",
          "Cash",
          "Cash",
          "Credit Card",
          "Credit Card",
          "Credit Card",
          "Credit Card",
          "Credit Card",
          "Cash",
          "Cash",
          "Cash",
          "Credit Card",
          "Cash",
          "Cash",
          "Credit Card",
          "Cash",
          "Cash",
          "Credit Card",
          "Credit Card",
          "Credit Card",
          "Cash",
          "Cash",
          "Credit Card",
          "Credit Card",
          "Credit Card",
          "Credit Card",
          "Credit Card",
          "Cash",
          "Cash",
          "Cash",
          "Credit Card",
          "Cash",
          "Credit Card",
          "Credit Card",
          "Cash",
          "Cash",
          "Cash",
          "Credit Card",
          "Cash",
          "Credit Card",
          "Cash",
          "Cash",
          "Cash",
          "Cash",
          "Credit Card",
          "Cash",
          "Credit Card",
          "Credit Card",
          "Cash",
          "Credit Card",
          "Cash",
          "Credit Card",
          "Credit Card",
          "Credit Card",
          "Credit Card",
          "Cash",
          "Cash",
          "Credit Card",
          "Credit Card",
          "Credit Card",
          "Cash",
          "Cash",
          "Cash",
          "Cash",
          "Credit Card",
          "Credit Card",
          "Cash",
          "Cash",
          "Cash",
          "Cash",
          "Cash",
          "Cash",
          "Cash",
          "Credit Card",
          "Cash",
          "Credit Card",
          "Cash",
          "Credit Card",
          "Credit Card",
          "Credit Card",
          "Cash",
          "Cash",
          "Cash",
          "Cash",
          "Credit Card",
          "Cash",
          "Cash",
          "Credit Card",
          "Credit Card",
          "Credit Card",
          "Credit Card",
          "Credit Card",
          "Cash",
          "Credit Card",
          "Credit Card",
          "Cash",
          "Cash",
          "Credit Card",
          "Cash",
          "Cash",
          "Cash",
          "Cash",
          "Cash",
          "Cash",
          "Cash",
          "Cash",
          "Cash",
          "Credit Card",
          "Cash",
          "Cash",
          "Credit Card",
          "Credit Card",
          "Credit Card",
          "Credit Card",
          "Cash",
          "Credit Card",
          "Cash",
          "Credit Card",
          "Credit Card",
          "Cash",
          "Cash",
          "Cash",
          "Credit Card",
          "Credit Card",
          "Credit Card",
          "Credit Card",
          "Credit Card",
          "Credit Card",
          "Cash",
          "Credit Card",
          "Credit Card",
          "Credit Card",
          "Credit Card",
          "Cash",
          "Credit Card",
          "Credit Card",
          "Cash",
          "Cash",
          "Credit Card",
          "Cash",
          "Cash",
          "Credit Card",
          "Cash",
          "Cash",
          "Cash",
          "Cash",
          "Credit Card",
          "Credit Card",
          "Cash",
          "Credit Card",
          "Cash",
          "Credit Card",
          "Cash",
          "Credit Card",
          "Cash",
          "Credit Card",
          "Cash",
          "Cash",
          "Cash",
          "Credit Card",
          "Cash",
          "Credit Card",
          "Credit Card",
          "Cash",
          "Credit Card",
          "Credit Card",
          "Cash",
          "Cash",
          "Credit Card",
          "Cash",
          "Cash",
          "Cash",
          "Cash",
          "Cash",
          "Cash",
          "Credit Card",
          "Cash",
          "Credit Card",
          "Cash",
          "Credit Card",
          "Cash",
          "Cash",
          "Cash",
          "Credit Card",
          "Cash",
          "Credit Card",
          "Cash",
          "Cash",
          "Cash",
          "Credit Card",
          "Cash",
          "Cash",
          "Credit Card",
          "Credit Card",
          "Cash",
          "Credit Card",
          "Cash",
          "Credit Card",
          "Credit Card",
          "Credit Card",
          "Credit Card",
          "Credit Card",
          "Cash",
          "Credit Card",
          "Credit Card",
          "Credit Card",
          "Credit Card",
          "Credit Card",
          "Cash",
          "Credit Card",
          "Cash",
          "Credit Card",
          "Credit Card",
          "Cash",
          "Credit Card",
          "Cash",
          "Cash",
          "Credit Card",
          "Credit Card",
          "Cash",
          "Cash",
          "Credit Card",
          "Cash",
          "Credit Card",
          "Cash",
          "Credit Card",
          "Credit Card",
          "Cash",
          "Cash",
          "Cash",
          "Cash",
          "Credit Card",
          "Cash",
          "Credit Card",
          "Cash",
          "Credit Card",
          "Credit Card",
          "Credit Card",
          "Cash",
          "Cash",
          "Cash",
          "Credit Card",
          "Cash",
          "Cash",
          "Cash",
          "Cash",
          "Credit Card",
          "Cash",
          "Cash",
          "Cash",
          "Credit Card",
          "Cash",
          "Credit Card",
          "Cash",
          "Credit Card",
          "Credit Card",
          "Cash",
          "Credit Card",
          "Cash",
          "Cash",
          "Cash",
          "Cash",
          "Cash",
          "Credit Card",
          "Credit Card",
          "Credit Card",
          "Credit Card",
          "Credit Card",
          "Cash",
          "Cash",
          "Credit Card",
          "Credit Card",
          "Credit Card",
          "Cash",
          "Credit Card",
          "Credit Card",
          "Credit Card",
          "Cash",
          "Cash",
          "Cash",
          "Credit Card",
          "Cash",
          "Cash",
          "Cash",
          "Cash",
          "Cash",
          "Cash",
          "Cash",
          "Credit Card",
          "Cash",
          "Cash",
          "Cash",
          "Cash",
          "Credit Card",
          "Credit Card",
          "Credit Card",
          "Credit Card",
          "Credit Card",
          "Credit Card",
          "Cash",
          "Cash",
          "Credit Card",
          "Credit Card",
          "Cash",
          "Credit Card",
          "Cash",
          "Credit Card",
          "Cash",
          "Credit Card",
          "Cash",
          "Cash",
          "Cash",
          "Cash",
          "Credit Card",
          "Cash",
          "Credit Card",
          "Cash",
          "Cash",
          "Credit Card",
          "Cash",
          "Credit Card",
          "Credit Card",
          "Credit Card",
          "Credit Card",
          "Credit Card",
          "Credit Card",
          "Cash",
          "Cash",
          "Credit Card",
          "Credit Card",
          "Credit Card",
          "Cash",
          "Credit Card",
          "Cash",
          "Cash",
          "Credit Card",
          "Credit Card",
          "Credit Card",
          "Credit Card",
          "Cash",
          "Cash",
          "Credit Card",
          "Cash",
          "Cash",
          "Credit Card",
          "Cash",
          "Cash",
          "Credit Card",
          "Credit Card",
          "Cash",
          "Credit Card",
          "Cash",
          "Credit Card",
          "Cash",
          "Credit Card",
          "Cash",
          "Credit Card",
          "Credit Card",
          "Cash",
          "Credit Card",
          "Credit Card",
          "Credit Card",
          "Credit Card",
          "Credit Card",
          "Credit Card",
          "Credit Card",
          "Credit Card",
          "Cash",
          "Cash",
          "Credit Card",
          "Cash",
          "Cash",
          "Credit Card",
          "Credit Card",
          "Cash",
          "Credit Card",
          "Credit Card",
          "Cash",
          "Credit Card",
          "Credit Card",
          "Credit Card",
          "Cash",
          "Cash",
          "Credit Card",
          "Credit Card",
          "Cash",
          "Credit Card",
          "Cash",
          "Credit Card",
          "Cash",
          "Credit Card",
          "Cash",
          "Cash",
          "Credit Card",
          "Cash",
          "Cash",
          "Credit Card",
          "Cash",
          "Credit Card",
          "Credit Card",
          "Cash",
          "Cash",
          "Credit Card",
          "Credit Card",
          "Cash",
          "Credit Card",
          "Credit Card",
          "Credit Card",
          "Cash",
          "Cash",
          "Cash",
          "Credit Card",
          "Cash",
          "Cash",
          "Cash",
          "Credit Card",
          "Credit Card",
          "Cash",
          "Cash",
          "Cash",
          "Credit Card",
          "Cash",
          "Credit Card",
          "Cash",
          "Cash",
          "Credit Card",
          "Credit Card",
          "Cash",
          "Cash",
          "Credit Card",
          "Cash",
          "Credit Card",
          "Credit Card",
          "Credit Card",
          "Cash",
          "Cash",
          "Credit Card",
          "Cash",
          "Credit Card",
          "Credit Card",
          "Cash",
          "Cash",
          "Cash",
          "Credit Card",
          "Cash",
          "Credit Card",
          "Cash",
          "Credit Card",
          "Credit Card",
          "Cash",
          "Cash",
          "Cash",
          "Credit Card",
          "Cash",
          "Credit Card",
          "Credit Card",
          "Credit Card",
          "Cash",
          "Cash",
          "Credit Card",
          "Cash",
          "Cash",
          "Cash",
          "Cash",
          "Credit Card",
          "Cash",
          "Credit Card",
          "Credit Card",
          "Credit Card",
          "Credit Card",
          "Credit Card",
          "Cash",
          "Credit Card",
          "Credit Card",
          "Cash",
          "Credit Card",
          "Cash",
          "Cash",
          "Credit Card",
          "Cash",
          "Credit Card",
          "Credit Card",
          "Cash",
          "Cash",
          "Cash",
          "Cash",
          "Credit Card",
          "Credit Card",
          "Cash",
          "Credit Card",
          "Credit Card",
          "Cash",
          "Credit Card",
          "Cash",
          "Cash",
          "Cash",
          "Cash",
          "Credit Card",
          "Credit Card",
          "Credit Card",
          "Cash",
          "Cash",
          "Cash",
          "Cash",
          "Cash",
          "Credit Card",
          "Credit Card",
          "Cash",
          "Cash",
          "Credit Card",
          "Cash",
          "Credit Card",
          "Cash",
          "Cash",
          "Credit Card",
          "Credit Card",
          "Cash",
          "Credit Card",
          "Credit Card",
          "Cash",
          "Cash",
          "Credit Card",
          "Credit Card",
          "Cash",
          "Credit Card",
          "Credit Card",
          "Cash",
          "Credit Card",
          "Cash",
          "Cash",
          "Cash",
          "Credit Card",
          "Credit Card",
          "Credit Card",
          "Cash",
          "Cash",
          "Cash",
          "Cash",
          "Credit Card",
          "Cash",
          "Credit Card",
          "Credit Card",
          "Credit Card",
          "Credit Card",
          "Credit Card",
          "Cash",
          "Credit Card",
          "Cash",
          "Credit Card",
          "Credit Card",
          "Credit Card",
          "Cash",
          "Credit Card",
          "Cash",
          "Cash",
          "Credit Card",
          "Credit Card",
          "Cash",
          "Credit Card",
          "Credit Card",
          "Credit Card",
          "Credit Card",
          "Credit Card",
          "Cash",
          "Cash",
          "Cash",
          "Credit Card",
          "Credit Card",
          "Cash",
          "Cash",
          "Credit Card",
          "Credit Card",
          "Credit Card",
          "Cash",
          "Cash",
          "Credit Card",
          "Credit Card",
          "Credit Card",
          "Cash",
          "Cash",
          "Credit Card",
          "Credit Card",
          "Credit Card",
          "Cash",
          "Cash",
          "Credit Card",
          "Credit Card",
          "Credit Card",
          "Cash",
          "Cash",
          "Credit Card",
          "Cash",
          "Credit Card",
          "Cash",
          "Cash",
          "Cash",
          "Credit Card",
          "Credit Card",
          "Credit Card",
          "Cash",
          "Credit Card",
          "Cash",
          "Cash",
          "Credit Card",
          "Credit Card",
          "Cash",
          "Credit Card",
          "Cash",
          "Credit Card",
          "Credit Card",
          "Cash",
          "Credit Card",
          "Credit Card",
          "Credit Card",
          "Credit Card",
          "Credit Card",
          "Cash",
          "Cash",
          "Cash",
          "Credit Card",
          "Cash",
          "Credit Card",
          "Credit Card",
          "Cash",
          "Credit Card",
          "Credit Card",
          "Cash",
          "Cash",
          "Credit Card",
          "Credit Card",
          "Credit Card",
          "Credit Card",
          "Credit Card",
          "Cash",
          "Credit Card",
          "Cash",
          "Cash",
          "Credit Card",
          "Credit Card",
          "Cash",
          "Credit Card",
          "Cash",
          "Credit Card",
          "Credit Card",
          "Cash",
          "Cash",
          "Cash",
          "Cash",
          "Credit Card",
          "Credit Card",
          "Credit Card",
          "Cash",
          "Credit Card",
          "Credit Card",
          "Cash",
          "Credit Card",
          "Credit Card",
          "Cash",
          "Credit Card",
          "Cash",
          "Credit Card",
          "Credit Card",
          "Credit Card",
          "Cash",
          "Credit Card",
          "Credit Card",
          "Credit Card",
          "Credit Card",
          "Credit Card",
          "Cash",
          "Credit Card",
          "Cash",
          "Credit Card",
          "Cash",
          "Cash",
          "Credit Card",
          "Credit Card",
          "Credit Card",
          "Credit Card",
          "Cash",
          "Cash",
          "Cash",
          "Cash",
          "Credit Card",
          "Cash",
          "Credit Card",
          "Credit Card",
          "Credit Card",
          "Cash",
          "Credit Card",
          "Cash",
          "Cash",
          "Cash",
          "Credit Card",
          "Cash",
          "Credit Card",
          "Credit Card",
          "Credit Card",
          "Cash",
          "Cash",
          "Credit Card",
          "Credit Card",
          "Cash",
          "Credit Card",
          "Credit Card",
          "Cash",
          "Credit Card",
          "Credit Card",
          "Cash",
          "Credit Card",
          "Credit Card",
          "Cash",
          "Credit Card",
          "Credit Card",
          "Credit Card",
          "Cash",
          "Cash",
          "Cash",
          "Cash",
          "Credit Card",
          "Cash",
          "Credit Card",
          "Credit Card",
          "Credit Card",
          "Cash",
          "Cash",
          "Cash",
          "Credit Card",
          "Credit Card",
          "Credit Card",
          "Cash",
          "Cash",
          "Credit Card",
          "Cash",
          "Cash",
          "Credit Card",
          "Credit Card",
          "Cash",
          "Cash",
          "Cash",
          "Cash",
          "Credit Card",
          "Cash",
          "Credit Card",
          "Credit Card",
          "Credit Card",
          "Credit Card",
          "Credit Card",
          "Cash",
          "Credit Card",
          "Credit Card",
          "Cash",
          "Cash",
          "Cash",
          "Cash",
          "Cash",
          "Cash",
          "Cash",
          "Cash",
          "Credit Card",
          "Credit Card",
          "Cash",
          "Cash",
          "Credit Card",
          "Credit Card",
          "Cash",
          "Cash",
          "Cash",
          "Cash",
          "Credit Card",
          "Credit Card",
          "Cash",
          "Credit Card",
          "Credit Card",
          "Credit Card",
          "Cash",
          "Cash",
          "Credit Card",
          "Credit Card",
          "Cash",
          "Cash",
          "Credit Card",
          "Credit Card",
          "Cash",
          "Credit Card",
          "Cash",
          "Credit Card",
          "Credit Card",
          "Cash",
          "Credit Card",
          "Cash",
          "Cash",
          "Cash",
          "Cash",
          "Cash",
          "Credit Card",
          "Credit Card",
          "Credit Card",
          "Credit Card",
          "Cash",
          "Cash",
          "Cash",
          "Cash",
          "Credit Card",
          "Credit Card",
          "Credit Card",
          "Credit Card",
          "Credit Card",
          "Credit Card",
          "Credit Card",
          "Cash",
          "Credit Card",
          "Credit Card",
          "Cash",
          "Cash",
          "Credit Card",
          "Credit Card",
          "Credit Card",
          "Credit Card",
          "Credit Card",
          "Credit Card",
          "Credit Card",
          "Cash",
          "Credit Card",
          "Cash",
          "Cash",
          "Cash",
          "Credit Card",
          "Credit Card",
          "Credit Card",
          "Credit Card",
          "Credit Card",
          "Credit Card",
          "Cash",
          "Credit Card",
          "Cash",
          "Credit Card",
          "Credit Card",
          "Credit Card",
          "Cash",
          "Credit Card",
          "Credit Card",
          "Credit Card",
          "Cash",
          "Credit Card",
          "Cash",
          "Cash",
          "Credit Card",
          "Cash",
          "Credit Card",
          "Cash",
          "Cash",
          "Credit Card",
          "Cash",
          "Cash",
          "Cash",
          "Cash",
          "Credit Card",
          "Credit Card",
          "Credit Card",
          "Credit Card",
          "Cash",
          "Credit Card",
          "Credit Card",
          "Cash",
          "Credit Card",
          "Credit Card",
          "Credit Card",
          "Cash",
          "Credit Card",
          "Credit Card",
          "Credit Card",
          "Cash",
          "Credit Card",
          "Cash",
          "Cash",
          "Cash",
          "Credit Card",
          "Cash",
          "Credit Card",
          "Credit Card",
          "Credit Card",
          "Cash",
          "Credit Card",
          "Credit Card",
          "Cash",
          "Credit Card",
          "Cash",
          "Credit Card",
          "Cash",
          "Cash",
          "Cash",
          "Credit Card",
          "Cash",
          "Cash",
          "Cash",
          "Cash",
          "Cash",
          "Cash",
          "Cash",
          "Cash",
          "Cash",
          "Credit Card",
          "Credit Card",
          "Credit Card",
          "Credit Card",
          "Credit Card",
          "Cash",
          "Credit Card",
          "Credit Card",
          "Credit Card",
          "Credit Card",
          "Credit Card",
          "Credit Card",
          "Cash",
          "Cash",
          "Credit Card",
          "Credit Card",
          "Cash",
          "Credit Card",
          "Credit Card",
          "Cash",
          "Credit Card",
          "Cash",
          "Cash",
          "Cash",
          "Credit Card",
          "Cash",
          "Credit Card",
          "Cash",
          "Credit Card",
          "Cash",
          "Cash",
          "Credit Card",
          "Credit Card",
          "Cash",
          "Cash",
          "Credit Card",
          "Credit Card",
          "Cash",
          "Credit Card",
          "Credit Card",
          "Credit Card",
          "Credit Card",
          "Cash",
          "Credit Card",
          "Credit Card",
          "Cash",
          "Credit Card",
          "Credit Card",
          "Cash",
          "Cash",
          "Credit Card",
          "Cash",
          "Cash",
          "Credit Card",
          "Credit Card",
          "Credit Card",
          "Cash",
          "Credit Card",
          "Credit Card",
          "Credit Card",
          "Cash",
          "Cash",
          "Cash",
          "Credit Card",
          "Credit Card",
          "Credit Card",
          "Credit Card",
          "Credit Card",
          "Credit Card",
          "Cash",
          "Credit Card",
          "Credit Card",
          "Credit Card",
          "Credit Card",
          "Credit Card",
          "Credit Card",
          "Cash",
          "Credit Card",
          "Cash",
          "Credit Card",
          "Credit Card",
          "Credit Card",
          "Cash",
          "Cash",
          "Credit Card",
          "Cash",
          "Cash",
          "Cash",
          "Cash",
          "Credit Card",
          "Cash",
          "Cash",
          "Cash",
          "Credit Card",
          "Cash",
          "Credit Card",
          "Credit Card",
          "Cash",
          "Cash",
          "Credit Card",
          "Cash",
          "Cash",
          "Credit Card",
          "Credit Card",
          "Credit Card",
          "Cash",
          "Credit Card",
          "Credit Card",
          "Cash",
          "Cash",
          "Credit Card",
          "Cash",
          "Cash",
          "Credit Card",
          "Cash",
          "Credit Card",
          "Cash",
          "Cash",
          "Credit Card",
          "Cash",
          "Cash",
          "Credit Card",
          "Credit Card",
          "Cash",
          "Credit Card",
          "Credit Card",
          "Cash",
          "Credit Card",
          "Cash",
          "Cash",
          "Credit Card",
          "Cash",
          "Cash",
          "Cash",
          "Cash",
          "Cash",
          "Credit Card",
          "Credit Card",
          "Cash",
          "Credit Card",
          "Cash",
          "Cash",
          "Cash",
          "Cash",
          "Cash",
          "Cash",
          "Cash",
          "Credit Card",
          "Credit Card",
          "Credit Card",
          "Credit Card",
          "Cash",
          "Credit Card",
          "Credit Card",
          "Cash",
          "Credit Card",
          "Cash",
          "Cash",
          "Cash",
          "Credit Card",
          "Credit Card",
          "Credit Card",
          "Cash",
          "Cash",
          "Credit Card",
          "Cash",
          "Credit Card",
          "Cash",
          "Cash",
          "Cash",
          "Credit Card",
          "Credit Card",
          "Credit Card",
          "Credit Card",
          "Cash",
          "Cash",
          "Cash",
          "Cash",
          "Credit Card",
          "Cash",
          "Cash",
          "Credit Card",
          "Credit Card",
          "Cash",
          "Cash",
          "Cash",
          "Credit Card",
          "Credit Card",
          "Credit Card",
          "Cash",
          "Credit Card",
          "Credit Card",
          "Credit Card",
          "Cash",
          "Credit Card",
          "Credit Card",
          "Cash",
          "Credit Card",
          "Cash",
          "Credit Card",
          "Cash",
          "Cash",
          "Credit Card",
          "Credit Card",
          "Cash",
          "Cash",
          "Credit Card",
          "Cash",
          "Cash",
          "Cash",
          "Credit Card",
          "Cash",
          "Credit Card",
          "Credit Card",
          "Credit Card",
          "Credit Card",
          "Credit Card",
          "Credit Card",
          "Cash",
          "Cash",
          "Credit Card",
          "Cash",
          "Credit Card",
          "Credit Card",
          "Credit Card",
          "Credit Card",
          "Credit Card",
          "Cash",
          "Credit Card",
          "Cash",
          "Cash",
          "Credit Card",
          "Credit Card",
          "Cash",
          "Credit Card",
          "Credit Card",
          "Cash",
          "Credit Card",
          "Credit Card",
          "Credit Card",
          "Credit Card",
          "Credit Card",
          "Credit Card",
          "Credit Card",
          "Cash",
          "Credit Card",
          "Credit Card",
          "Credit Card",
          "Cash",
          "Credit Card",
          "Credit Card",
          "Credit Card",
          "Cash",
          "Cash",
          "Credit Card",
          "Credit Card",
          "Credit Card",
          "Cash",
          "Credit Card",
          "Cash",
          "Cash",
          "Credit Card",
          "Credit Card",
          "Cash",
          "Credit Card",
          "Cash",
          "Credit Card",
          "Cash",
          "Credit Card",
          "Cash",
          "Cash",
          "Cash",
          "Cash",
          "Credit Card",
          "Credit Card",
          "Credit Card",
          "Credit Card",
          "Cash",
          "Cash",
          "Credit Card",
          "Cash",
          "Credit Card",
          "Credit Card",
          "Credit Card",
          "Cash",
          "Credit Card",
          "Cash",
          "Credit Card",
          "Cash",
          "Credit Card",
          "Cash",
          "Credit Card",
          "Credit Card",
          "Cash",
          "Credit Card",
          "Cash",
          "Credit Card",
          "Cash",
          "Credit Card",
          "Credit Card",
          "Cash",
          "Credit Card",
          "Credit Card",
          "Credit Card",
          "Cash",
          "Cash",
          "Cash",
          "Cash",
          "Credit Card",
          "Credit Card",
          "Cash",
          "Cash",
          "Credit Card",
          "Credit Card",
          "Cash",
          "Cash",
          "Credit Card",
          "Credit Card",
          "Credit Card",
          "Cash",
          "Credit Card",
          "Cash",
          "Cash",
          "Cash",
          "Credit Card",
          "Credit Card",
          "Credit Card",
          "Cash",
          "Cash",
          "Credit Card",
          "Credit Card",
          "Credit Card",
          "Cash",
          "Credit Card",
          "Credit Card",
          "Credit Card",
          "Cash",
          "Credit Card",
          "Cash",
          "Cash",
          "Cash",
          "Cash",
          "Cash",
          "Cash",
          "Cash",
          "Credit Card",
          "Cash",
          "Cash",
          "Cash",
          "Credit Card",
          "Cash",
          "Credit Card",
          "Credit Card",
          "Cash",
          "Credit Card",
          "Credit Card",
          "Cash",
          "Credit Card",
          "Credit Card",
          "Cash",
          "Cash",
          "Credit Card",
          "Cash",
          "Credit Card",
          "Credit Card",
          "Cash",
          "Credit Card",
          "Credit Card",
          "Credit Card",
          "Cash",
          "Credit Card",
          "Cash",
          "Credit Card",
          "Cash",
          "Credit Card",
          "Credit Card",
          "Credit Card",
          "Credit Card",
          "Cash",
          "Cash",
          "Credit Card",
          "Credit Card",
          "Credit Card",
          "Credit Card",
          "Cash",
          "Credit Card",
          "Cash",
          "Credit Card",
          "Credit Card",
          "Cash",
          "Credit Card",
          "Credit Card",
          "Credit Card",
          "Credit Card",
          "Cash",
          "Credit Card",
          "Cash",
          "Cash",
          "Cash",
          "Cash",
          "Cash",
          "Cash",
          "Credit Card",
          "Credit Card",
          "Cash",
          "Credit Card",
          "Cash",
          "Credit Card",
          "Credit Card",
          "Credit Card",
          "Cash",
          "Credit Card",
          "Credit Card",
          "Cash",
          "Cash",
          "Cash",
          "Cash",
          "Credit Card",
          "Cash",
          "Cash",
          "Credit Card",
          "Cash",
          "Cash"
         ],
         "x0": " ",
         "xaxis": "x",
         "y": {
          "bdata": "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",
          "dtype": "f8"
         },
         "y0": " ",
         "yaxis": "y"
        }
       ],
       "layout": {
        "boxmode": "group",
        "legend": {
         "tracegroupgap": 0
        },
        "template": {
         "data": {
          "bar": [
           {
            "error_x": {
             "color": "#2a3f5f"
            },
            "error_y": {
             "color": "#2a3f5f"
            },
            "marker": {
             "line": {
              "color": "#E5ECF6",
              "width": 0.5
             },
             "pattern": {
              "fillmode": "overlay",
              "size": 10,
              "solidity": 0.2
             }
            },
            "type": "bar"
           }
          ],
          "barpolar": [
           {
            "marker": {
             "line": {
              "color": "#E5ECF6",
              "width": 0.5
             },
             "pattern": {
              "fillmode": "overlay",
              "size": 10,
              "solidity": 0.2
             }
            },
            "type": "barpolar"
           }
          ],
          "carpet": [
           {
            "aaxis": {
             "endlinecolor": "#2a3f5f",
             "gridcolor": "white",
             "linecolor": "white",
             "minorgridcolor": "white",
             "startlinecolor": "#2a3f5f"
            },
            "baxis": {
             "endlinecolor": "#2a3f5f",
             "gridcolor": "white",
             "linecolor": "white",
             "minorgridcolor": "white",
             "startlinecolor": "#2a3f5f"
            },
            "type": "carpet"
           }
          ],
          "choropleth": [
           {
            "colorbar": {
             "outlinewidth": 0,
             "ticks": ""
            },
            "type": "choropleth"
           }
          ],
          "contour": [
           {
            "colorbar": {
             "outlinewidth": 0,
             "ticks": ""
            },
            "colorscale": [
             [
              0,
              "#0d0887"
             ],
             [
              0.1111111111111111,
              "#46039f"
             ],
             [
              0.2222222222222222,
              "#7201a8"
             ],
             [
              0.3333333333333333,
              "#9c179e"
             ],
             [
              0.4444444444444444,
              "#bd3786"
             ],
             [
              0.5555555555555556,
              "#d8576b"
             ],
             [
              0.6666666666666666,
              "#ed7953"
             ],
             [
              0.7777777777777778,
              "#fb9f3a"
             ],
             [
              0.8888888888888888,
              "#fdca26"
             ],
             [
              1,
              "#f0f921"
             ]
            ],
            "type": "contour"
           }
          ],
          "contourcarpet": [
           {
            "colorbar": {
             "outlinewidth": 0,
             "ticks": ""
            },
            "type": "contourcarpet"
           }
          ],
          "heatmap": [
           {
            "colorbar": {
             "outlinewidth": 0,
             "ticks": ""
            },
            "colorscale": [
             [
              0,
              "#0d0887"
             ],
             [
              0.1111111111111111,
              "#46039f"
             ],
             [
              0.2222222222222222,
              "#7201a8"
             ],
             [
              0.3333333333333333,
              "#9c179e"
             ],
             [
              0.4444444444444444,
              "#bd3786"
             ],
             [
              0.5555555555555556,
              "#d8576b"
             ],
             [
              0.6666666666666666,
              "#ed7953"
             ],
             [
              0.7777777777777778,
              "#fb9f3a"
             ],
             [
              0.8888888888888888,
              "#fdca26"
             ],
             [
              1,
              "#f0f921"
             ]
            ],
            "type": "heatmap"
           }
          ],
          "histogram": [
           {
            "marker": {
             "pattern": {
              "fillmode": "overlay",
              "size": 10,
              "solidity": 0.2
             }
            },
            "type": "histogram"
           }
          ],
          "histogram2d": [
           {
            "colorbar": {
             "outlinewidth": 0,
             "ticks": ""
            },
            "colorscale": [
             [
              0,
              "#0d0887"
             ],
             [
              0.1111111111111111,
              "#46039f"
             ],
             [
              0.2222222222222222,
              "#7201a8"
             ],
             [
              0.3333333333333333,
              "#9c179e"
             ],
             [
              0.4444444444444444,
              "#bd3786"
             ],
             [
              0.5555555555555556,
              "#d8576b"
             ],
             [
              0.6666666666666666,
              "#ed7953"
             ],
             [
              0.7777777777777778,
              "#fb9f3a"
             ],
             [
              0.8888888888888888,
              "#fdca26"
             ],
             [
              1,
              "#f0f921"
             ]
            ],
            "type": "histogram2d"
           }
          ],
          "histogram2dcontour": [
           {
            "colorbar": {
             "outlinewidth": 0,
             "ticks": ""
            },
            "colorscale": [
             [
              0,
              "#0d0887"
             ],
             [
              0.1111111111111111,
              "#46039f"
             ],
             [
              0.2222222222222222,
              "#7201a8"
             ],
             [
              0.3333333333333333,
              "#9c179e"
             ],
             [
              0.4444444444444444,
              "#bd3786"
             ],
             [
              0.5555555555555556,
              "#d8576b"
             ],
             [
              0.6666666666666666,
              "#ed7953"
             ],
             [
              0.7777777777777778,
              "#fb9f3a"
             ],
             [
              0.8888888888888888,
              "#fdca26"
             ],
             [
              1,
              "#f0f921"
             ]
            ],
            "type": "histogram2dcontour"
           }
          ],
          "mesh3d": [
           {
            "colorbar": {
             "outlinewidth": 0,
             "ticks": ""
            },
            "type": "mesh3d"
           }
          ],
          "parcoords": [
           {
            "line": {
             "colorbar": {
              "outlinewidth": 0,
              "ticks": ""
             }
            },
            "type": "parcoords"
           }
          ],
          "pie": [
           {
            "automargin": true,
            "type": "pie"
           }
          ],
          "scatter": [
           {
            "fillpattern": {
             "fillmode": "overlay",
             "size": 10,
             "solidity": 0.2
            },
            "type": "scatter"
           }
          ],
          "scatter3d": [
           {
            "line": {
             "colorbar": {
              "outlinewidth": 0,
              "ticks": ""
             }
            },
            "marker": {
             "colorbar": {
              "outlinewidth": 0,
              "ticks": ""
             }
            },
            "type": "scatter3d"
           }
          ],
          "scattercarpet": [
           {
            "marker": {
             "colorbar": {
              "outlinewidth": 0,
              "ticks": ""
             }
            },
            "type": "scattercarpet"
           }
          ],
          "scattergeo": [
           {
            "marker": {
             "colorbar": {
              "outlinewidth": 0,
              "ticks": ""
             }
            },
            "type": "scattergeo"
           }
          ],
          "scattergl": [
           {
            "marker": {
             "colorbar": {
              "outlinewidth": 0,
              "ticks": ""
             }
            },
            "type": "scattergl"
           }
          ],
          "scattermap": [
           {
            "marker": {
             "colorbar": {
              "outlinewidth": 0,
              "ticks": ""
             }
            },
            "type": "scattermap"
           }
          ],
          "scattermapbox": [
           {
            "marker": {
             "colorbar": {
              "outlinewidth": 0,
              "ticks": ""
             }
            },
            "type": "scattermapbox"
           }
          ],
          "scatterpolar": [
           {
            "marker": {
             "colorbar": {
              "outlinewidth": 0,
              "ticks": ""
             }
            },
            "type": "scatterpolar"
           }
          ],
          "scatterpolargl": [
           {
            "marker": {
             "colorbar": {
              "outlinewidth": 0,
              "ticks": ""
             }
            },
            "type": "scatterpolargl"
           }
          ],
          "scatterternary": [
           {
            "marker": {
             "colorbar": {
              "outlinewidth": 0,
              "ticks": ""
             }
            },
            "type": "scatterternary"
           }
          ],
          "surface": [
           {
            "colorbar": {
             "outlinewidth": 0,
             "ticks": ""
            },
            "colorscale": [
             [
              0,
              "#0d0887"
             ],
             [
              0.1111111111111111,
              "#46039f"
             ],
             [
              0.2222222222222222,
              "#7201a8"
             ],
             [
              0.3333333333333333,
              "#9c179e"
             ],
             [
              0.4444444444444444,
              "#bd3786"
             ],
             [
              0.5555555555555556,
              "#d8576b"
             ],
             [
              0.6666666666666666,
              "#ed7953"
             ],
             [
              0.7777777777777778,
              "#fb9f3a"
             ],
             [
              0.8888888888888888,
              "#fdca26"
             ],
             [
              1,
              "#f0f921"
             ]
            ],
            "type": "surface"
           }
          ],
          "table": [
           {
            "cells": {
             "fill": {
              "color": "#EBF0F8"
             },
             "line": {
              "color": "white"
             }
            },
            "header": {
             "fill": {
              "color": "#C8D4E3"
             },
             "line": {
              "color": "white"
             }
            },
            "type": "table"
           }
          ]
         },
         "layout": {
          "annotationdefaults": {
           "arrowcolor": "#2a3f5f",
           "arrowhead": 0,
           "arrowwidth": 1
          },
          "autotypenumbers": "strict",
          "coloraxis": {
           "colorbar": {
            "outlinewidth": 0,
            "ticks": ""
           }
          },
          "colorscale": {
           "diverging": [
            [
             0,
             "#8e0152"
            ],
            [
             0.1,
             "#c51b7d"
            ],
            [
             0.2,
             "#de77ae"
            ],
            [
             0.3,
             "#f1b6da"
            ],
            [
             0.4,
             "#fde0ef"
            ],
            [
             0.5,
             "#f7f7f7"
            ],
            [
             0.6,
             "#e6f5d0"
            ],
            [
             0.7,
             "#b8e186"
            ],
            [
             0.8,
             "#7fbc41"
            ],
            [
             0.9,
             "#4d9221"
            ],
            [
             1,
             "#276419"
            ]
           ],
           "sequential": [
            [
             0,
             "#0d0887"
            ],
            [
             0.1111111111111111,
             "#46039f"
            ],
            [
             0.2222222222222222,
             "#7201a8"
            ],
            [
             0.3333333333333333,
             "#9c179e"
            ],
            [
             0.4444444444444444,
             "#bd3786"
            ],
            [
             0.5555555555555556,
             "#d8576b"
            ],
            [
             0.6666666666666666,
             "#ed7953"
            ],
            [
             0.7777777777777778,
             "#fb9f3a"
            ],
            [
             0.8888888888888888,
             "#fdca26"
            ],
            [
             1,
             "#f0f921"
            ]
           ],
           "sequentialminus": [
            [
             0,
             "#0d0887"
            ],
            [
             0.1111111111111111,
             "#46039f"
            ],
            [
             0.2222222222222222,
             "#7201a8"
            ],
            [
             0.3333333333333333,
             "#9c179e"
            ],
            [
             0.4444444444444444,
             "#bd3786"
            ],
            [
             0.5555555555555556,
             "#d8576b"
            ],
            [
             0.6666666666666666,
             "#ed7953"
            ],
            [
             0.7777777777777778,
             "#fb9f3a"
            ],
            [
             0.8888888888888888,
             "#fdca26"
            ],
            [
             1,
             "#f0f921"
            ]
           ]
          },
          "colorway": [
           "#636efa",
           "#EF553B",
           "#00cc96",
           "#ab63fa",
           "#FFA15A",
           "#19d3f3",
           "#FF6692",
           "#B6E880",
           "#FF97FF",
           "#FECB52"
          ],
          "font": {
           "color": "#2a3f5f"
          },
          "geo": {
           "bgcolor": "white",
           "lakecolor": "white",
           "landcolor": "#E5ECF6",
           "showlakes": true,
           "showland": true,
           "subunitcolor": "white"
          },
          "hoverlabel": {
           "align": "left"
          },
          "hovermode": "closest",
          "mapbox": {
           "style": "light"
          },
          "paper_bgcolor": "white",
          "plot_bgcolor": "#E5ECF6",
          "polar": {
           "angularaxis": {
            "gridcolor": "white",
            "linecolor": "white",
            "ticks": ""
           },
           "bgcolor": "#E5ECF6",
           "radialaxis": {
            "gridcolor": "white",
            "linecolor": "white",
            "ticks": ""
           }
          },
          "scene": {
           "xaxis": {
            "backgroundcolor": "#E5ECF6",
            "gridcolor": "white",
            "gridwidth": 2,
            "linecolor": "white",
            "showbackground": true,
            "ticks": "",
            "zerolinecolor": "white"
           },
           "yaxis": {
            "backgroundcolor": "#E5ECF6",
            "gridcolor": "white",
            "gridwidth": 2,
            "linecolor": "white",
            "showbackground": true,
            "ticks": "",
            "zerolinecolor": "white"
           },
           "zaxis": {
            "backgroundcolor": "#E5ECF6",
            "gridcolor": "white",
            "gridwidth": 2,
            "linecolor": "white",
            "showbackground": true,
            "ticks": "",
            "zerolinecolor": "white"
           }
          },
          "shapedefaults": {
           "line": {
            "color": "#2a3f5f"
           }
          },
          "ternary": {
           "aaxis": {
            "gridcolor": "white",
            "linecolor": "white",
            "ticks": ""
           },
           "baxis": {
            "gridcolor": "white",
            "linecolor": "white",
            "ticks": ""
           },
           "bgcolor": "#E5ECF6",
           "caxis": {
            "gridcolor": "white",
            "linecolor": "white",
            "ticks": ""
           }
          },
          "title": {
           "x": 0.05
          },
          "xaxis": {
           "automargin": true,
           "gridcolor": "white",
           "linecolor": "white",
           "ticks": "",
           "title": {
            "standoff": 15
           },
           "zerolinecolor": "white",
           "zerolinewidth": 2
          },
          "yaxis": {
           "automargin": true,
           "gridcolor": "white",
           "linecolor": "white",
           "ticks": "",
           "title": {
            "standoff": 15
           },
           "zerolinecolor": "white",
           "zerolinewidth": 2
          }
         }
        },
        "title": {
         "text": "Kaufbeträge nach Zahlungsmethode"
        },
        "xaxis": {
         "anchor": "y",
         "domain": [
          0,
          1
         ],
         "title": {
          "text": "payment method"
         }
        },
        "yaxis": {
         "anchor": "x",
         "domain": [
          0,
          1
         ],
         "title": {
          "text": "amount usd"
         }
        }
       }
      }
     },
     "metadata": {},
     "output_type": "display_data"
    }
   ],
   "source": [
    "# 8. Boxplot: Kaufbeträge nach Zahlungsmethode\n",
    "fig = px.box(df, x='payment method', y='amount usd',\n",
    "             title='Kaufbeträge nach Zahlungsmethode')\n",
    "fig.show()\n"
   ]
  }
 ],
 "metadata": {
  "kernelspec": {
   "display_name": ".venv",
   "language": "python",
   "name": "python3"
  },
  "language_info": {
   "codemirror_mode": {
    "name": "ipython",
    "version": 3
   },
   "file_extension": ".py",
   "mimetype": "text/x-python",
   "name": "python",
   "nbconvert_exporter": "python",
   "pygments_lexer": "ipython3",
   "version": "3.12.10"
  }
 },
 "nbformat": 4,
 "nbformat_minor": 5
}
